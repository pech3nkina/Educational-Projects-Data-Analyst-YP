{
 "cells": [
  {
   "cell_type": "markdown",
   "metadata": {
    "toc": true
   },
   "source": [
    "<h1>Table of Contents<span class=\"tocSkip\"></span></h1>\n",
    "<div class=\"toc\"><ul class=\"toc-item\"><li><span><a href=\"#Обзор-и-подготовка-данных\" data-toc-modified-id=\"Обзор-и-подготовка-данных-1\"><span class=\"toc-item-num\">1&nbsp;&nbsp;</span>Обзор и подготовка данных</a></span><ul class=\"toc-item\"><li><span><a href=\"#Информация-о-пользователях\" data-toc-modified-id=\"Информация-о-пользователях-1.1\"><span class=\"toc-item-num\">1.1&nbsp;&nbsp;</span>Информация о пользователях</a></span></li><li><span><a href=\"#Информация-о-звонках\" data-toc-modified-id=\"Информация-о-звонках-1.2\"><span class=\"toc-item-num\">1.2&nbsp;&nbsp;</span>Информация о звонках</a></span></li><li><span><a href=\"#Иформация-об-интернет-сессиях\" data-toc-modified-id=\"Иформация-об-интернет-сессиях-1.3\"><span class=\"toc-item-num\">1.3&nbsp;&nbsp;</span>Иформация об интернет-сессиях</a></span></li><li><span><a href=\"#Информация-о-сообщениях\" data-toc-modified-id=\"Информация-о-сообщениях-1.4\"><span class=\"toc-item-num\">1.4&nbsp;&nbsp;</span>Информация о сообщениях</a></span></li><li><span><a href=\"#Информация-о-тарифах\" data-toc-modified-id=\"Информация-о-тарифах-1.5\"><span class=\"toc-item-num\">1.5&nbsp;&nbsp;</span>Информация о тарифах</a></span></li></ul></li><li><span><a href=\"#Подготовка-данных\" data-toc-modified-id=\"Подготовка-данных-2\"><span class=\"toc-item-num\">2&nbsp;&nbsp;</span>Подготовка данных</a></span></li><li><span><a href=\"#Анализ-данных\" data-toc-modified-id=\"Анализ-данных-3\"><span class=\"toc-item-num\">3&nbsp;&nbsp;</span>Анализ данных</a></span><ul class=\"toc-item\"><li><span><a href=\"#Звонки,-интернет-и-сообщения-без-разделения-на-тарифы\" data-toc-modified-id=\"Звонки,-интернет-и-сообщения-без-разделения-на-тарифы-3.1\"><span class=\"toc-item-num\">3.1&nbsp;&nbsp;</span>Звонки, интернет и сообщения без разделения на тарифы</a></span><ul class=\"toc-item\"><li><span><a href=\"#Длина-звонков-в-месяц\" data-toc-modified-id=\"Длина-звонков-в-месяц-3.1.1\"><span class=\"toc-item-num\">3.1.1&nbsp;&nbsp;</span>Длина звонков в месяц</a></span></li><li><span><a href=\"#Объем-интернет-трафика-в-месяц\" data-toc-modified-id=\"Объем-интернет-трафика-в-месяц-3.1.2\"><span class=\"toc-item-num\">3.1.2&nbsp;&nbsp;</span>Объем интернет-трафика в месяц</a></span></li><li><span><a href=\"#СМС-Сообщения\" data-toc-modified-id=\"СМС-Сообщения-3.1.3\"><span class=\"toc-item-num\">3.1.3&nbsp;&nbsp;</span>СМС Сообщения</a></span></li><li><span><a href=\"#Расчет-общей-выручки\" data-toc-modified-id=\"Расчет-общей-выручки-3.1.4\"><span class=\"toc-item-num\">3.1.4&nbsp;&nbsp;</span>Расчет общей выручки</a></span></li></ul></li><li><span><a href=\"#Поведение-клиентов-по-месяцам\" data-toc-modified-id=\"Поведение-клиентов-по-месяцам-3.2\"><span class=\"toc-item-num\">3.2&nbsp;&nbsp;</span>Поведение клиентов по месяцам</a></span><ul class=\"toc-item\"><li><span><a href=\"#Длина-звонков\" data-toc-modified-id=\"Длина-звонков-3.2.1\"><span class=\"toc-item-num\">3.2.1&nbsp;&nbsp;</span>Длина звонков</a></span></li><li><span><a href=\"#Объем-интернет-трафика\" data-toc-modified-id=\"Объем-интернет-трафика-3.2.2\"><span class=\"toc-item-num\">3.2.2&nbsp;&nbsp;</span>Объем интернет-трафика</a></span></li><li><span><a href=\"#СМС-Сообщения\" data-toc-modified-id=\"СМС-Сообщения-3.2.3\"><span class=\"toc-item-num\">3.2.3&nbsp;&nbsp;</span>СМС Сообщения</a></span></li></ul></li></ul></li><li><span><a href=\"#Проверка-гипотез\" data-toc-modified-id=\"Проверка-гипотез-4\"><span class=\"toc-item-num\">4&nbsp;&nbsp;</span>Проверка гипотез</a></span><ul class=\"toc-item\"><li><span><a href=\"#Гипотеза-№1:--средняя-выручка-пользователей-тарифов-«Ультра»-и-«Смарт»-различаются\" data-toc-modified-id=\"Гипотеза-№1:--средняя-выручка-пользователей-тарифов-«Ультра»-и-«Смарт»-различаются-4.1\"><span class=\"toc-item-num\">4.1&nbsp;&nbsp;</span>Гипотеза №1:  средняя выручка пользователей тарифов «Ультра» и «Смарт» различаются</a></span></li><li><span><a href=\"#Гипотеза-№2:--средняя-выручка-пользователей-из-Москвы-отличается-от-выручки-пользователей-из-других-регионов\" data-toc-modified-id=\"Гипотеза-№2:--средняя-выручка-пользователей-из-Москвы-отличается-от-выручки-пользователей-из-других-регионов-4.2\"><span class=\"toc-item-num\">4.2&nbsp;&nbsp;</span>Гипотеза №2:  средняя выручка пользователей из Москвы отличается от выручки пользователей из других регионов</a></span></li></ul></li><li><span><a href=\"#Общий-вывод\" data-toc-modified-id=\"Общий-вывод-5\"><span class=\"toc-item-num\">5&nbsp;&nbsp;</span>Общий вывод</a></span></li></ul></div>"
   ]
  },
  {
   "cell_type": "markdown",
   "metadata": {},
   "source": [
    "# Определение выгодного тарифа для телеком компании\n",
    "\n",
    "\n",
    "Вы аналитик компании «Мегалайн» — федерального оператора сотовой связи. Клиентам предлагают два тарифных плана: «Смарт» и «Ультра». Чтобы скорректировать рекламный бюджет, коммерческий департамент хочет понять, какой тариф приносит больше денег.\n",
    "Вам предстоит сделать предварительный анализ тарифов на небольшой выборке клиентов. В вашем распоряжении данные 500 пользователей «Мегалайна»: кто они, откуда, каким тарифом пользуются, сколько звонков и сообщений каждый отправил за 2018 год. Нужно проанализировать поведение клиентов и сделать вывод — какой тариф лучше."
   ]
  },
  {
   "cell_type": "markdown",
   "metadata": {},
   "source": [
    "**Описание тарифов**\n",
    "\n",
    "*Тариф «Смарт»*\n",
    "\n",
    "1. Ежемесячная плата: 550 рублей\n",
    "2. Включено 500 минут разговора, 50 сообщений и 15 Гб интернет-трафика\n",
    "3. Стоимость услуг сверх тарифного пакета:\n",
    "* минута разговора: 3 рубля\n",
    "* сообщение: 3 рубля\n",
    "* 1 Гб интернет-трафика: 200 рублей\n",
    "\n",
    "*Тариф «Ультра»*\n",
    "\n",
    "1. Ежемесячная плата: 1950 рублей\n",
    "2. Включено 3000 минут разговора, 1000 сообщений и 30 Гб интернет-трафика\n",
    "3. Стоимость услуг сверх тарифного пакета:\n",
    "* минута разговора: 1 рубль\n",
    "* сообщение: 1 рубль\n",
    "* 1 Гб интернет-трафика: 150 рублей"
   ]
  },
  {
   "cell_type": "markdown",
   "metadata": {},
   "source": [
    "`Примечание:`\n",
    "\n",
    "`«Мегалайн» всегда округляет секунды до минут, а мегабайты — до гигабайт. Каждый звонок округляется отдельно: даже если он длился всего 1 секунду, будет засчитан как 1 минута.`\n",
    "\n",
    "`Для веб-трафика отдельные сессии не считаются. Вместо этого общая сумма за месяц округляется в бо́льшую сторону. Если абонент использует 1025 мегабайт в этом месяце, с него возьмут плату за 2 гигабайта.`"
   ]
  },
  {
   "cell_type": "markdown",
   "metadata": {},
   "source": [
    "## Обзор и подготовка данных"
   ]
  },
  {
   "cell_type": "code",
   "execution_count": 1,
   "metadata": {},
   "outputs": [],
   "source": [
    "import pandas as pd\n",
    "import numpy as np\n",
    "import seaborn as sns\n",
    "import matplotlib.pyplot as plt\n",
    "from scipy import stats as st "
   ]
  },
  {
   "cell_type": "markdown",
   "metadata": {},
   "source": [
    "Откроем несколько файлов, поменяем тип данных в нескольких столбцах."
   ]
  },
  {
   "cell_type": "markdown",
   "metadata": {},
   "source": [
    "### Информация о пользователях"
   ]
  },
  {
   "cell_type": "code",
   "execution_count": 2,
   "metadata": {},
   "outputs": [],
   "source": [
    "users = pd.read_csv('/datasets/users.csv')#чтение файла"
   ]
  },
  {
   "cell_type": "code",
   "execution_count": 3,
   "metadata": {},
   "outputs": [
    {
     "data": {
      "text/html": [
       "<div>\n",
       "<style scoped>\n",
       "    .dataframe tbody tr th:only-of-type {\n",
       "        vertical-align: middle;\n",
       "    }\n",
       "\n",
       "    .dataframe tbody tr th {\n",
       "        vertical-align: top;\n",
       "    }\n",
       "\n",
       "    .dataframe thead th {\n",
       "        text-align: right;\n",
       "    }\n",
       "</style>\n",
       "<table border=\"1\" class=\"dataframe\">\n",
       "  <thead>\n",
       "    <tr style=\"text-align: right;\">\n",
       "      <th></th>\n",
       "      <th>user_id</th>\n",
       "      <th>age</th>\n",
       "      <th>churn_date</th>\n",
       "      <th>city</th>\n",
       "      <th>first_name</th>\n",
       "      <th>last_name</th>\n",
       "      <th>reg_date</th>\n",
       "      <th>tariff</th>\n",
       "    </tr>\n",
       "  </thead>\n",
       "  <tbody>\n",
       "    <tr>\n",
       "      <th>0</th>\n",
       "      <td>1000</td>\n",
       "      <td>52</td>\n",
       "      <td>NaN</td>\n",
       "      <td>Краснодар</td>\n",
       "      <td>Рафаил</td>\n",
       "      <td>Верещагин</td>\n",
       "      <td>2018-05-25</td>\n",
       "      <td>ultra</td>\n",
       "    </tr>\n",
       "    <tr>\n",
       "      <th>1</th>\n",
       "      <td>1001</td>\n",
       "      <td>41</td>\n",
       "      <td>NaN</td>\n",
       "      <td>Москва</td>\n",
       "      <td>Иван</td>\n",
       "      <td>Ежов</td>\n",
       "      <td>2018-11-01</td>\n",
       "      <td>smart</td>\n",
       "    </tr>\n",
       "    <tr>\n",
       "      <th>2</th>\n",
       "      <td>1002</td>\n",
       "      <td>59</td>\n",
       "      <td>NaN</td>\n",
       "      <td>Стерлитамак</td>\n",
       "      <td>Евгений</td>\n",
       "      <td>Абрамович</td>\n",
       "      <td>2018-06-17</td>\n",
       "      <td>smart</td>\n",
       "    </tr>\n",
       "    <tr>\n",
       "      <th>3</th>\n",
       "      <td>1003</td>\n",
       "      <td>23</td>\n",
       "      <td>NaN</td>\n",
       "      <td>Москва</td>\n",
       "      <td>Белла</td>\n",
       "      <td>Белякова</td>\n",
       "      <td>2018-08-17</td>\n",
       "      <td>ultra</td>\n",
       "    </tr>\n",
       "    <tr>\n",
       "      <th>4</th>\n",
       "      <td>1004</td>\n",
       "      <td>68</td>\n",
       "      <td>NaN</td>\n",
       "      <td>Новокузнецк</td>\n",
       "      <td>Татьяна</td>\n",
       "      <td>Авдеенко</td>\n",
       "      <td>2018-05-14</td>\n",
       "      <td>ultra</td>\n",
       "    </tr>\n",
       "  </tbody>\n",
       "</table>\n",
       "</div>"
      ],
      "text/plain": [
       "   user_id  age churn_date         city first_name  last_name    reg_date  \\\n",
       "0     1000   52        NaN    Краснодар     Рафаил  Верещагин  2018-05-25   \n",
       "1     1001   41        NaN       Москва       Иван       Ежов  2018-11-01   \n",
       "2     1002   59        NaN  Стерлитамак    Евгений  Абрамович  2018-06-17   \n",
       "3     1003   23        NaN       Москва      Белла   Белякова  2018-08-17   \n",
       "4     1004   68        NaN  Новокузнецк    Татьяна   Авдеенко  2018-05-14   \n",
       "\n",
       "  tariff  \n",
       "0  ultra  \n",
       "1  smart  \n",
       "2  smart  \n",
       "3  ultra  \n",
       "4  ultra  "
      ]
     },
     "execution_count": 3,
     "metadata": {},
     "output_type": "execute_result"
    }
   ],
   "source": [
    "users.head()"
   ]
  },
  {
   "cell_type": "code",
   "execution_count": 4,
   "metadata": {},
   "outputs": [
    {
     "name": "stdout",
     "output_type": "stream",
     "text": [
      "<class 'pandas.core.frame.DataFrame'>\n",
      "RangeIndex: 500 entries, 0 to 499\n",
      "Data columns (total 8 columns):\n",
      " #   Column      Non-Null Count  Dtype \n",
      "---  ------      --------------  ----- \n",
      " 0   user_id     500 non-null    int64 \n",
      " 1   age         500 non-null    int64 \n",
      " 2   churn_date  38 non-null     object\n",
      " 3   city        500 non-null    object\n",
      " 4   first_name  500 non-null    object\n",
      " 5   last_name   500 non-null    object\n",
      " 6   reg_date    500 non-null    object\n",
      " 7   tariff      500 non-null    object\n",
      "dtypes: int64(2), object(6)\n",
      "memory usage: 31.4+ KB\n"
     ]
    }
   ],
   "source": [
    "users.info()"
   ]
  },
  {
   "cell_type": "markdown",
   "metadata": {},
   "source": [
    "***Таблица `users` (информация о пользователях):***\n",
    "\n",
    "* `user_id` — уникальный идентификатор пользователя\n",
    "* `first_name` — имя пользователя\n",
    "* `last_name` — фамилия пользователя\n",
    "* `age` — возраст пользователя (годы)\n",
    "* `reg_date` — дата подключения тарифа (день, месяц, год)\n",
    "* `churn_date` — дата прекращения пользования тарифом (если значение пропущено, то тариф ещё действовал на момент выгрузки данных)\n",
    "* `city` — город проживания пользователя\n",
    "* `tariff` — название тарифного плана"
   ]
  },
  {
   "cell_type": "markdown",
   "metadata": {},
   "source": [
    "Поменяем тип данных в столбце `reg_date`"
   ]
  },
  {
   "cell_type": "code",
   "execution_count": 5,
   "metadata": {},
   "outputs": [],
   "source": [
    "users['reg_date'] = pd.to_datetime(users['reg_date'])"
   ]
  },
  {
   "cell_type": "markdown",
   "metadata": {},
   "source": [
    "### Информация о звонках"
   ]
  },
  {
   "cell_type": "code",
   "execution_count": 6,
   "metadata": {},
   "outputs": [],
   "source": [
    "calls = pd.read_csv('/datasets/calls.csv')#чтение файла"
   ]
  },
  {
   "cell_type": "code",
   "execution_count": 7,
   "metadata": {},
   "outputs": [
    {
     "data": {
      "text/html": [
       "<div>\n",
       "<style scoped>\n",
       "    .dataframe tbody tr th:only-of-type {\n",
       "        vertical-align: middle;\n",
       "    }\n",
       "\n",
       "    .dataframe tbody tr th {\n",
       "        vertical-align: top;\n",
       "    }\n",
       "\n",
       "    .dataframe thead th {\n",
       "        text-align: right;\n",
       "    }\n",
       "</style>\n",
       "<table border=\"1\" class=\"dataframe\">\n",
       "  <thead>\n",
       "    <tr style=\"text-align: right;\">\n",
       "      <th></th>\n",
       "      <th>id</th>\n",
       "      <th>call_date</th>\n",
       "      <th>duration</th>\n",
       "      <th>user_id</th>\n",
       "    </tr>\n",
       "  </thead>\n",
       "  <tbody>\n",
       "    <tr>\n",
       "      <th>0</th>\n",
       "      <td>1000_0</td>\n",
       "      <td>2018-07-25</td>\n",
       "      <td>0.00</td>\n",
       "      <td>1000</td>\n",
       "    </tr>\n",
       "    <tr>\n",
       "      <th>1</th>\n",
       "      <td>1000_1</td>\n",
       "      <td>2018-08-17</td>\n",
       "      <td>0.00</td>\n",
       "      <td>1000</td>\n",
       "    </tr>\n",
       "    <tr>\n",
       "      <th>2</th>\n",
       "      <td>1000_2</td>\n",
       "      <td>2018-06-11</td>\n",
       "      <td>2.85</td>\n",
       "      <td>1000</td>\n",
       "    </tr>\n",
       "    <tr>\n",
       "      <th>3</th>\n",
       "      <td>1000_3</td>\n",
       "      <td>2018-09-21</td>\n",
       "      <td>13.80</td>\n",
       "      <td>1000</td>\n",
       "    </tr>\n",
       "    <tr>\n",
       "      <th>4</th>\n",
       "      <td>1000_4</td>\n",
       "      <td>2018-12-15</td>\n",
       "      <td>5.18</td>\n",
       "      <td>1000</td>\n",
       "    </tr>\n",
       "  </tbody>\n",
       "</table>\n",
       "</div>"
      ],
      "text/plain": [
       "       id   call_date  duration  user_id\n",
       "0  1000_0  2018-07-25      0.00     1000\n",
       "1  1000_1  2018-08-17      0.00     1000\n",
       "2  1000_2  2018-06-11      2.85     1000\n",
       "3  1000_3  2018-09-21     13.80     1000\n",
       "4  1000_4  2018-12-15      5.18     1000"
      ]
     },
     "execution_count": 7,
     "metadata": {},
     "output_type": "execute_result"
    }
   ],
   "source": [
    "calls.head()"
   ]
  },
  {
   "cell_type": "code",
   "execution_count": 8,
   "metadata": {},
   "outputs": [
    {
     "name": "stdout",
     "output_type": "stream",
     "text": [
      "<class 'pandas.core.frame.DataFrame'>\n",
      "RangeIndex: 202607 entries, 0 to 202606\n",
      "Data columns (total 4 columns):\n",
      " #   Column     Non-Null Count   Dtype  \n",
      "---  ------     --------------   -----  \n",
      " 0   id         202607 non-null  object \n",
      " 1   call_date  202607 non-null  object \n",
      " 2   duration   202607 non-null  float64\n",
      " 3   user_id    202607 non-null  int64  \n",
      "dtypes: float64(1), int64(1), object(2)\n",
      "memory usage: 6.2+ MB\n"
     ]
    }
   ],
   "source": [
    "calls.info()# общая информация о таблице"
   ]
  },
  {
   "cell_type": "markdown",
   "metadata": {},
   "source": [
    "***Таблица `calls` (информация о звонках):***\n",
    "\n",
    "* `id` — уникальный номер звонка\n",
    "* `call_date` — дата звонка\n",
    "* `duration` — длительность звонка в минутах\n",
    "* `user_id` — идентификатор пользователя, сделавшего звонок"
   ]
  },
  {
   "cell_type": "markdown",
   "metadata": {},
   "source": [
    "Добавим в таблицу столбец с номерами месяца для каждого звонка и округлим длительность звонков в большую сторону"
   ]
  },
  {
   "cell_type": "code",
   "execution_count": 9,
   "metadata": {},
   "outputs": [
    {
     "data": {
      "text/html": [
       "<div>\n",
       "<style scoped>\n",
       "    .dataframe tbody tr th:only-of-type {\n",
       "        vertical-align: middle;\n",
       "    }\n",
       "\n",
       "    .dataframe tbody tr th {\n",
       "        vertical-align: top;\n",
       "    }\n",
       "\n",
       "    .dataframe thead th {\n",
       "        text-align: right;\n",
       "    }\n",
       "</style>\n",
       "<table border=\"1\" class=\"dataframe\">\n",
       "  <thead>\n",
       "    <tr style=\"text-align: right;\">\n",
       "      <th></th>\n",
       "      <th>id</th>\n",
       "      <th>call_date</th>\n",
       "      <th>duration</th>\n",
       "      <th>user_id</th>\n",
       "      <th>month</th>\n",
       "    </tr>\n",
       "  </thead>\n",
       "  <tbody>\n",
       "    <tr>\n",
       "      <th>0</th>\n",
       "      <td>1000_0</td>\n",
       "      <td>2018-07-25</td>\n",
       "      <td>0.0</td>\n",
       "      <td>1000</td>\n",
       "      <td>7</td>\n",
       "    </tr>\n",
       "    <tr>\n",
       "      <th>1</th>\n",
       "      <td>1000_1</td>\n",
       "      <td>2018-08-17</td>\n",
       "      <td>0.0</td>\n",
       "      <td>1000</td>\n",
       "      <td>8</td>\n",
       "    </tr>\n",
       "    <tr>\n",
       "      <th>2</th>\n",
       "      <td>1000_2</td>\n",
       "      <td>2018-06-11</td>\n",
       "      <td>3.0</td>\n",
       "      <td>1000</td>\n",
       "      <td>6</td>\n",
       "    </tr>\n",
       "    <tr>\n",
       "      <th>3</th>\n",
       "      <td>1000_3</td>\n",
       "      <td>2018-09-21</td>\n",
       "      <td>14.0</td>\n",
       "      <td>1000</td>\n",
       "      <td>9</td>\n",
       "    </tr>\n",
       "    <tr>\n",
       "      <th>4</th>\n",
       "      <td>1000_4</td>\n",
       "      <td>2018-12-15</td>\n",
       "      <td>6.0</td>\n",
       "      <td>1000</td>\n",
       "      <td>12</td>\n",
       "    </tr>\n",
       "  </tbody>\n",
       "</table>\n",
       "</div>"
      ],
      "text/plain": [
       "       id  call_date  duration  user_id  month\n",
       "0  1000_0 2018-07-25       0.0     1000      7\n",
       "1  1000_1 2018-08-17       0.0     1000      8\n",
       "2  1000_2 2018-06-11       3.0     1000      6\n",
       "3  1000_3 2018-09-21      14.0     1000      9\n",
       "4  1000_4 2018-12-15       6.0     1000     12"
      ]
     },
     "execution_count": 9,
     "metadata": {},
     "output_type": "execute_result"
    }
   ],
   "source": [
    "calls['call_date'] = pd.to_datetime(calls['call_date'])\n",
    "calls['month'] = calls['call_date'].dt.month\n",
    "calls['duration'] = np.ceil(calls['duration'])    \n",
    "calls.head()"
   ]
  },
  {
   "cell_type": "markdown",
   "metadata": {},
   "source": [
    "Сгруппируем данные по уникальному номеру клиента и месяцу"
   ]
  },
  {
   "cell_type": "code",
   "execution_count": 10,
   "metadata": {},
   "outputs": [
    {
     "data": {
      "text/html": [
       "<div>\n",
       "<style scoped>\n",
       "    .dataframe tbody tr th:only-of-type {\n",
       "        vertical-align: middle;\n",
       "    }\n",
       "\n",
       "    .dataframe tbody tr th {\n",
       "        vertical-align: top;\n",
       "    }\n",
       "\n",
       "    .dataframe thead th {\n",
       "        text-align: right;\n",
       "    }\n",
       "</style>\n",
       "<table border=\"1\" class=\"dataframe\">\n",
       "  <thead>\n",
       "    <tr style=\"text-align: right;\">\n",
       "      <th></th>\n",
       "      <th>user_id</th>\n",
       "      <th>month</th>\n",
       "      <th>calls_count</th>\n",
       "      <th>calls_duration</th>\n",
       "    </tr>\n",
       "  </thead>\n",
       "  <tbody>\n",
       "    <tr>\n",
       "      <th>0</th>\n",
       "      <td>1000</td>\n",
       "      <td>5</td>\n",
       "      <td>22</td>\n",
       "      <td>159</td>\n",
       "    </tr>\n",
       "    <tr>\n",
       "      <th>1</th>\n",
       "      <td>1000</td>\n",
       "      <td>6</td>\n",
       "      <td>43</td>\n",
       "      <td>172</td>\n",
       "    </tr>\n",
       "    <tr>\n",
       "      <th>2</th>\n",
       "      <td>1000</td>\n",
       "      <td>7</td>\n",
       "      <td>47</td>\n",
       "      <td>340</td>\n",
       "    </tr>\n",
       "    <tr>\n",
       "      <th>3</th>\n",
       "      <td>1000</td>\n",
       "      <td>8</td>\n",
       "      <td>52</td>\n",
       "      <td>408</td>\n",
       "    </tr>\n",
       "    <tr>\n",
       "      <th>4</th>\n",
       "      <td>1000</td>\n",
       "      <td>9</td>\n",
       "      <td>58</td>\n",
       "      <td>466</td>\n",
       "    </tr>\n",
       "  </tbody>\n",
       "</table>\n",
       "</div>"
      ],
      "text/plain": [
       "   user_id  month  calls_count  calls_duration\n",
       "0     1000      5           22             159\n",
       "1     1000      6           43             172\n",
       "2     1000      7           47             340\n",
       "3     1000      8           52             408\n",
       "4     1000      9           58             466"
      ]
     },
     "execution_count": 10,
     "metadata": {},
     "output_type": "execute_result"
    }
   ],
   "source": [
    "calls_g = calls.groupby(['user_id', 'month']).agg({'id':'count', 'duration':'sum'})\\\n",
    ".reset_index().rename(columns= {'id':'calls_count', 'duration':'calls_duration'})\n",
    "calls_g['calls_duration'] = calls_g['calls_duration'].astype('int')\n",
    "calls_g.head()"
   ]
  },
  {
   "cell_type": "markdown",
   "metadata": {},
   "source": [
    "### Иформация об интернет-сессиях"
   ]
  },
  {
   "cell_type": "code",
   "execution_count": 11,
   "metadata": {},
   "outputs": [],
   "source": [
    "internet = pd.read_csv('/datasets/internet.csv')#чтение файла"
   ]
  },
  {
   "cell_type": "code",
   "execution_count": 12,
   "metadata": {},
   "outputs": [
    {
     "data": {
      "text/html": [
       "<div>\n",
       "<style scoped>\n",
       "    .dataframe tbody tr th:only-of-type {\n",
       "        vertical-align: middle;\n",
       "    }\n",
       "\n",
       "    .dataframe tbody tr th {\n",
       "        vertical-align: top;\n",
       "    }\n",
       "\n",
       "    .dataframe thead th {\n",
       "        text-align: right;\n",
       "    }\n",
       "</style>\n",
       "<table border=\"1\" class=\"dataframe\">\n",
       "  <thead>\n",
       "    <tr style=\"text-align: right;\">\n",
       "      <th></th>\n",
       "      <th>Unnamed: 0</th>\n",
       "      <th>id</th>\n",
       "      <th>mb_used</th>\n",
       "      <th>session_date</th>\n",
       "      <th>user_id</th>\n",
       "    </tr>\n",
       "  </thead>\n",
       "  <tbody>\n",
       "    <tr>\n",
       "      <th>0</th>\n",
       "      <td>0</td>\n",
       "      <td>1000_0</td>\n",
       "      <td>112.95</td>\n",
       "      <td>2018-11-25</td>\n",
       "      <td>1000</td>\n",
       "    </tr>\n",
       "    <tr>\n",
       "      <th>1</th>\n",
       "      <td>1</td>\n",
       "      <td>1000_1</td>\n",
       "      <td>1052.81</td>\n",
       "      <td>2018-09-07</td>\n",
       "      <td>1000</td>\n",
       "    </tr>\n",
       "    <tr>\n",
       "      <th>2</th>\n",
       "      <td>2</td>\n",
       "      <td>1000_2</td>\n",
       "      <td>1197.26</td>\n",
       "      <td>2018-06-25</td>\n",
       "      <td>1000</td>\n",
       "    </tr>\n",
       "    <tr>\n",
       "      <th>3</th>\n",
       "      <td>3</td>\n",
       "      <td>1000_3</td>\n",
       "      <td>550.27</td>\n",
       "      <td>2018-08-22</td>\n",
       "      <td>1000</td>\n",
       "    </tr>\n",
       "    <tr>\n",
       "      <th>4</th>\n",
       "      <td>4</td>\n",
       "      <td>1000_4</td>\n",
       "      <td>302.56</td>\n",
       "      <td>2018-09-24</td>\n",
       "      <td>1000</td>\n",
       "    </tr>\n",
       "  </tbody>\n",
       "</table>\n",
       "</div>"
      ],
      "text/plain": [
       "   Unnamed: 0      id  mb_used session_date  user_id\n",
       "0           0  1000_0   112.95   2018-11-25     1000\n",
       "1           1  1000_1  1052.81   2018-09-07     1000\n",
       "2           2  1000_2  1197.26   2018-06-25     1000\n",
       "3           3  1000_3   550.27   2018-08-22     1000\n",
       "4           4  1000_4   302.56   2018-09-24     1000"
      ]
     },
     "execution_count": 12,
     "metadata": {},
     "output_type": "execute_result"
    }
   ],
   "source": [
    "internet.head()"
   ]
  },
  {
   "cell_type": "code",
   "execution_count": 13,
   "metadata": {},
   "outputs": [
    {
     "name": "stdout",
     "output_type": "stream",
     "text": [
      "<class 'pandas.core.frame.DataFrame'>\n",
      "RangeIndex: 149396 entries, 0 to 149395\n",
      "Data columns (total 5 columns):\n",
      " #   Column        Non-Null Count   Dtype  \n",
      "---  ------        --------------   -----  \n",
      " 0   Unnamed: 0    149396 non-null  int64  \n",
      " 1   id            149396 non-null  object \n",
      " 2   mb_used       149396 non-null  float64\n",
      " 3   session_date  149396 non-null  object \n",
      " 4   user_id       149396 non-null  int64  \n",
      "dtypes: float64(1), int64(2), object(2)\n",
      "memory usage: 5.7+ MB\n"
     ]
    }
   ],
   "source": [
    "internet.info()# общая информация о таблице"
   ]
  },
  {
   "cell_type": "markdown",
   "metadata": {},
   "source": [
    "***Таблица `internet` (информация об интернет-сессиях):***\n",
    "\n",
    "* `id` — уникальный номер сессии\n",
    "* `mb_used` — объём потраченного за сессию интернет-трафика (в мегабайтах)\n",
    "* `session_date` — дата интернет-сессии\n",
    "* `user_id` — идентификатор пользователя"
   ]
  },
  {
   "cell_type": "markdown",
   "metadata": {},
   "source": [
    "Добавим столбец с номером месяца, сгруппируем по номеру месяца и уникальному номеру пользователя, затем перведем МБ в ГБ и огруглим в большую сторону. "
   ]
  },
  {
   "cell_type": "code",
   "execution_count": 14,
   "metadata": {},
   "outputs": [],
   "source": [
    "internet['session_date'] = pd.to_datetime(internet['session_date'])\n",
    "internet['month'] = internet['session_date'].dt.month"
   ]
  },
  {
   "cell_type": "code",
   "execution_count": 15,
   "metadata": {},
   "outputs": [
    {
     "data": {
      "text/html": [
       "<div>\n",
       "<style scoped>\n",
       "    .dataframe tbody tr th:only-of-type {\n",
       "        vertical-align: middle;\n",
       "    }\n",
       "\n",
       "    .dataframe tbody tr th {\n",
       "        vertical-align: top;\n",
       "    }\n",
       "\n",
       "    .dataframe thead th {\n",
       "        text-align: right;\n",
       "    }\n",
       "</style>\n",
       "<table border=\"1\" class=\"dataframe\">\n",
       "  <thead>\n",
       "    <tr style=\"text-align: right;\">\n",
       "      <th></th>\n",
       "      <th>user_id</th>\n",
       "      <th>month</th>\n",
       "      <th>session_count</th>\n",
       "      <th>gb_used</th>\n",
       "    </tr>\n",
       "  </thead>\n",
       "  <tbody>\n",
       "    <tr>\n",
       "      <th>0</th>\n",
       "      <td>1000</td>\n",
       "      <td>5</td>\n",
       "      <td>5</td>\n",
       "      <td>3</td>\n",
       "    </tr>\n",
       "    <tr>\n",
       "      <th>1</th>\n",
       "      <td>1000</td>\n",
       "      <td>6</td>\n",
       "      <td>49</td>\n",
       "      <td>23</td>\n",
       "    </tr>\n",
       "    <tr>\n",
       "      <th>2</th>\n",
       "      <td>1000</td>\n",
       "      <td>7</td>\n",
       "      <td>29</td>\n",
       "      <td>14</td>\n",
       "    </tr>\n",
       "    <tr>\n",
       "      <th>3</th>\n",
       "      <td>1000</td>\n",
       "      <td>8</td>\n",
       "      <td>29</td>\n",
       "      <td>14</td>\n",
       "    </tr>\n",
       "    <tr>\n",
       "      <th>4</th>\n",
       "      <td>1000</td>\n",
       "      <td>9</td>\n",
       "      <td>27</td>\n",
       "      <td>15</td>\n",
       "    </tr>\n",
       "  </tbody>\n",
       "</table>\n",
       "</div>"
      ],
      "text/plain": [
       "   user_id  month  session_count  gb_used\n",
       "0     1000      5              5        3\n",
       "1     1000      6             49       23\n",
       "2     1000      7             29       14\n",
       "3     1000      8             29       14\n",
       "4     1000      9             27       15"
      ]
     },
     "execution_count": 15,
     "metadata": {},
     "output_type": "execute_result"
    }
   ],
   "source": [
    "internet_g = internet.groupby(['user_id', 'month']).agg({'id':'count', 'mb_used':'sum'})\\\n",
    ".reset_index().rename(columns= {'id':'session_count', 'mb_used':'gb_used'})\n",
    "internet_g['gb_used'] = internet_g['gb_used'] / 1024\n",
    "internet_g['gb_used'] = internet_g['gb_used'].apply(np.ceil)\n",
    "internet_g['gb_used'] = internet_g['gb_used'].astype('int')\n",
    "internet_g.head()"
   ]
  },
  {
   "cell_type": "markdown",
   "metadata": {},
   "source": [
    "### Информация о сообщениях"
   ]
  },
  {
   "cell_type": "code",
   "execution_count": 16,
   "metadata": {},
   "outputs": [],
   "source": [
    "messages = pd.read_csv('/datasets/messages.csv')#чтение файла"
   ]
  },
  {
   "cell_type": "code",
   "execution_count": 17,
   "metadata": {},
   "outputs": [
    {
     "data": {
      "text/html": [
       "<div>\n",
       "<style scoped>\n",
       "    .dataframe tbody tr th:only-of-type {\n",
       "        vertical-align: middle;\n",
       "    }\n",
       "\n",
       "    .dataframe tbody tr th {\n",
       "        vertical-align: top;\n",
       "    }\n",
       "\n",
       "    .dataframe thead th {\n",
       "        text-align: right;\n",
       "    }\n",
       "</style>\n",
       "<table border=\"1\" class=\"dataframe\">\n",
       "  <thead>\n",
       "    <tr style=\"text-align: right;\">\n",
       "      <th></th>\n",
       "      <th>id</th>\n",
       "      <th>message_date</th>\n",
       "      <th>user_id</th>\n",
       "    </tr>\n",
       "  </thead>\n",
       "  <tbody>\n",
       "    <tr>\n",
       "      <th>0</th>\n",
       "      <td>1000_0</td>\n",
       "      <td>2018-06-27</td>\n",
       "      <td>1000</td>\n",
       "    </tr>\n",
       "    <tr>\n",
       "      <th>1</th>\n",
       "      <td>1000_1</td>\n",
       "      <td>2018-10-08</td>\n",
       "      <td>1000</td>\n",
       "    </tr>\n",
       "    <tr>\n",
       "      <th>2</th>\n",
       "      <td>1000_2</td>\n",
       "      <td>2018-08-04</td>\n",
       "      <td>1000</td>\n",
       "    </tr>\n",
       "    <tr>\n",
       "      <th>3</th>\n",
       "      <td>1000_3</td>\n",
       "      <td>2018-06-16</td>\n",
       "      <td>1000</td>\n",
       "    </tr>\n",
       "    <tr>\n",
       "      <th>4</th>\n",
       "      <td>1000_4</td>\n",
       "      <td>2018-12-05</td>\n",
       "      <td>1000</td>\n",
       "    </tr>\n",
       "  </tbody>\n",
       "</table>\n",
       "</div>"
      ],
      "text/plain": [
       "       id message_date  user_id\n",
       "0  1000_0   2018-06-27     1000\n",
       "1  1000_1   2018-10-08     1000\n",
       "2  1000_2   2018-08-04     1000\n",
       "3  1000_3   2018-06-16     1000\n",
       "4  1000_4   2018-12-05     1000"
      ]
     },
     "execution_count": 17,
     "metadata": {},
     "output_type": "execute_result"
    }
   ],
   "source": [
    "messages.head()"
   ]
  },
  {
   "cell_type": "code",
   "execution_count": 18,
   "metadata": {},
   "outputs": [
    {
     "name": "stdout",
     "output_type": "stream",
     "text": [
      "<class 'pandas.core.frame.DataFrame'>\n",
      "RangeIndex: 123036 entries, 0 to 123035\n",
      "Data columns (total 3 columns):\n",
      " #   Column        Non-Null Count   Dtype \n",
      "---  ------        --------------   ----- \n",
      " 0   id            123036 non-null  object\n",
      " 1   message_date  123036 non-null  object\n",
      " 2   user_id       123036 non-null  int64 \n",
      "dtypes: int64(1), object(2)\n",
      "memory usage: 2.8+ MB\n"
     ]
    }
   ],
   "source": [
    "messages.info()# общая информация о таблице"
   ]
  },
  {
   "cell_type": "markdown",
   "metadata": {},
   "source": [
    "***Таблица `messages` (информация о сообщениях):***\n",
    "\n",
    "* `id` — уникальный номер сообщения\n",
    "* `message_date` — дата сообщения\n",
    "* `user_id` — идентификатор пользователя, отправившего сообщение"
   ]
  },
  {
   "cell_type": "markdown",
   "metadata": {},
   "source": [
    "Добавим столбец с номером месяца и сгруппируем по номеру месяца и идентификатору пользователя."
   ]
  },
  {
   "cell_type": "code",
   "execution_count": 19,
   "metadata": {},
   "outputs": [],
   "source": [
    "messages['message_date'] = pd.to_datetime(messages['message_date'])\n",
    "messages['month'] = messages['message_date'].dt.month"
   ]
  },
  {
   "cell_type": "code",
   "execution_count": 20,
   "metadata": {},
   "outputs": [
    {
     "data": {
      "text/html": [
       "<div>\n",
       "<style scoped>\n",
       "    .dataframe tbody tr th:only-of-type {\n",
       "        vertical-align: middle;\n",
       "    }\n",
       "\n",
       "    .dataframe tbody tr th {\n",
       "        vertical-align: top;\n",
       "    }\n",
       "\n",
       "    .dataframe thead th {\n",
       "        text-align: right;\n",
       "    }\n",
       "</style>\n",
       "<table border=\"1\" class=\"dataframe\">\n",
       "  <thead>\n",
       "    <tr style=\"text-align: right;\">\n",
       "      <th></th>\n",
       "      <th>user_id</th>\n",
       "      <th>month</th>\n",
       "      <th>messages_count</th>\n",
       "    </tr>\n",
       "  </thead>\n",
       "  <tbody>\n",
       "    <tr>\n",
       "      <th>0</th>\n",
       "      <td>1000</td>\n",
       "      <td>5</td>\n",
       "      <td>22</td>\n",
       "    </tr>\n",
       "    <tr>\n",
       "      <th>1</th>\n",
       "      <td>1000</td>\n",
       "      <td>6</td>\n",
       "      <td>60</td>\n",
       "    </tr>\n",
       "    <tr>\n",
       "      <th>2</th>\n",
       "      <td>1000</td>\n",
       "      <td>7</td>\n",
       "      <td>75</td>\n",
       "    </tr>\n",
       "    <tr>\n",
       "      <th>3</th>\n",
       "      <td>1000</td>\n",
       "      <td>8</td>\n",
       "      <td>81</td>\n",
       "    </tr>\n",
       "    <tr>\n",
       "      <th>4</th>\n",
       "      <td>1000</td>\n",
       "      <td>9</td>\n",
       "      <td>57</td>\n",
       "    </tr>\n",
       "  </tbody>\n",
       "</table>\n",
       "</div>"
      ],
      "text/plain": [
       "   user_id  month  messages_count\n",
       "0     1000      5              22\n",
       "1     1000      6              60\n",
       "2     1000      7              75\n",
       "3     1000      8              81\n",
       "4     1000      9              57"
      ]
     },
     "execution_count": 20,
     "metadata": {},
     "output_type": "execute_result"
    }
   ],
   "source": [
    "messages_g = messages.groupby(['user_id', 'month']).agg({'id':'count'})\\\n",
    ".reset_index().rename(columns= {'id':'messages_count'})\n",
    "messages_g.head()\n"
   ]
  },
  {
   "cell_type": "markdown",
   "metadata": {},
   "source": [
    "### Информация о тарифах"
   ]
  },
  {
   "cell_type": "code",
   "execution_count": 21,
   "metadata": {},
   "outputs": [],
   "source": [
    "tariffs = pd.read_csv('/datasets/tariffs.csv')#чтение файла"
   ]
  },
  {
   "cell_type": "code",
   "execution_count": 22,
   "metadata": {},
   "outputs": [
    {
     "data": {
      "text/html": [
       "<div>\n",
       "<style scoped>\n",
       "    .dataframe tbody tr th:only-of-type {\n",
       "        vertical-align: middle;\n",
       "    }\n",
       "\n",
       "    .dataframe tbody tr th {\n",
       "        vertical-align: top;\n",
       "    }\n",
       "\n",
       "    .dataframe thead th {\n",
       "        text-align: right;\n",
       "    }\n",
       "</style>\n",
       "<table border=\"1\" class=\"dataframe\">\n",
       "  <thead>\n",
       "    <tr style=\"text-align: right;\">\n",
       "      <th></th>\n",
       "      <th>messages_included</th>\n",
       "      <th>mb_per_month_included</th>\n",
       "      <th>minutes_included</th>\n",
       "      <th>rub_monthly_fee</th>\n",
       "      <th>rub_per_gb</th>\n",
       "      <th>rub_per_message</th>\n",
       "      <th>rub_per_minute</th>\n",
       "      <th>tariff_name</th>\n",
       "    </tr>\n",
       "  </thead>\n",
       "  <tbody>\n",
       "    <tr>\n",
       "      <th>0</th>\n",
       "      <td>50</td>\n",
       "      <td>15360</td>\n",
       "      <td>500</td>\n",
       "      <td>550</td>\n",
       "      <td>200</td>\n",
       "      <td>3</td>\n",
       "      <td>3</td>\n",
       "      <td>smart</td>\n",
       "    </tr>\n",
       "    <tr>\n",
       "      <th>1</th>\n",
       "      <td>1000</td>\n",
       "      <td>30720</td>\n",
       "      <td>3000</td>\n",
       "      <td>1950</td>\n",
       "      <td>150</td>\n",
       "      <td>1</td>\n",
       "      <td>1</td>\n",
       "      <td>ultra</td>\n",
       "    </tr>\n",
       "  </tbody>\n",
       "</table>\n",
       "</div>"
      ],
      "text/plain": [
       "   messages_included  mb_per_month_included  minutes_included  \\\n",
       "0                 50                  15360               500   \n",
       "1               1000                  30720              3000   \n",
       "\n",
       "   rub_monthly_fee  rub_per_gb  rub_per_message  rub_per_minute tariff_name  \n",
       "0              550         200                3               3       smart  \n",
       "1             1950         150                1               1       ultra  "
      ]
     },
     "execution_count": 22,
     "metadata": {},
     "output_type": "execute_result"
    }
   ],
   "source": [
    "tariffs.head()"
   ]
  },
  {
   "cell_type": "code",
   "execution_count": 23,
   "metadata": {},
   "outputs": [
    {
     "name": "stdout",
     "output_type": "stream",
     "text": [
      "<class 'pandas.core.frame.DataFrame'>\n",
      "RangeIndex: 2 entries, 0 to 1\n",
      "Data columns (total 8 columns):\n",
      " #   Column                 Non-Null Count  Dtype \n",
      "---  ------                 --------------  ----- \n",
      " 0   messages_included      2 non-null      int64 \n",
      " 1   mb_per_month_included  2 non-null      int64 \n",
      " 2   minutes_included       2 non-null      int64 \n",
      " 3   rub_monthly_fee        2 non-null      int64 \n",
      " 4   rub_per_gb             2 non-null      int64 \n",
      " 5   rub_per_message        2 non-null      int64 \n",
      " 6   rub_per_minute         2 non-null      int64 \n",
      " 7   tariff_name            2 non-null      object\n",
      "dtypes: int64(7), object(1)\n",
      "memory usage: 256.0+ bytes\n"
     ]
    }
   ],
   "source": [
    "tariffs.info()# общая информация о таблице"
   ]
  },
  {
   "cell_type": "markdown",
   "metadata": {},
   "source": [
    "***Таблица `tariffs` (информация о тарифах):***\n",
    "\n",
    "* `tariff_name` — название тарифа\n",
    "* `rub_monthly_fee` — ежемесячная абонентская плата в рублях\n",
    "* `minutes_included` — количество минут разговора в месяц, включённых в абонентскую плату\n",
    "* `messages_included` — количество сообщений в месяц, включённых в абонентскую плату\n",
    "* `mb_per_month_included` — объём интернет-трафика, включённого в абонентскую плату (в мегабайтах)\n",
    "* `rub_per_minute` — стоимость минуты разговора сверх тарифного пакета (например, если в тарифе 100 минут разговора в месяц, то со 101 минуты будет взиматься плата)\n",
    "* `rub_per_message` — стоимость отправки сообщения сверх тарифного пакета\n",
    "* `rub_per_gb` — стоимость дополнительного гигабайта интернет-трафика сверх тарифного пакета (1 гигабайт = 1024 мегабайта)"
   ]
  },
  {
   "cell_type": "markdown",
   "metadata": {},
   "source": [
    "Пересчитаем объем интернет трафика, включенного в абонентскую плату, в гигабайты, переименуем столбец и поменяем тип данных."
   ]
  },
  {
   "cell_type": "code",
   "execution_count": 24,
   "metadata": {},
   "outputs": [],
   "source": [
    "tariffs['mb_per_month_included'] = tariffs['mb_per_month_included'] / 1024\n",
    "tariffs = tariffs.rename(columns= {'mb_per_month_included':'gb_per_month_included'})\n",
    "tariffs['gb_per_month_included'] = tariffs['gb_per_month_included'].astype('int')"
   ]
  },
  {
   "cell_type": "markdown",
   "metadata": {},
   "source": [
    "## Подготовка данных"
   ]
  },
  {
   "cell_type": "markdown",
   "metadata": {},
   "source": [
    "Объединим сгруппированые таблицы в общую таблицу."
   ]
  },
  {
   "cell_type": "code",
   "execution_count": 25,
   "metadata": {},
   "outputs": [
    {
     "data": {
      "text/html": [
       "<div>\n",
       "<style scoped>\n",
       "    .dataframe tbody tr th:only-of-type {\n",
       "        vertical-align: middle;\n",
       "    }\n",
       "\n",
       "    .dataframe tbody tr th {\n",
       "        vertical-align: top;\n",
       "    }\n",
       "\n",
       "    .dataframe thead th {\n",
       "        text-align: right;\n",
       "    }\n",
       "</style>\n",
       "<table border=\"1\" class=\"dataframe\">\n",
       "  <thead>\n",
       "    <tr style=\"text-align: right;\">\n",
       "      <th></th>\n",
       "      <th>user_id</th>\n",
       "      <th>month</th>\n",
       "      <th>calls_count</th>\n",
       "      <th>calls_duration</th>\n",
       "      <th>session_count</th>\n",
       "      <th>gb_used</th>\n",
       "      <th>messages_count</th>\n",
       "      <th>age</th>\n",
       "      <th>churn_date</th>\n",
       "      <th>city</th>\n",
       "      <th>...</th>\n",
       "      <th>reg_date</th>\n",
       "      <th>tariff</th>\n",
       "      <th>messages_included</th>\n",
       "      <th>gb_per_month_included</th>\n",
       "      <th>minutes_included</th>\n",
       "      <th>rub_monthly_fee</th>\n",
       "      <th>rub_per_gb</th>\n",
       "      <th>rub_per_message</th>\n",
       "      <th>rub_per_minute</th>\n",
       "      <th>tariff_name</th>\n",
       "    </tr>\n",
       "  </thead>\n",
       "  <tbody>\n",
       "    <tr>\n",
       "      <th>0</th>\n",
       "      <td>1000</td>\n",
       "      <td>5</td>\n",
       "      <td>22.0</td>\n",
       "      <td>159.0</td>\n",
       "      <td>5.0</td>\n",
       "      <td>3.0</td>\n",
       "      <td>22.0</td>\n",
       "      <td>52</td>\n",
       "      <td>NaN</td>\n",
       "      <td>Краснодар</td>\n",
       "      <td>...</td>\n",
       "      <td>2018-05-25</td>\n",
       "      <td>ultra</td>\n",
       "      <td>1000</td>\n",
       "      <td>30</td>\n",
       "      <td>3000</td>\n",
       "      <td>1950</td>\n",
       "      <td>150</td>\n",
       "      <td>1</td>\n",
       "      <td>1</td>\n",
       "      <td>ultra</td>\n",
       "    </tr>\n",
       "    <tr>\n",
       "      <th>1</th>\n",
       "      <td>1000</td>\n",
       "      <td>6</td>\n",
       "      <td>43.0</td>\n",
       "      <td>172.0</td>\n",
       "      <td>49.0</td>\n",
       "      <td>23.0</td>\n",
       "      <td>60.0</td>\n",
       "      <td>52</td>\n",
       "      <td>NaN</td>\n",
       "      <td>Краснодар</td>\n",
       "      <td>...</td>\n",
       "      <td>2018-05-25</td>\n",
       "      <td>ultra</td>\n",
       "      <td>1000</td>\n",
       "      <td>30</td>\n",
       "      <td>3000</td>\n",
       "      <td>1950</td>\n",
       "      <td>150</td>\n",
       "      <td>1</td>\n",
       "      <td>1</td>\n",
       "      <td>ultra</td>\n",
       "    </tr>\n",
       "    <tr>\n",
       "      <th>2</th>\n",
       "      <td>1000</td>\n",
       "      <td>7</td>\n",
       "      <td>47.0</td>\n",
       "      <td>340.0</td>\n",
       "      <td>29.0</td>\n",
       "      <td>14.0</td>\n",
       "      <td>75.0</td>\n",
       "      <td>52</td>\n",
       "      <td>NaN</td>\n",
       "      <td>Краснодар</td>\n",
       "      <td>...</td>\n",
       "      <td>2018-05-25</td>\n",
       "      <td>ultra</td>\n",
       "      <td>1000</td>\n",
       "      <td>30</td>\n",
       "      <td>3000</td>\n",
       "      <td>1950</td>\n",
       "      <td>150</td>\n",
       "      <td>1</td>\n",
       "      <td>1</td>\n",
       "      <td>ultra</td>\n",
       "    </tr>\n",
       "    <tr>\n",
       "      <th>3</th>\n",
       "      <td>1000</td>\n",
       "      <td>8</td>\n",
       "      <td>52.0</td>\n",
       "      <td>408.0</td>\n",
       "      <td>29.0</td>\n",
       "      <td>14.0</td>\n",
       "      <td>81.0</td>\n",
       "      <td>52</td>\n",
       "      <td>NaN</td>\n",
       "      <td>Краснодар</td>\n",
       "      <td>...</td>\n",
       "      <td>2018-05-25</td>\n",
       "      <td>ultra</td>\n",
       "      <td>1000</td>\n",
       "      <td>30</td>\n",
       "      <td>3000</td>\n",
       "      <td>1950</td>\n",
       "      <td>150</td>\n",
       "      <td>1</td>\n",
       "      <td>1</td>\n",
       "      <td>ultra</td>\n",
       "    </tr>\n",
       "    <tr>\n",
       "      <th>4</th>\n",
       "      <td>1000</td>\n",
       "      <td>9</td>\n",
       "      <td>58.0</td>\n",
       "      <td>466.0</td>\n",
       "      <td>27.0</td>\n",
       "      <td>15.0</td>\n",
       "      <td>57.0</td>\n",
       "      <td>52</td>\n",
       "      <td>NaN</td>\n",
       "      <td>Краснодар</td>\n",
       "      <td>...</td>\n",
       "      <td>2018-05-25</td>\n",
       "      <td>ultra</td>\n",
       "      <td>1000</td>\n",
       "      <td>30</td>\n",
       "      <td>3000</td>\n",
       "      <td>1950</td>\n",
       "      <td>150</td>\n",
       "      <td>1</td>\n",
       "      <td>1</td>\n",
       "      <td>ultra</td>\n",
       "    </tr>\n",
       "  </tbody>\n",
       "</table>\n",
       "<p>5 rows × 22 columns</p>\n",
       "</div>"
      ],
      "text/plain": [
       "   user_id  month  calls_count  calls_duration  session_count  gb_used  \\\n",
       "0     1000      5         22.0           159.0            5.0      3.0   \n",
       "1     1000      6         43.0           172.0           49.0     23.0   \n",
       "2     1000      7         47.0           340.0           29.0     14.0   \n",
       "3     1000      8         52.0           408.0           29.0     14.0   \n",
       "4     1000      9         58.0           466.0           27.0     15.0   \n",
       "\n",
       "   messages_count  age churn_date       city  ...   reg_date tariff  \\\n",
       "0            22.0   52        NaN  Краснодар  ... 2018-05-25  ultra   \n",
       "1            60.0   52        NaN  Краснодар  ... 2018-05-25  ultra   \n",
       "2            75.0   52        NaN  Краснодар  ... 2018-05-25  ultra   \n",
       "3            81.0   52        NaN  Краснодар  ... 2018-05-25  ultra   \n",
       "4            57.0   52        NaN  Краснодар  ... 2018-05-25  ultra   \n",
       "\n",
       "  messages_included gb_per_month_included  minutes_included  rub_monthly_fee  \\\n",
       "0              1000                    30              3000             1950   \n",
       "1              1000                    30              3000             1950   \n",
       "2              1000                    30              3000             1950   \n",
       "3              1000                    30              3000             1950   \n",
       "4              1000                    30              3000             1950   \n",
       "\n",
       "   rub_per_gb  rub_per_message  rub_per_minute  tariff_name  \n",
       "0         150                1               1        ultra  \n",
       "1         150                1               1        ultra  \n",
       "2         150                1               1        ultra  \n",
       "3         150                1               1        ultra  \n",
       "4         150                1               1        ultra  \n",
       "\n",
       "[5 rows x 22 columns]"
      ]
     },
     "execution_count": 25,
     "metadata": {},
     "output_type": "execute_result"
    }
   ],
   "source": [
    "df = calls_g.merge(internet_g, on = ['user_id', 'month'], how = 'outer')\\\n",
    ".merge(messages_g, on = ['user_id', 'month'], how = 'outer').fillna(0)\n",
    "df = df.merge(users, on = 'user_id', how = 'left')\\\n",
    ".merge(tariffs, left_on = 'tariff', right_on = 'tariff_name', how = 'left')\n",
    "df.head()"
   ]
  },
  {
   "cell_type": "code",
   "execution_count": 26,
   "metadata": {},
   "outputs": [
    {
     "name": "stdout",
     "output_type": "stream",
     "text": [
      "<class 'pandas.core.frame.DataFrame'>\n",
      "Int64Index: 3214 entries, 0 to 3213\n",
      "Data columns (total 22 columns):\n",
      " #   Column                 Non-Null Count  Dtype         \n",
      "---  ------                 --------------  -----         \n",
      " 0   user_id                3214 non-null   int64         \n",
      " 1   month                  3214 non-null   int64         \n",
      " 2   calls_count            3214 non-null   float64       \n",
      " 3   calls_duration         3214 non-null   float64       \n",
      " 4   session_count          3214 non-null   float64       \n",
      " 5   gb_used                3214 non-null   float64       \n",
      " 6   messages_count         3214 non-null   float64       \n",
      " 7   age                    3214 non-null   int64         \n",
      " 8   churn_date             187 non-null    object        \n",
      " 9   city                   3214 non-null   object        \n",
      " 10  first_name             3214 non-null   object        \n",
      " 11  last_name              3214 non-null   object        \n",
      " 12  reg_date               3214 non-null   datetime64[ns]\n",
      " 13  tariff                 3214 non-null   object        \n",
      " 14  messages_included      3214 non-null   int64         \n",
      " 15  gb_per_month_included  3214 non-null   int64         \n",
      " 16  minutes_included       3214 non-null   int64         \n",
      " 17  rub_monthly_fee        3214 non-null   int64         \n",
      " 18  rub_per_gb             3214 non-null   int64         \n",
      " 19  rub_per_message        3214 non-null   int64         \n",
      " 20  rub_per_minute         3214 non-null   int64         \n",
      " 21  tariff_name            3214 non-null   object        \n",
      "dtypes: datetime64[ns](1), float64(5), int64(10), object(6)\n",
      "memory usage: 577.5+ KB\n"
     ]
    }
   ],
   "source": [
    "df.info()"
   ]
  },
  {
   "cell_type": "markdown",
   "metadata": {},
   "source": [
    "Для расчета выручки воспользуемся функцией"
   ]
  },
  {
   "cell_type": "code",
   "execution_count": 27,
   "metadata": {},
   "outputs": [
    {
     "data": {
      "text/html": [
       "<div>\n",
       "<style scoped>\n",
       "    .dataframe tbody tr th:only-of-type {\n",
       "        vertical-align: middle;\n",
       "    }\n",
       "\n",
       "    .dataframe tbody tr th {\n",
       "        vertical-align: top;\n",
       "    }\n",
       "\n",
       "    .dataframe thead th {\n",
       "        text-align: right;\n",
       "    }\n",
       "</style>\n",
       "<table border=\"1\" class=\"dataframe\">\n",
       "  <thead>\n",
       "    <tr style=\"text-align: right;\">\n",
       "      <th></th>\n",
       "      <th>user_id</th>\n",
       "      <th>month</th>\n",
       "      <th>calls_count</th>\n",
       "      <th>calls_duration</th>\n",
       "      <th>session_count</th>\n",
       "      <th>gb_used</th>\n",
       "      <th>messages_count</th>\n",
       "      <th>age</th>\n",
       "      <th>churn_date</th>\n",
       "      <th>city</th>\n",
       "      <th>first_name</th>\n",
       "      <th>last_name</th>\n",
       "      <th>reg_date</th>\n",
       "      <th>tariff</th>\n",
       "      <th>messages_included</th>\n",
       "      <th>gb_per_month_included</th>\n",
       "      <th>minutes_included</th>\n",
       "      <th>rub_monthly_fee</th>\n",
       "      <th>rub_per_gb</th>\n",
       "      <th>rub_per_message</th>\n",
       "      <th>rub_per_minute</th>\n",
       "      <th>tariff_name</th>\n",
       "      <th>revenue</th>\n",
       "    </tr>\n",
       "  </thead>\n",
       "  <tbody>\n",
       "    <tr>\n",
       "      <th>0</th>\n",
       "      <td>1000</td>\n",
       "      <td>5</td>\n",
       "      <td>22.0</td>\n",
       "      <td>159.0</td>\n",
       "      <td>5.0</td>\n",
       "      <td>3.0</td>\n",
       "      <td>22.0</td>\n",
       "      <td>52</td>\n",
       "      <td>NaN</td>\n",
       "      <td>Краснодар</td>\n",
       "      <td>Рафаил</td>\n",
       "      <td>Верещагин</td>\n",
       "      <td>2018-05-25</td>\n",
       "      <td>ultra</td>\n",
       "      <td>1000</td>\n",
       "      <td>30</td>\n",
       "      <td>3000</td>\n",
       "      <td>1950</td>\n",
       "      <td>150</td>\n",
       "      <td>1</td>\n",
       "      <td>1</td>\n",
       "      <td>ultra</td>\n",
       "      <td>1950</td>\n",
       "    </tr>\n",
       "    <tr>\n",
       "      <th>1</th>\n",
       "      <td>1000</td>\n",
       "      <td>6</td>\n",
       "      <td>43.0</td>\n",
       "      <td>172.0</td>\n",
       "      <td>49.0</td>\n",
       "      <td>23.0</td>\n",
       "      <td>60.0</td>\n",
       "      <td>52</td>\n",
       "      <td>NaN</td>\n",
       "      <td>Краснодар</td>\n",
       "      <td>Рафаил</td>\n",
       "      <td>Верещагин</td>\n",
       "      <td>2018-05-25</td>\n",
       "      <td>ultra</td>\n",
       "      <td>1000</td>\n",
       "      <td>30</td>\n",
       "      <td>3000</td>\n",
       "      <td>1950</td>\n",
       "      <td>150</td>\n",
       "      <td>1</td>\n",
       "      <td>1</td>\n",
       "      <td>ultra</td>\n",
       "      <td>1950</td>\n",
       "    </tr>\n",
       "    <tr>\n",
       "      <th>2</th>\n",
       "      <td>1000</td>\n",
       "      <td>7</td>\n",
       "      <td>47.0</td>\n",
       "      <td>340.0</td>\n",
       "      <td>29.0</td>\n",
       "      <td>14.0</td>\n",
       "      <td>75.0</td>\n",
       "      <td>52</td>\n",
       "      <td>NaN</td>\n",
       "      <td>Краснодар</td>\n",
       "      <td>Рафаил</td>\n",
       "      <td>Верещагин</td>\n",
       "      <td>2018-05-25</td>\n",
       "      <td>ultra</td>\n",
       "      <td>1000</td>\n",
       "      <td>30</td>\n",
       "      <td>3000</td>\n",
       "      <td>1950</td>\n",
       "      <td>150</td>\n",
       "      <td>1</td>\n",
       "      <td>1</td>\n",
       "      <td>ultra</td>\n",
       "      <td>1950</td>\n",
       "    </tr>\n",
       "    <tr>\n",
       "      <th>3</th>\n",
       "      <td>1000</td>\n",
       "      <td>8</td>\n",
       "      <td>52.0</td>\n",
       "      <td>408.0</td>\n",
       "      <td>29.0</td>\n",
       "      <td>14.0</td>\n",
       "      <td>81.0</td>\n",
       "      <td>52</td>\n",
       "      <td>NaN</td>\n",
       "      <td>Краснодар</td>\n",
       "      <td>Рафаил</td>\n",
       "      <td>Верещагин</td>\n",
       "      <td>2018-05-25</td>\n",
       "      <td>ultra</td>\n",
       "      <td>1000</td>\n",
       "      <td>30</td>\n",
       "      <td>3000</td>\n",
       "      <td>1950</td>\n",
       "      <td>150</td>\n",
       "      <td>1</td>\n",
       "      <td>1</td>\n",
       "      <td>ultra</td>\n",
       "      <td>1950</td>\n",
       "    </tr>\n",
       "    <tr>\n",
       "      <th>4</th>\n",
       "      <td>1000</td>\n",
       "      <td>9</td>\n",
       "      <td>58.0</td>\n",
       "      <td>466.0</td>\n",
       "      <td>27.0</td>\n",
       "      <td>15.0</td>\n",
       "      <td>57.0</td>\n",
       "      <td>52</td>\n",
       "      <td>NaN</td>\n",
       "      <td>Краснодар</td>\n",
       "      <td>Рафаил</td>\n",
       "      <td>Верещагин</td>\n",
       "      <td>2018-05-25</td>\n",
       "      <td>ultra</td>\n",
       "      <td>1000</td>\n",
       "      <td>30</td>\n",
       "      <td>3000</td>\n",
       "      <td>1950</td>\n",
       "      <td>150</td>\n",
       "      <td>1</td>\n",
       "      <td>1</td>\n",
       "      <td>ultra</td>\n",
       "      <td>1950</td>\n",
       "    </tr>\n",
       "  </tbody>\n",
       "</table>\n",
       "</div>"
      ],
      "text/plain": [
       "   user_id  month  calls_count  calls_duration  session_count  gb_used  \\\n",
       "0     1000      5         22.0           159.0            5.0      3.0   \n",
       "1     1000      6         43.0           172.0           49.0     23.0   \n",
       "2     1000      7         47.0           340.0           29.0     14.0   \n",
       "3     1000      8         52.0           408.0           29.0     14.0   \n",
       "4     1000      9         58.0           466.0           27.0     15.0   \n",
       "\n",
       "   messages_count  age churn_date       city first_name  last_name   reg_date  \\\n",
       "0            22.0   52        NaN  Краснодар     Рафаил  Верещагин 2018-05-25   \n",
       "1            60.0   52        NaN  Краснодар     Рафаил  Верещагин 2018-05-25   \n",
       "2            75.0   52        NaN  Краснодар     Рафаил  Верещагин 2018-05-25   \n",
       "3            81.0   52        NaN  Краснодар     Рафаил  Верещагин 2018-05-25   \n",
       "4            57.0   52        NaN  Краснодар     Рафаил  Верещагин 2018-05-25   \n",
       "\n",
       "  tariff  messages_included  gb_per_month_included  minutes_included  \\\n",
       "0  ultra               1000                     30              3000   \n",
       "1  ultra               1000                     30              3000   \n",
       "2  ultra               1000                     30              3000   \n",
       "3  ultra               1000                     30              3000   \n",
       "4  ultra               1000                     30              3000   \n",
       "\n",
       "   rub_monthly_fee  rub_per_gb  rub_per_message  rub_per_minute tariff_name  \\\n",
       "0             1950         150                1               1       ultra   \n",
       "1             1950         150                1               1       ultra   \n",
       "2             1950         150                1               1       ultra   \n",
       "3             1950         150                1               1       ultra   \n",
       "4             1950         150                1               1       ultra   \n",
       "\n",
       "   revenue  \n",
       "0     1950  \n",
       "1     1950  \n",
       "2     1950  \n",
       "3     1950  \n",
       "4     1950  "
      ]
     },
     "execution_count": 27,
     "metadata": {},
     "output_type": "execute_result"
    }
   ],
   "source": [
    "def f_revenue(row):\n",
    "    if (row['calls_duration'] <= row['minutes_included']) \\\n",
    "    and (row['gb_used'] <= row['gb_per_month_included']) \\\n",
    "    and (row['messages_count'] <= row['messages_included']):\n",
    "        return row['rub_monthly_fee']\n",
    "    else:\n",
    "        revenue = 0\n",
    "        if row['calls_duration'] > row['minutes_included']:\n",
    "            revenue += (row['calls_duration'] - row['minutes_included']) * row['rub_per_minute']\n",
    "            \n",
    "        if row['gb_used'] > row['gb_per_month_included']:\n",
    "            revenue += (row['gb_used'] - row['gb_per_month_included']) * row['rub_per_gb']\n",
    "            \n",
    "        if row['messages_count'] > row['messages_included']:\n",
    "            revenue += (row['messages_count'] - row['messages_included']) * row['rub_per_message']\n",
    "        \n",
    "        return revenue + row['rub_monthly_fee']\n",
    "    \n",
    "df['revenue'] = df.apply(f_revenue, axis=1)\n",
    "\n",
    "df['revenue'] = df['revenue'].astype('int')\n",
    "\n",
    "pd.set_option('display.max_columns', None)\n",
    "\n",
    "df.head()\n",
    "        "
   ]
  },
  {
   "cell_type": "markdown",
   "metadata": {},
   "source": [
    "## Анализ данных"
   ]
  },
  {
   "cell_type": "markdown",
   "metadata": {},
   "source": [
    "### Звонки, интернет и сообщения без разделения на тарифы"
   ]
  },
  {
   "cell_type": "markdown",
   "metadata": {},
   "source": [
    "Построим гисторграммы и диаграммы размаха для звонков, объема интернет-трафика и СМС сообщений."
   ]
  },
  {
   "cell_type": "markdown",
   "metadata": {},
   "source": [
    "#### Длина звонков в месяц "
   ]
  },
  {
   "cell_type": "code",
   "execution_count": 28,
   "metadata": {},
   "outputs": [
    {
     "data": {
      "text/plain": [
       "Text(0, 0.5, 'Количество')"
      ]
     },
     "execution_count": 28,
     "metadata": {},
     "output_type": "execute_result"
    },
    {
     "data": {
      "image/png": "[encoded data removed]",
      "text/plain": [
       "<Figure size 432x288 with 1 Axes>"
      ]
     },
     "metadata": {
      "needs_background": "light"
     },
     "output_type": "display_data"
    }
   ],
   "source": [
    "df['calls_duration'].hist(bins=50)\n",
    "plt.suptitle('Гистограмма Длина звонков в месяц')\n",
    "plt.xlabel('Длина звонков')\n",
    "plt.ylabel('Количество')"
   ]
  },
  {
   "cell_type": "code",
   "execution_count": 29,
   "metadata": {},
   "outputs": [
    {
     "data": {
      "text/plain": [
       "Text(0, 0.5, 'Длина звонков в месяц')"
      ]
     },
     "execution_count": 29,
     "metadata": {},
     "output_type": "execute_result"
    },
    {
     "data": {
      "image/png": "[encoded data removed]",
      "text/plain": [
       "<Figure size 432x288 with 1 Axes>"
      ]
     },
     "metadata": {
      "needs_background": "light"
     },
     "output_type": "display_data"
    }
   ],
   "source": [
    "df.boxplot(column='calls_duration')\n",
    "plt.ylim(0, 1500)\n",
    "plt.suptitle('Диаграмма размаха для Длины звонков в месяц')\n",
    "plt.ylabel('Длина звонков в месяц')"
   ]
  },
  {
   "cell_type": "code",
   "execution_count": 30,
   "metadata": {},
   "outputs": [
    {
     "data": {
      "text/plain": [
       "count    3214.000000\n",
       "mean      451.244866\n",
       "std       241.909978\n",
       "min         0.000000\n",
       "25%       282.000000\n",
       "50%       443.000000\n",
       "75%       589.000000\n",
       "max      1673.000000\n",
       "Name: calls_duration, dtype: float64"
      ]
     },
     "execution_count": 30,
     "metadata": {},
     "output_type": "execute_result"
    }
   ],
   "source": [
    "df['calls_duration'].describe()"
   ]
  },
  {
   "cell_type": "markdown",
   "metadata": {},
   "source": [
    "#### Объем интернет-трафика в месяц"
   ]
  },
  {
   "cell_type": "code",
   "execution_count": 31,
   "metadata": {},
   "outputs": [
    {
     "data": {
      "text/plain": [
       "Text(0, 0.5, 'Количество')"
      ]
     },
     "execution_count": 31,
     "metadata": {},
     "output_type": "execute_result"
    },
    {
     "data": {
      "image/png": "[encoded data removed]",
      "text/plain": [
       "<Figure size 432x288 with 1 Axes>"
      ]
     },
     "metadata": {
      "needs_background": "light"
     },
     "output_type": "display_data"
    }
   ],
   "source": [
    "df['gb_used'].hist(bins=50)\n",
    "plt.suptitle('Гистограмма Объем интернет-трафика в месяц')\n",
    "plt.xlabel('Объем интернет-трафика')\n",
    "plt.ylabel('Количество')"
   ]
  },
  {
   "cell_type": "code",
   "execution_count": 32,
   "metadata": {},
   "outputs": [
    {
     "data": {
      "text/plain": [
       "Text(0, 0.5, 'Объем интернет-трафика в месяц')"
      ]
     },
     "execution_count": 32,
     "metadata": {},
     "output_type": "execute_result"
    },
    {
     "data": {
      "image/png": "[encoded data removed]",
      "text/plain": [
       "<Figure size 432x288 with 1 Axes>"
      ]
     },
     "metadata": {
      "needs_background": "light"
     },
     "output_type": "display_data"
    }
   ],
   "source": [
    "df.boxplot(column='gb_used')\n",
    "plt.ylim(0, 50)\n",
    "plt.suptitle('Диаграмма размаха для Объема интернет-трафика в месяц')\n",
    "plt.ylabel('Объем интернет-трафика в месяц')"
   ]
  },
  {
   "cell_type": "code",
   "execution_count": 33,
   "metadata": {},
   "outputs": [
    {
     "data": {
      "text/plain": [
       "count    3214.000000\n",
       "mean       17.299004\n",
       "std         7.400584\n",
       "min         0.000000\n",
       "25%        13.000000\n",
       "50%        17.000000\n",
       "75%        21.000000\n",
       "max        49.000000\n",
       "Name: gb_used, dtype: float64"
      ]
     },
     "execution_count": 33,
     "metadata": {},
     "output_type": "execute_result"
    }
   ],
   "source": [
    "df['gb_used'].describe()"
   ]
  },
  {
   "cell_type": "markdown",
   "metadata": {},
   "source": [
    "#### СМС Сообщения"
   ]
  },
  {
   "cell_type": "code",
   "execution_count": 34,
   "metadata": {},
   "outputs": [
    {
     "data": {
      "text/plain": [
       "Text(0, 0.5, 'Количество')"
      ]
     },
     "execution_count": 34,
     "metadata": {},
     "output_type": "execute_result"
    },
    {
     "data": {
      "image/png": "[encoded data removed]",
      "text/plain": [
       "<Figure size 432x288 with 1 Axes>"
      ]
     },
     "metadata": {
      "needs_background": "light"
     },
     "output_type": "display_data"
    }
   ],
   "source": [
    "df['messages_count'].hist(bins=40)\n",
    "plt.suptitle('Гистограмма Количество СМС сообщений в месяц')\n",
    "plt.xlabel('СМС Сообщения')\n",
    "plt.ylabel('Количество')"
   ]
  },
  {
   "cell_type": "code",
   "execution_count": 35,
   "metadata": {},
   "outputs": [
    {
     "data": {
      "text/plain": [
       "Text(0, 0.5, 'Количество СМС сообщений в месяц')"
      ]
     },
     "execution_count": 35,
     "metadata": {},
     "output_type": "execute_result"
    },
    {
     "data": {
      "image/png": "[encoded data removed]",
      "text/plain": [
       "<Figure size 432x288 with 1 Axes>"
      ]
     },
     "metadata": {
      "needs_background": "light"
     },
     "output_type": "display_data"
    }
   ],
   "source": [
    "df.boxplot(column='messages_count')\n",
    "plt.ylim(0, 200)\n",
    "plt.suptitle('Диаграмма размаха для Количества СМС сообщений в месяц')\n",
    "plt.ylabel('Количество СМС сообщений в месяц')"
   ]
  },
  {
   "cell_type": "code",
   "execution_count": 36,
   "metadata": {},
   "outputs": [
    {
     "data": {
      "text/plain": [
       "count    3214.000000\n",
       "mean       38.281269\n",
       "std        36.148326\n",
       "min         0.000000\n",
       "25%         9.000000\n",
       "50%        30.000000\n",
       "75%        57.000000\n",
       "max       224.000000\n",
       "Name: messages_count, dtype: float64"
      ]
     },
     "execution_count": 36,
     "metadata": {},
     "output_type": "execute_result"
    }
   ],
   "source": [
    "df['messages_count'].describe()"
   ]
  },
  {
   "cell_type": "markdown",
   "metadata": {},
   "source": [
    "#### Расчет общей выручки "
   ]
  },
  {
   "cell_type": "code",
   "execution_count": 37,
   "metadata": {},
   "outputs": [
    {
     "data": {
      "text/plain": [
       "4914451"
      ]
     },
     "execution_count": 37,
     "metadata": {},
     "output_type": "execute_result"
    }
   ],
   "source": [
    "df['revenue'].sum()"
   ]
  },
  {
   "cell_type": "markdown",
   "metadata": {},
   "source": [
    "**Вывод**\n",
    "\n",
    "1. Средняя длина звонков в месяц примерно 450 минут или 7,5 часов\n",
    "2. Средний объем интернет трафика в месяц 17 ГБ\n",
    "3. Среднее количество СМС сообщений в месяц 38 сообщений и довольно много тех, кто не пользуется данной услугой."
   ]
  },
  {
   "cell_type": "markdown",
   "metadata": {},
   "source": [
    "### Поведение клиентов по месяцам"
   ]
  },
  {
   "cell_type": "markdown",
   "metadata": {},
   "source": [
    "#### Длина звонков"
   ]
  },
  {
   "cell_type": "code",
   "execution_count": 38,
   "metadata": {},
   "outputs": [
    {
     "data": {
      "text/plain": [
       "Text(0, 0.5, 'Средняя продолжительность звонков в месяц, мин')"
      ]
     },
     "execution_count": 38,
     "metadata": {},
     "output_type": "execute_result"
    },
    {
     "data": {
      "image/png": "[encoded data removed]",
      "text/plain": [
       "<Figure size 792x288 with 1 Axes>"
      ]
     },
     "metadata": {
      "needs_background": "light"
     },
     "output_type": "display_data"
    }
   ],
   "source": [
    "df_1 = df.query('tariff == \"smart\"').groupby('month').agg({'calls_duration': 'mean'})\\\n",
    ".rename(columns = {'calls_duration':'smart'})\n",
    "\n",
    "df_2 = df.query('tariff == \"ultra\"').groupby('month').agg({'calls_duration': 'mean'})\\\n",
    ".rename(columns = {'calls_duration':'ultra'})\n",
    "\n",
    "df_12 = df_1.merge(df_2, on = 'month')\n",
    "\n",
    "df_12.plot(kind = 'bar', figsize = (11, 4), grid = True)\n",
    "\n",
    "plt.suptitle('Поведение клиентов: Средняя длина телефонных зонков в месяц')\n",
    "plt.xlabel('Месяц')\n",
    "plt.ylabel('Средняя продолжительность звонков в месяц, мин')"
   ]
  },
  {
   "cell_type": "markdown",
   "metadata": {},
   "source": [
    "По графику видно, что средняя  продолжительность звонков в месяц больше у тарифа УЛЬТРА. Средняя продолжительность звонков для тарифов СМАРТ и УЛЬТРА не больше значений в тарифных пакетах, 500 минут и 3000 минут соответственно."
   ]
  },
  {
   "cell_type": "markdown",
   "metadata": {},
   "source": [
    "Расчитаем дисперсию для длины звонков"
   ]
  },
  {
   "cell_type": "code",
   "execution_count": 39,
   "metadata": {},
   "outputs": [
    {
     "data": {
      "text/plain": [
       "'Дисперсия для всей выборки по длинее звонков:'"
      ]
     },
     "metadata": {},
     "output_type": "display_data"
    },
    {
     "data": {
      "text/plain": [
       "58520.4"
      ]
     },
     "metadata": {},
     "output_type": "display_data"
    },
    {
     "data": {
      "text/plain": [
       "'Дисперсия для тарифа smart по длинее звонков'"
      ]
     },
     "metadata": {},
     "output_type": "display_data"
    },
    {
     "data": {
      "text/plain": [
       "36219.3"
      ]
     },
     "metadata": {},
     "output_type": "display_data"
    },
    {
     "data": {
      "text/plain": [
       "'Дисперсия для тарифа ultra по длинее звонков'"
      ]
     },
     "metadata": {},
     "output_type": "display_data"
    },
    {
     "data": {
      "text/plain": [
       "100873.6"
      ]
     },
     "metadata": {},
     "output_type": "display_data"
    }
   ],
   "source": [
    "display('Дисперсия для всей выборки по длинее звонков:', \\\n",
    "        df['calls_duration'].var().round(1))\n",
    "display('Дисперсия для тарифа smart по длинее звонков', \\\n",
    "        df.query('tariff == \"smart\"').calls_duration.var().round(1))\n",
    "display('Дисперсия для тарифа ultra по длинее звонков', \\\n",
    "        df.query('tariff == \"ultra\"').calls_duration.var().round(1))\n"
   ]
  },
  {
   "cell_type": "markdown",
   "metadata": {},
   "source": [
    "Расчитаем стандартное отклонение для длины звонков"
   ]
  },
  {
   "cell_type": "code",
   "execution_count": 40,
   "metadata": {},
   "outputs": [
    {
     "data": {
      "text/plain": [
       "'Стандартное отклонение для всей выборки по длинее звонков:'"
      ]
     },
     "metadata": {},
     "output_type": "display_data"
    },
    {
     "data": {
      "text/plain": [
       "241.9"
      ]
     },
     "metadata": {},
     "output_type": "display_data"
    },
    {
     "data": {
      "text/plain": [
       "'Стандартное отклонение для тарифа smart по длинее звонков'"
      ]
     },
     "metadata": {},
     "output_type": "display_data"
    },
    {
     "data": {
      "text/plain": [
       "190.3"
      ]
     },
     "metadata": {},
     "output_type": "display_data"
    },
    {
     "data": {
      "text/plain": [
       "'Стандартное отклонение для тарифа ultra по длинее звонков'"
      ]
     },
     "metadata": {},
     "output_type": "display_data"
    },
    {
     "data": {
      "text/plain": [
       "317.6"
      ]
     },
     "metadata": {},
     "output_type": "display_data"
    }
   ],
   "source": [
    "display('Стандартное отклонение для всей выборки по длинее звонков:', \\\n",
    "        (df['calls_duration'].var() ** 0.5).round(1))\n",
    "display('Стандартное отклонение для тарифа smart по длинее звонков', \\\n",
    "        (df.query('tariff == \"smart\"').calls_duration.var() ** 0.5).round(1))\n",
    "display('Стандартное отклонение для тарифа ultra по длинее звонков', \\\n",
    "        (df.query('tariff == \"ultra\"').calls_duration.var() ** 0.5).round(1))\n"
   ]
  },
  {
   "cell_type": "markdown",
   "metadata": {},
   "source": [
    "#### Объем интернет-трафика"
   ]
  },
  {
   "cell_type": "code",
   "execution_count": 41,
   "metadata": {},
   "outputs": [
    {
     "data": {
      "text/plain": [
       "Text(0, 0.5, 'Средний объем интернет-трафика в месяц, ГБ')"
      ]
     },
     "execution_count": 41,
     "metadata": {},
     "output_type": "execute_result"
    },
    {
     "data": {
      "image/png": "[encoded data removed]",
      "text/plain": [
       "<Figure size 792x288 with 1 Axes>"
      ]
     },
     "metadata": {
      "needs_background": "light"
     },
     "output_type": "display_data"
    }
   ],
   "source": [
    "df_3 = df.query('tariff == \"smart\"').groupby('month').agg({'gb_used': 'mean'})\\\n",
    ".rename(columns = {'gb_used':'smart'})\n",
    "\n",
    "df_4 = df.query('tariff == \"ultra\"').groupby('month').agg({'gb_used': 'mean'})\\\n",
    ".rename(columns = {'gb_used':'ultra'})\n",
    "\n",
    "df_34 = df_3.merge(df_4, on = 'month')\n",
    "\n",
    "df_34.plot(kind = 'bar', figsize = (11, 4), grid = True)\n",
    "\n",
    "plt.suptitle('Поведение клиентов: Средний объем интернет-трафика в месяц')\n",
    "plt.xlabel('Месяц')\n",
    "plt.ylabel('Средний объем интернет-трафика в месяц, ГБ')"
   ]
  },
  {
   "cell_type": "markdown",
   "metadata": {},
   "source": [
    "Средний объем интернет-трафика в месяц не превышает 20 ГБ, кроме июля и декабря. Пользователи тарифа УЛЬТРА в среднем не превышают порог в 30 ГБ, тогда как пользователи тарифа СМАРТ в большинстве месяцев превышают уустановленный порог в 15 ГБ"
   ]
  },
  {
   "cell_type": "markdown",
   "metadata": {},
   "source": [
    "Расчитаем дисперсию для объема интернет-трафика"
   ]
  },
  {
   "cell_type": "code",
   "execution_count": 42,
   "metadata": {},
   "outputs": [
    {
     "data": {
      "text/plain": [
       "'Дисперсия для всей выборки по объему интернет трафика:'"
      ]
     },
     "metadata": {},
     "output_type": "display_data"
    },
    {
     "data": {
      "text/plain": [
       "54.8"
      ]
     },
     "metadata": {},
     "output_type": "display_data"
    },
    {
     "data": {
      "text/plain": [
       "'Дисперсия для тарифа smart по объему интернет трафика'"
      ]
     },
     "metadata": {},
     "output_type": "display_data"
    },
    {
     "data": {
      "text/plain": [
       "33.0"
      ]
     },
     "metadata": {},
     "output_type": "display_data"
    },
    {
     "data": {
      "text/plain": [
       "'Дисперсия для тарифа ultra по объему интернет трафика'"
      ]
     },
     "metadata": {},
     "output_type": "display_data"
    },
    {
     "data": {
      "text/plain": [
       "97.1"
      ]
     },
     "metadata": {},
     "output_type": "display_data"
    }
   ],
   "source": [
    "display('Дисперсия для всей выборки по объему интернет трафика:', \\\n",
    "        df['gb_used'].var().round(1))\n",
    "display('Дисперсия для тарифа smart по объему интернет трафика', \\\n",
    "        df.query('tariff == \"smart\"').gb_used.var().round(1))\n",
    "display('Дисперсия для тарифа ultra по объему интернет трафика', \\\n",
    "        df.query('tariff == \"ultra\"').gb_used.var().round(1))\n"
   ]
  },
  {
   "cell_type": "markdown",
   "metadata": {},
   "source": [
    "Расчитаем стандартное отклонение для объема интернет-трафика"
   ]
  },
  {
   "cell_type": "code",
   "execution_count": 43,
   "metadata": {},
   "outputs": [
    {
     "data": {
      "text/plain": [
       "'Стандартное отклонение для всей выборки по объему интернет трафика:'"
      ]
     },
     "metadata": {},
     "output_type": "display_data"
    },
    {
     "data": {
      "text/plain": [
       "7.4"
      ]
     },
     "metadata": {},
     "output_type": "display_data"
    },
    {
     "data": {
      "text/plain": [
       "'Стандартное отклонение для тарифа smart по объему интернет трафика'"
      ]
     },
     "metadata": {},
     "output_type": "display_data"
    },
    {
     "data": {
      "text/plain": [
       "5.7"
      ]
     },
     "metadata": {},
     "output_type": "display_data"
    },
    {
     "data": {
      "text/plain": [
       "'Стандартное отклонение для тарифа ultra по объему интернет трафика'"
      ]
     },
     "metadata": {},
     "output_type": "display_data"
    },
    {
     "data": {
      "text/plain": [
       "9.9"
      ]
     },
     "metadata": {},
     "output_type": "display_data"
    }
   ],
   "source": [
    "display('Стандартное отклонение для всей выборки по объему интернет трафика:', \\\n",
    "        (df['gb_used'].var() ** 0.5).round(1))\n",
    "display('Стандартное отклонение для тарифа smart по объему интернет трафика', \\\n",
    "        (df.query('tariff == \"smart\"').gb_used.var() ** 0.5).round(1))\n",
    "display('Стандартное отклонение для тарифа ultra по объему интернет трафика', \\\n",
    "        (df.query('tariff == \"ultra\"').gb_used.var() ** 0.5).round(1))"
   ]
  },
  {
   "cell_type": "markdown",
   "metadata": {},
   "source": [
    "#### СМС Сообщения"
   ]
  },
  {
   "cell_type": "code",
   "execution_count": 44,
   "metadata": {},
   "outputs": [
    {
     "data": {
      "text/plain": [
       "Text(0, 0.5, 'Среднее количество СМС Сообщений в месяц')"
      ]
     },
     "execution_count": 44,
     "metadata": {},
     "output_type": "execute_result"
    },
    {
     "data": {
      "image/png": "[encoded data removed]",
      "text/plain": [
       "<Figure size 792x288 with 1 Axes>"
      ]
     },
     "metadata": {
      "needs_background": "light"
     },
     "output_type": "display_data"
    }
   ],
   "source": [
    "df_5 = df.query('tariff == \"smart\"').groupby('month').agg({'messages_count': 'mean'})\\\n",
    ".rename(columns = {'messages_count':'smart'})\n",
    "\n",
    "df_6 = df.query('tariff == \"ultra\"').groupby('month').agg({'messages_count': 'mean'})\\\n",
    ".rename(columns = {'messages_count':'ultra'})\n",
    "\n",
    "df_56 = df_5.merge(df_6, on = 'month')\n",
    "\n",
    "df_56.plot(kind = 'bar', figsize = (11, 4), grid = True)\n",
    "\n",
    "plt.suptitle('Поведение клиентов: Среднее количсество СМС сообщений в месяц')\n",
    "plt.xlabel('Месяц')\n",
    "plt.ylabel('Среднее количество СМС Сообщений в месяц')"
   ]
  },
  {
   "cell_type": "markdown",
   "metadata": {},
   "source": [
    "Пользователи тарифа СМАРТ и УЛЬТРА не превышают установленный порог для СМС сообщений, 50 СМС и 3000 СМС соответственно"
   ]
  },
  {
   "cell_type": "markdown",
   "metadata": {},
   "source": [
    "Расчитаем дисперсию для количества СМС сообщений"
   ]
  },
  {
   "cell_type": "code",
   "execution_count": 45,
   "metadata": {},
   "outputs": [
    {
     "data": {
      "text/plain": [
       "'Дисперсия для всей выборки по количеству СМС сообщений:'"
      ]
     },
     "metadata": {},
     "output_type": "display_data"
    },
    {
     "data": {
      "text/plain": [
       "1306.7"
      ]
     },
     "metadata": {},
     "output_type": "display_data"
    },
    {
     "data": {
      "text/plain": [
       "'Дисперсия для тарифа smart по количеству СМС сообщений'"
      ]
     },
     "metadata": {},
     "output_type": "display_data"
    },
    {
     "data": {
      "text/plain": [
       "796.8"
      ]
     },
     "metadata": {},
     "output_type": "display_data"
    },
    {
     "data": {
      "text/plain": [
       "'Дисперсия для тарифа ultra по количеству СМС сообщений'"
      ]
     },
     "metadata": {},
     "output_type": "display_data"
    },
    {
     "data": {
      "text/plain": [
       "2285.3"
      ]
     },
     "metadata": {},
     "output_type": "display_data"
    }
   ],
   "source": [
    "display('Дисперсия для всей выборки по количеству СМС сообщений:', \\\n",
    "        df['messages_count'].var().round(1))\n",
    "display('Дисперсия для тарифа smart по количеству СМС сообщений', \\\n",
    "        df.query('tariff == \"smart\"').messages_count.var().round(1))\n",
    "display('Дисперсия для тарифа ultra по количеству СМС сообщений', \\\n",
    "        df.query('tariff == \"ultra\"').messages_count.var().round(1))"
   ]
  },
  {
   "cell_type": "markdown",
   "metadata": {},
   "source": [
    "Расчитаем стандартное отклонение для количества СМС сообщений"
   ]
  },
  {
   "cell_type": "code",
   "execution_count": 46,
   "metadata": {},
   "outputs": [
    {
     "data": {
      "text/plain": [
       "'Стандартное отклонение для всей выборки по количеству СМС сообщений:'"
      ]
     },
     "metadata": {},
     "output_type": "display_data"
    },
    {
     "data": {
      "text/plain": [
       "36.1"
      ]
     },
     "metadata": {},
     "output_type": "display_data"
    },
    {
     "data": {
      "text/plain": [
       "'Стандартное отклонение для тарифа smart по количеству СМС сообщений'"
      ]
     },
     "metadata": {},
     "output_type": "display_data"
    },
    {
     "data": {
      "text/plain": [
       "28.2"
      ]
     },
     "metadata": {},
     "output_type": "display_data"
    },
    {
     "data": {
      "text/plain": [
       "'Стандартное отклонение для тарифа ultra по количеству СМС сообщений'"
      ]
     },
     "metadata": {},
     "output_type": "display_data"
    },
    {
     "data": {
      "text/plain": [
       "47.8"
      ]
     },
     "metadata": {},
     "output_type": "display_data"
    }
   ],
   "source": [
    "display('Стандартное отклонение для всей выборки по количеству СМС сообщений:', \\\n",
    "        (df['messages_count'].var() ** 0.5).round(1))\n",
    "display('Стандартное отклонение для тарифа smart по количеству СМС сообщений', \\\n",
    "        (df.query('tariff == \"smart\"').messages_count.var() ** 0.5).round(1))\n",
    "display('Стандартное отклонение для тарифа ultra по количеству СМС сообщений', \\\n",
    "        (df.query('tariff == \"ultra\"').messages_count.var() ** 0.5).round(1))"
   ]
  },
  {
   "cell_type": "markdown",
   "metadata": {},
   "source": [
    "**Вывод**\n",
    "\n",
    "1. Средняя длина звонков в месяц примерно 450 минут или 7,5 часов\n",
    "2. Средний объем интернет трафика в месяц 17 ГБ\n",
    "3. Среднее количество СМС сообщений в месяц 38 сообщений и довольно много тех, кто не пользуется данной услугой.\n",
    "4. Средняя продолжительность звонков в месяц больше у тарифа УЛЬТРА. Средняя продолжительность звонков для тарифов СМАРТ и УЛЬТРА не больше значений в тарифных пакетах, 500 минут и 3000 минут соответственно.\n",
    "5. Средний объем интернет-трафика в месяц не превышает 20 ГБ, кроме июля и декабря. Пользователи тарифа УЛЬТРА в среднем не превышают порог в 30 ГБ, тогда как пользователи тарифа СМАРТ в большинстве месяцев превышают уустановленный порог в 15 ГБ\n",
    "6. Пользователи тарифа СМАРТ и УЛЬТРА не превышают установленный порог для СМС сообщений, 50 СМС и 3000 СМС соответственно"
   ]
  },
  {
   "cell_type": "markdown",
   "metadata": {},
   "source": [
    "## Проверка гипотез"
   ]
  },
  {
   "cell_type": "markdown",
   "metadata": {},
   "source": [
    "### Гипотеза №1:  средняя выручка пользователей тарифов «Ультра» и «Смарт» различаются"
   ]
  },
  {
   "cell_type": "markdown",
   "metadata": {},
   "source": [
    "`Нулевая гипотеза`: средняя выручка пользователей тарифов «Ультра» и «Смарт» одинакова\n",
    "\n",
    "`Альтернативная гипотеза`: средняя выручка пользователей тарифов «Ультра» и «Смарт» различается"
   ]
  },
  {
   "cell_type": "code",
   "execution_count": 47,
   "metadata": {},
   "outputs": [
    {
     "data": {
      "text/plain": [
       "8       1150\n",
       "9        550\n",
       "10       550\n",
       "11      1150\n",
       "12      1550\n",
       "        ... \n",
       "3209     550\n",
       "3210     950\n",
       "3211    1550\n",
       "3212    1150\n",
       "3213     950\n",
       "Name: revenue, Length: 2229, dtype: int64"
      ]
     },
     "execution_count": 47,
     "metadata": {},
     "output_type": "execute_result"
    }
   ],
   "source": [
    "df_revenue_smart = df[df['tariff'] == 'smart']['revenue']\n",
    "df_revenue_smart"
   ]
  },
  {
   "cell_type": "code",
   "execution_count": 48,
   "metadata": {},
   "outputs": [
    {
     "data": {
      "text/plain": [
       "0       1950\n",
       "1       1950\n",
       "2       1950\n",
       "3       1950\n",
       "4       1950\n",
       "        ... \n",
       "3204    1950\n",
       "3205    1950\n",
       "3206    1950\n",
       "3207    1950\n",
       "3208    1950\n",
       "Name: revenue, Length: 985, dtype: int64"
      ]
     },
     "execution_count": 48,
     "metadata": {},
     "output_type": "execute_result"
    }
   ],
   "source": [
    "df_revenue_ultra = df[df['tariff'] == 'ultra']['revenue']\n",
    "df_revenue_ultra"
   ]
  },
  {
   "cell_type": "code",
   "execution_count": 49,
   "metadata": {},
   "outputs": [],
   "source": [
    "alpha = 0.05"
   ]
  },
  {
   "cell_type": "code",
   "execution_count": 50,
   "metadata": {},
   "outputs": [
    {
     "name": "stdout",
     "output_type": "stream",
     "text": [
      "p-значение: 4.2606313931076085e-250\n",
      "Отвергаем нулевую гипотезу\n"
     ]
    }
   ],
   "source": [
    "results = st.ttest_ind(df_revenue_smart, df_revenue_ultra, equal_var = False)\n",
    "\n",
    "print('p-значение:', results.pvalue)\n",
    "\n",
    "if results.pvalue < alpha:\n",
    "    print(\"Отвергаем нулевую гипотезу\")\n",
    "else:\n",
    "    print(\"Не получилось отвергнуть нулевую гипотезу\") "
   ]
  },
  {
   "cell_type": "code",
   "execution_count": 51,
   "metadata": {},
   "outputs": [
    {
     "data": {
      "text/plain": [
       "1289.9735307312696"
      ]
     },
     "execution_count": 51,
     "metadata": {},
     "output_type": "execute_result"
    }
   ],
   "source": [
    "df[df['tariff'] == 'smart']['revenue'].mean()"
   ]
  },
  {
   "cell_type": "code",
   "execution_count": 52,
   "metadata": {},
   "outputs": [
    {
     "data": {
      "text/plain": [
       "2070.1522842639592"
      ]
     },
     "execution_count": 52,
     "metadata": {},
     "output_type": "execute_result"
    }
   ],
   "source": [
    "df[df['tariff'] == 'ultra']['revenue'].mean()"
   ]
  },
  {
   "cell_type": "markdown",
   "metadata": {},
   "source": [
    "Отвегаем нулевую гипотезу о том что выручки тарифов равны, тк р-значение меньше порогового значения альфа. Вычислив среднее для двух выборок, можно с уверенностю сказать, что средняя выручка тарифов СМАРТ и УЛЬТРА различаются"
   ]
  },
  {
   "cell_type": "markdown",
   "metadata": {},
   "source": [
    "### Гипотеза №2:  средняя выручка пользователей из Москвы отличается от выручки пользователей из других регионов"
   ]
  },
  {
   "cell_type": "markdown",
   "metadata": {},
   "source": [
    "`Нулевая гипотеза`: средняя выручка пользователей из Москвы не отличается от выручки пользователей из других регионов\n",
    "\n",
    "`Альтернативная гипотеза`: средняя выручка пользователей из Москвы отличается от выручки пользователей из других регионов"
   ]
  },
  {
   "cell_type": "code",
   "execution_count": 53,
   "metadata": {},
   "outputs": [
    {
     "data": {
      "text/plain": [
       "8       1150\n",
       "9        550\n",
       "17      1950\n",
       "18      1950\n",
       "19      1950\n",
       "        ... \n",
       "3119     550\n",
       "3120    1750\n",
       "3121    1350\n",
       "3122     750\n",
       "3208    1950\n",
       "Name: revenue, Length: 611, dtype: int64"
      ]
     },
     "execution_count": 53,
     "metadata": {},
     "output_type": "execute_result"
    }
   ],
   "source": [
    "df_revenue_moscow = df[df['city'] == 'Москва']['revenue']\n",
    "df_revenue_moscow"
   ]
  },
  {
   "cell_type": "code",
   "execution_count": 54,
   "metadata": {},
   "outputs": [
    {
     "data": {
      "text/plain": [
       "0       1950\n",
       "1       1950\n",
       "2       1950\n",
       "3       1950\n",
       "4       1950\n",
       "        ... \n",
       "3209     550\n",
       "3210     950\n",
       "3211    1550\n",
       "3212    1150\n",
       "3213     950\n",
       "Name: revenue, Length: 2603, dtype: int64"
      ]
     },
     "execution_count": 54,
     "metadata": {},
     "output_type": "execute_result"
    }
   ],
   "source": [
    "df_revenue_regoins = df[df['city'] != 'Москва']['revenue']\n",
    "df_revenue_regoins"
   ]
  },
  {
   "cell_type": "code",
   "execution_count": 55,
   "metadata": {},
   "outputs": [
    {
     "name": "stdout",
     "output_type": "stream",
     "text": [
      "p-значение: 0.5257376663729298\n",
      "Не получилось отвергнуть нулевую гипотезу\n"
     ]
    }
   ],
   "source": [
    "results = st.ttest_ind(df_revenue_moscow, df_revenue_regoins, equal_var = False)\n",
    "\n",
    "print('p-значение:', results.pvalue)\n",
    "\n",
    "if results.pvalue < alpha:\n",
    "    print(\"Отвергаем нулевую гипотезу\")\n",
    "else:\n",
    "    print(\"Не получилось отвергнуть нулевую гипотезу\")"
   ]
  },
  {
   "cell_type": "code",
   "execution_count": 56,
   "metadata": {},
   "outputs": [
    {
     "data": {
      "text/plain": [
       "1546.7135842880523"
      ]
     },
     "execution_count": 56,
     "metadata": {},
     "output_type": "execute_result"
    }
   ],
   "source": [
    "df[df['city'] == 'Москва']['revenue'].mean()"
   ]
  },
  {
   "cell_type": "code",
   "execution_count": 57,
   "metadata": {},
   "outputs": [
    {
     "data": {
      "text/plain": [
       "1524.9362274298885"
      ]
     },
     "execution_count": 57,
     "metadata": {},
     "output_type": "execute_result"
    }
   ],
   "source": [
    "df[df['city'] != 'Москва']['revenue'].mean()"
   ]
  },
  {
   "cell_type": "markdown",
   "metadata": {},
   "source": [
    "Не отвергаем нулевую гипотезу о том, что средняя выручка пользователей из Москвы не отличается от выручки пользователей из других регионов. Посичитав среднее для двух выборок, видно, что значения схожи, что не удивительно. Хоть выборки и разного размера, однако в обеих есть пользователи тарифа СМАРТ и УЛЬТРА."
   ]
  },
  {
   "cell_type": "markdown",
   "metadata": {},
   "source": [
    "## Общий вывод"
   ]
  },
  {
   "cell_type": "markdown",
   "metadata": {},
   "source": [
    "Открыв файлы с данными, изучили их. Перед объединением, добавили в таблицы с данными о длине звонков, интернет-трафике и СМС сообщениями номер месяца и сгруппировали их по месяцу и уникальному номеру пользователя, а точнее посчитали в каком количестве клиенты пользовались услугами в месяц. Далее последовательно присоединили таблицы - с начала данные о длине звонков, интернет-трафике и СМС сообщениях, присоединяли их по месяцу и уникальному номеру пользователя. Затем уже присоединили  таблицы с информацией о пользователях и тарифах.\n",
    "\n",
    "С помощью функции добавили столбец с выручкой по каждому клиенту в месяц.\n",
    "\n",
    "В ходе анализа показателей. и поведения клиентов, было выяснено что:\n",
    "1. Средняя длина звонков в месяц примерно 450 минут или 7,5 часов\n",
    "2. Средний объем интернет трафика в месяц 17 ГБ\n",
    "3. Среднее количество СМС сообщений в месяц 38 сообщений и довольно много тех, кто не пользуется данной услугой.\n",
    "4. Средняя продолжительность звонков в месяц больше у тарифа УЛЬТРА. Средняя продолжительность звонков для тарифов СМАРТ и УЛЬТРА не больше значений в тарифных пакетах, 500 минут и 3000 минут соответственно.\n",
    "5. Средний объем интернет-трафика в месяц не превышает 20 ГБ, кроме июля и декабря. Пользователи тарифа УЛЬТРА в среднем не превышают порог в 30 ГБ, тогда как пользователи тарифа СМАРТ в большинстве месяцев превышают уустановленный порог в 15 ГБ\n",
    "6. Пользователи тарифа СМАРТ и УЛЬТРА не превышают установленный порог для СМС сообщений, 50 СМС и 3000 СМС соответственно\n",
    "\n",
    "Проверили несколько гипотез:\n",
    "\n",
    "- Гипотеза №1: средняя выручка пользователей тарифов «Ультра» и «Смарт» различаются\n",
    "\n",
    "Учитывая, что нулевая гипотеза о равенстве выручек отвергнута, можно предположить, что гипотеза о их различии подтверждается\n",
    "\n",
    "- Гипотеза №2: средняя выручка пользователей из Москвы отличается от выручки пользователей из других регионов\n",
    "\n",
    "Нулевую гипотезу о том, что средняя выручка пользоватеелей Москвы не отличается от выручки пользователей из других регионов, не удалось оттвергнуть, следовательно, можно предположить, что гипотеза о их различии не подтвержается"
   ]
  }
 ],
 "metadata": {
  "ExecuteTimeLog": [
   {
    "duration": 479,
    "start_time": "2022-04-13T14:23:25.215Z"
   },
   {
    "duration": 121,
    "start_time": "2022-04-13T14:38:55.166Z"
   },
   {
    "duration": 15,
    "start_time": "2022-04-13T14:39:30.532Z"
   },
   {
    "duration": 55,
    "start_time": "2022-04-13T14:41:55.669Z"
   },
   {
    "duration": 22,
    "start_time": "2022-04-13T14:42:03.193Z"
   },
   {
    "duration": 8,
    "start_time": "2022-04-13T14:44:35.136Z"
   },
   {
    "duration": 110,
    "start_time": "2022-04-13T14:45:55.586Z"
   },
   {
    "duration": 17,
    "start_time": "2022-04-13T14:47:34.233Z"
   },
   {
    "duration": 10,
    "start_time": "2022-04-13T14:52:08.919Z"
   },
   {
    "duration": 10,
    "start_time": "2022-04-13T14:52:43.362Z"
   },
   {
    "duration": 8,
    "start_time": "2022-04-13T14:57:00.239Z"
   },
   {
    "duration": 18,
    "start_time": "2022-04-13T14:57:54.706Z"
   },
   {
    "duration": 73,
    "start_time": "2022-04-13T15:07:53.392Z"
   },
   {
    "duration": 7,
    "start_time": "2022-04-13T15:08:58.604Z"
   },
   {
    "duration": 17,
    "start_time": "2022-04-13T15:09:01.359Z"
   },
   {
    "duration": 10,
    "start_time": "2022-04-13T15:13:06.247Z"
   },
   {
    "duration": 7,
    "start_time": "2022-04-13T15:13:07.061Z"
   },
   {
    "duration": 9,
    "start_time": "2022-04-13T15:13:25.076Z"
   },
   {
    "duration": 46,
    "start_time": "2022-04-14T15:02:45.985Z"
   },
   {
    "duration": 437,
    "start_time": "2022-04-14T15:02:52.877Z"
   },
   {
    "duration": 0,
    "start_time": "2022-04-14T15:02:53.316Z"
   },
   {
    "duration": 0,
    "start_time": "2022-04-14T15:02:53.317Z"
   },
   {
    "duration": 0,
    "start_time": "2022-04-14T15:02:53.318Z"
   },
   {
    "duration": 0,
    "start_time": "2022-04-14T15:02:53.319Z"
   },
   {
    "duration": 0,
    "start_time": "2022-04-14T15:02:53.320Z"
   },
   {
    "duration": 0,
    "start_time": "2022-04-14T15:02:53.321Z"
   },
   {
    "duration": 0,
    "start_time": "2022-04-14T15:02:53.322Z"
   },
   {
    "duration": 0,
    "start_time": "2022-04-14T15:02:53.322Z"
   },
   {
    "duration": 0,
    "start_time": "2022-04-14T15:02:53.323Z"
   },
   {
    "duration": 0,
    "start_time": "2022-04-14T15:02:53.324Z"
   },
   {
    "duration": 0,
    "start_time": "2022-04-14T15:02:53.325Z"
   },
   {
    "duration": 0,
    "start_time": "2022-04-14T15:02:53.326Z"
   },
   {
    "duration": 0,
    "start_time": "2022-04-14T15:02:53.327Z"
   },
   {
    "duration": 0,
    "start_time": "2022-04-14T15:02:53.328Z"
   },
   {
    "duration": 0,
    "start_time": "2022-04-14T15:02:53.329Z"
   },
   {
    "duration": 0,
    "start_time": "2022-04-14T15:02:53.330Z"
   },
   {
    "duration": 3,
    "start_time": "2022-04-14T15:03:23.937Z"
   },
   {
    "duration": 63,
    "start_time": "2022-04-14T15:03:23.942Z"
   },
   {
    "duration": 14,
    "start_time": "2022-04-14T15:03:24.007Z"
   },
   {
    "duration": 11,
    "start_time": "2022-04-14T15:03:24.023Z"
   },
   {
    "duration": 12,
    "start_time": "2022-04-14T15:03:24.036Z"
   },
   {
    "duration": 151,
    "start_time": "2022-04-14T15:03:24.050Z"
   },
   {
    "duration": 8,
    "start_time": "2022-04-14T15:03:24.202Z"
   },
   {
    "duration": 26,
    "start_time": "2022-04-14T15:03:24.212Z"
   },
   {
    "duration": 119,
    "start_time": "2022-04-14T15:03:24.239Z"
   },
   {
    "duration": 7,
    "start_time": "2022-04-14T15:03:24.360Z"
   },
   {
    "duration": 31,
    "start_time": "2022-04-14T15:03:24.369Z"
   },
   {
    "duration": 80,
    "start_time": "2022-04-14T15:03:24.402Z"
   },
   {
    "duration": 7,
    "start_time": "2022-04-14T15:03:24.483Z"
   },
   {
    "duration": 27,
    "start_time": "2022-04-14T15:03:24.491Z"
   },
   {
    "duration": 15,
    "start_time": "2022-04-14T15:03:24.520Z"
   },
   {
    "duration": 8,
    "start_time": "2022-04-14T15:03:24.536Z"
   },
   {
    "duration": 11,
    "start_time": "2022-04-14T15:03:24.546Z"
   },
   {
    "duration": 10,
    "start_time": "2022-04-14T15:06:23.204Z"
   },
   {
    "duration": 94,
    "start_time": "2022-04-14T15:06:41.454Z"
   },
   {
    "duration": 37,
    "start_time": "2022-04-14T15:16:58.185Z"
   },
   {
    "duration": 35,
    "start_time": "2022-04-14T15:18:06.696Z"
   },
   {
    "duration": 35,
    "start_time": "2022-04-14T15:18:42.466Z"
   },
   {
    "duration": 31,
    "start_time": "2022-04-14T15:19:24.653Z"
   },
   {
    "duration": 11,
    "start_time": "2022-04-14T15:19:41.362Z"
   },
   {
    "duration": 11,
    "start_time": "2022-04-14T15:19:57.135Z"
   },
   {
    "duration": 10,
    "start_time": "2022-04-14T15:20:03.567Z"
   },
   {
    "duration": 10,
    "start_time": "2022-04-14T15:25:48.983Z"
   },
   {
    "duration": 2,
    "start_time": "2022-04-14T15:27:45.312Z"
   },
   {
    "duration": 51,
    "start_time": "2022-04-14T15:27:45.318Z"
   },
   {
    "duration": 9,
    "start_time": "2022-04-14T15:27:45.371Z"
   },
   {
    "duration": 12,
    "start_time": "2022-04-14T15:27:45.381Z"
   },
   {
    "duration": 6,
    "start_time": "2022-04-14T15:27:45.395Z"
   },
   {
    "duration": 151,
    "start_time": "2022-04-14T15:27:45.403Z"
   },
   {
    "duration": 8,
    "start_time": "2022-04-14T15:27:45.555Z"
   },
   {
    "duration": 25,
    "start_time": "2022-04-14T15:27:45.564Z"
   },
   {
    "duration": 57,
    "start_time": "2022-04-14T15:27:45.590Z"
   },
   {
    "duration": 24,
    "start_time": "2022-04-14T15:27:45.649Z"
   },
   {
    "duration": 119,
    "start_time": "2022-04-14T15:27:45.674Z"
   },
   {
    "duration": 10,
    "start_time": "2022-04-14T15:27:45.795Z"
   },
   {
    "duration": 28,
    "start_time": "2022-04-14T15:27:45.807Z"
   },
   {
    "duration": 81,
    "start_time": "2022-04-14T15:27:45.836Z"
   },
   {
    "duration": 7,
    "start_time": "2022-04-14T15:27:45.918Z"
   },
   {
    "duration": 21,
    "start_time": "2022-04-14T15:27:45.926Z"
   },
   {
    "duration": 15,
    "start_time": "2022-04-14T15:27:45.949Z"
   },
   {
    "duration": 6,
    "start_time": "2022-04-14T15:27:45.966Z"
   },
   {
    "duration": 10,
    "start_time": "2022-04-14T15:27:45.974Z"
   },
   {
    "duration": 12,
    "start_time": "2022-04-14T15:28:22.826Z"
   },
   {
    "duration": 13,
    "start_time": "2022-04-14T15:29:20.010Z"
   },
   {
    "duration": 512,
    "start_time": "2022-04-23T12:53:26.467Z"
   },
   {
    "duration": 24,
    "start_time": "2022-04-23T12:53:26.982Z"
   },
   {
    "duration": 25,
    "start_time": "2022-04-23T12:53:27.008Z"
   },
   {
    "duration": 15,
    "start_time": "2022-04-23T12:53:27.036Z"
   },
   {
    "duration": 6,
    "start_time": "2022-04-23T12:53:27.054Z"
   },
   {
    "duration": 170,
    "start_time": "2022-04-23T12:53:27.062Z"
   },
   {
    "duration": 9,
    "start_time": "2022-04-23T12:53:27.234Z"
   },
   {
    "duration": 35,
    "start_time": "2022-04-23T12:53:27.245Z"
   },
   {
    "duration": 64,
    "start_time": "2022-04-23T12:53:27.282Z"
   },
   {
    "duration": 50,
    "start_time": "2022-04-23T12:53:27.348Z"
   },
   {
    "duration": 131,
    "start_time": "2022-04-23T12:53:27.400Z"
   },
   {
    "duration": 8,
    "start_time": "2022-04-23T12:53:27.533Z"
   },
   {
    "duration": 25,
    "start_time": "2022-04-23T12:53:27.543Z"
   },
   {
    "duration": 94,
    "start_time": "2022-04-23T12:53:27.569Z"
   },
   {
    "duration": 7,
    "start_time": "2022-04-23T12:53:27.665Z"
   },
   {
    "duration": 28,
    "start_time": "2022-04-23T12:53:27.674Z"
   },
   {
    "duration": 11,
    "start_time": "2022-04-23T12:53:27.704Z"
   },
   {
    "duration": 8,
    "start_time": "2022-04-23T12:53:27.716Z"
   },
   {
    "duration": 12,
    "start_time": "2022-04-23T12:53:27.725Z"
   },
   {
    "duration": 2338,
    "start_time": "2022-04-23T13:53:45.435Z"
   },
   {
    "duration": 3,
    "start_time": "2022-04-23T13:54:40.940Z"
   },
   {
    "duration": 20,
    "start_time": "2022-04-23T13:54:40.945Z"
   },
   {
    "duration": 11,
    "start_time": "2022-04-23T13:54:40.967Z"
   },
   {
    "duration": 12,
    "start_time": "2022-04-23T13:54:40.979Z"
   },
   {
    "duration": 5,
    "start_time": "2022-04-23T13:54:40.993Z"
   },
   {
    "duration": 154,
    "start_time": "2022-04-23T13:54:41.000Z"
   },
   {
    "duration": 9,
    "start_time": "2022-04-23T13:54:41.156Z"
   },
   {
    "duration": 40,
    "start_time": "2022-04-23T13:54:41.167Z"
   },
   {
    "duration": 59,
    "start_time": "2022-04-23T13:54:41.209Z"
   },
   {
    "duration": 52,
    "start_time": "2022-04-23T13:54:41.270Z"
   },
   {
    "duration": 129,
    "start_time": "2022-04-23T13:54:41.325Z"
   },
   {
    "duration": 9,
    "start_time": "2022-04-23T13:54:41.456Z"
   },
   {
    "duration": 35,
    "start_time": "2022-04-23T13:54:41.466Z"
   },
   {
    "duration": 82,
    "start_time": "2022-04-23T13:54:41.503Z"
   },
   {
    "duration": 12,
    "start_time": "2022-04-23T13:54:41.586Z"
   },
   {
    "duration": 27,
    "start_time": "2022-04-23T13:54:41.599Z"
   },
   {
    "duration": 9,
    "start_time": "2022-04-23T13:54:41.628Z"
   },
   {
    "duration": 8,
    "start_time": "2022-04-23T13:54:41.639Z"
   },
   {
    "duration": 11,
    "start_time": "2022-04-23T13:54:41.649Z"
   },
   {
    "duration": 12,
    "start_time": "2022-04-23T14:03:24.389Z"
   },
   {
    "duration": 3,
    "start_time": "2022-04-23T14:03:37.748Z"
   },
   {
    "duration": 21,
    "start_time": "2022-04-23T14:03:37.753Z"
   },
   {
    "duration": 10,
    "start_time": "2022-04-23T14:03:37.775Z"
   },
   {
    "duration": 21,
    "start_time": "2022-04-23T14:03:37.787Z"
   },
   {
    "duration": 6,
    "start_time": "2022-04-23T14:03:37.810Z"
   },
   {
    "duration": 154,
    "start_time": "2022-04-23T14:03:37.818Z"
   },
   {
    "duration": 8,
    "start_time": "2022-04-23T14:03:37.974Z"
   },
   {
    "duration": 33,
    "start_time": "2022-04-23T14:03:37.984Z"
   },
   {
    "duration": 57,
    "start_time": "2022-04-23T14:03:38.019Z"
   },
   {
    "duration": 39,
    "start_time": "2022-04-23T14:03:38.079Z"
   },
   {
    "duration": 0,
    "start_time": "2022-04-23T14:03:38.120Z"
   },
   {
    "duration": 0,
    "start_time": "2022-04-23T14:03:38.121Z"
   },
   {
    "duration": 0,
    "start_time": "2022-04-23T14:03:38.122Z"
   },
   {
    "duration": 0,
    "start_time": "2022-04-23T14:03:38.123Z"
   },
   {
    "duration": 0,
    "start_time": "2022-04-23T14:03:38.124Z"
   },
   {
    "duration": 0,
    "start_time": "2022-04-23T14:03:38.125Z"
   },
   {
    "duration": 0,
    "start_time": "2022-04-23T14:03:38.125Z"
   },
   {
    "duration": 0,
    "start_time": "2022-04-23T14:03:38.126Z"
   },
   {
    "duration": 0,
    "start_time": "2022-04-23T14:03:38.127Z"
   },
   {
    "duration": 13,
    "start_time": "2022-04-23T14:04:05.850Z"
   },
   {
    "duration": 3,
    "start_time": "2022-04-23T14:04:15.136Z"
   },
   {
    "duration": 22,
    "start_time": "2022-04-23T14:04:15.141Z"
   },
   {
    "duration": 10,
    "start_time": "2022-04-23T14:04:15.165Z"
   },
   {
    "duration": 10,
    "start_time": "2022-04-23T14:04:15.177Z"
   },
   {
    "duration": 4,
    "start_time": "2022-04-23T14:04:15.189Z"
   },
   {
    "duration": 141,
    "start_time": "2022-04-23T14:04:15.194Z"
   },
   {
    "duration": 7,
    "start_time": "2022-04-23T14:04:15.337Z"
   },
   {
    "duration": 28,
    "start_time": "2022-04-23T14:04:15.346Z"
   },
   {
    "duration": 68,
    "start_time": "2022-04-23T14:04:15.376Z"
   },
   {
    "duration": 48,
    "start_time": "2022-04-23T14:04:15.446Z"
   },
   {
    "duration": 128,
    "start_time": "2022-04-23T14:04:15.495Z"
   },
   {
    "duration": 8,
    "start_time": "2022-04-23T14:04:15.625Z"
   },
   {
    "duration": 22,
    "start_time": "2022-04-23T14:04:15.636Z"
   },
   {
    "duration": 103,
    "start_time": "2022-04-23T14:04:15.659Z"
   },
   {
    "duration": 7,
    "start_time": "2022-04-23T14:04:15.764Z"
   },
   {
    "duration": 29,
    "start_time": "2022-04-23T14:04:15.773Z"
   },
   {
    "duration": 10,
    "start_time": "2022-04-23T14:04:15.804Z"
   },
   {
    "duration": 8,
    "start_time": "2022-04-23T14:04:15.816Z"
   },
   {
    "duration": 11,
    "start_time": "2022-04-23T14:04:15.826Z"
   },
   {
    "duration": 10,
    "start_time": "2022-04-23T14:05:02.415Z"
   },
   {
    "duration": 547,
    "start_time": "2022-04-26T14:30:58.885Z"
   },
   {
    "duration": 25,
    "start_time": "2022-04-26T14:30:59.435Z"
   },
   {
    "duration": 24,
    "start_time": "2022-04-26T14:30:59.462Z"
   },
   {
    "duration": 12,
    "start_time": "2022-04-26T14:30:59.489Z"
   },
   {
    "duration": 8,
    "start_time": "2022-04-26T14:30:59.502Z"
   },
   {
    "duration": 153,
    "start_time": "2022-04-26T14:30:59.512Z"
   },
   {
    "duration": 9,
    "start_time": "2022-04-26T14:30:59.666Z"
   },
   {
    "duration": 22,
    "start_time": "2022-04-26T14:30:59.676Z"
   },
   {
    "duration": 142,
    "start_time": "2022-04-26T14:30:59.700Z"
   },
   {
    "duration": 0,
    "start_time": "2022-04-26T14:30:59.845Z"
   },
   {
    "duration": 0,
    "start_time": "2022-04-26T14:30:59.845Z"
   },
   {
    "duration": 0,
    "start_time": "2022-04-26T14:30:59.847Z"
   },
   {
    "duration": 0,
    "start_time": "2022-04-26T14:30:59.848Z"
   },
   {
    "duration": 0,
    "start_time": "2022-04-26T14:30:59.849Z"
   },
   {
    "duration": 0,
    "start_time": "2022-04-26T14:30:59.850Z"
   },
   {
    "duration": 0,
    "start_time": "2022-04-26T14:30:59.851Z"
   },
   {
    "duration": 0,
    "start_time": "2022-04-26T14:30:59.852Z"
   },
   {
    "duration": 0,
    "start_time": "2022-04-26T14:30:59.853Z"
   },
   {
    "duration": 0,
    "start_time": "2022-04-26T14:30:59.854Z"
   },
   {
    "duration": 0,
    "start_time": "2022-04-26T14:30:59.855Z"
   },
   {
    "duration": 3,
    "start_time": "2022-04-26T14:37:44.394Z"
   },
   {
    "duration": 18,
    "start_time": "2022-04-26T14:37:44.400Z"
   },
   {
    "duration": 13,
    "start_time": "2022-04-26T14:37:44.421Z"
   },
   {
    "duration": 18,
    "start_time": "2022-04-26T14:37:44.435Z"
   },
   {
    "duration": 6,
    "start_time": "2022-04-26T14:37:44.456Z"
   },
   {
    "duration": 220,
    "start_time": "2022-04-26T14:37:44.464Z"
   },
   {
    "duration": 11,
    "start_time": "2022-04-26T14:37:44.686Z"
   },
   {
    "duration": 36,
    "start_time": "2022-04-26T14:37:44.699Z"
   },
   {
    "duration": 60,
    "start_time": "2022-04-26T14:37:44.737Z"
   },
   {
    "duration": 47,
    "start_time": "2022-04-26T14:37:44.799Z"
   },
   {
    "duration": 11,
    "start_time": "2022-04-26T14:37:44.848Z"
   },
   {
    "duration": 143,
    "start_time": "2022-04-26T14:37:44.861Z"
   },
   {
    "duration": 16,
    "start_time": "2022-04-26T14:37:45.007Z"
   },
   {
    "duration": 39,
    "start_time": "2022-04-26T14:37:45.027Z"
   },
   {
    "duration": 91,
    "start_time": "2022-04-26T14:37:45.067Z"
   },
   {
    "duration": 8,
    "start_time": "2022-04-26T14:37:45.160Z"
   },
   {
    "duration": 19,
    "start_time": "2022-04-26T14:37:45.171Z"
   },
   {
    "duration": 11,
    "start_time": "2022-04-26T14:37:45.193Z"
   },
   {
    "duration": 26,
    "start_time": "2022-04-26T14:37:45.206Z"
   },
   {
    "duration": 19,
    "start_time": "2022-04-26T14:37:45.234Z"
   },
   {
    "duration": 41,
    "start_time": "2022-04-26T14:59:30.290Z"
   },
   {
    "duration": 32,
    "start_time": "2022-04-26T15:05:27.606Z"
   },
   {
    "duration": 43,
    "start_time": "2022-04-26T15:09:01.988Z"
   },
   {
    "duration": 32,
    "start_time": "2022-04-26T15:11:39.086Z"
   },
   {
    "duration": 43,
    "start_time": "2022-04-26T15:16:02.022Z"
   },
   {
    "duration": 33,
    "start_time": "2022-04-26T15:16:29.998Z"
   },
   {
    "duration": 26,
    "start_time": "2022-04-26T15:16:38.048Z"
   },
   {
    "duration": 39,
    "start_time": "2022-04-26T15:16:59.636Z"
   },
   {
    "duration": 6,
    "start_time": "2022-04-26T15:34:14.786Z"
   },
   {
    "duration": 29,
    "start_time": "2022-04-26T15:57:46.850Z"
   },
   {
    "duration": 24,
    "start_time": "2022-04-26T15:57:58.305Z"
   },
   {
    "duration": 20,
    "start_time": "2022-04-26T15:58:41.664Z"
   },
   {
    "duration": 38,
    "start_time": "2022-04-26T16:04:28.683Z"
   },
   {
    "duration": 32,
    "start_time": "2022-04-26T16:05:44.645Z"
   },
   {
    "duration": 21,
    "start_time": "2022-04-26T16:07:25.050Z"
   },
   {
    "duration": 546,
    "start_time": "2022-04-27T15:53:31.517Z"
   },
   {
    "duration": 28,
    "start_time": "2022-04-27T15:53:32.066Z"
   },
   {
    "duration": 24,
    "start_time": "2022-04-27T15:53:32.097Z"
   },
   {
    "duration": 17,
    "start_time": "2022-04-27T15:53:32.123Z"
   },
   {
    "duration": 7,
    "start_time": "2022-04-27T15:53:32.145Z"
   },
   {
    "duration": 308,
    "start_time": "2022-04-27T15:53:32.154Z"
   },
   {
    "duration": 16,
    "start_time": "2022-04-27T15:53:32.464Z"
   },
   {
    "duration": 69,
    "start_time": "2022-04-27T15:53:32.483Z"
   },
   {
    "duration": 102,
    "start_time": "2022-04-27T15:53:32.555Z"
   },
   {
    "duration": 46,
    "start_time": "2022-04-27T15:53:32.659Z"
   },
   {
    "duration": 177,
    "start_time": "2022-04-27T15:53:32.707Z"
   },
   {
    "duration": 12,
    "start_time": "2022-04-27T15:53:32.886Z"
   },
   {
    "duration": 49,
    "start_time": "2022-04-27T15:53:32.900Z"
   },
   {
    "duration": 63,
    "start_time": "2022-04-27T15:53:32.953Z"
   },
   {
    "duration": 52,
    "start_time": "2022-04-27T15:53:33.018Z"
   },
   {
    "duration": 127,
    "start_time": "2022-04-27T15:53:33.072Z"
   },
   {
    "duration": 10,
    "start_time": "2022-04-27T15:53:33.201Z"
   },
   {
    "duration": 25,
    "start_time": "2022-04-27T15:53:33.225Z"
   },
   {
    "duration": 46,
    "start_time": "2022-04-27T15:53:33.252Z"
   },
   {
    "duration": 52,
    "start_time": "2022-04-27T15:53:33.300Z"
   },
   {
    "duration": 12,
    "start_time": "2022-04-27T15:53:33.354Z"
   },
   {
    "duration": 12,
    "start_time": "2022-04-27T15:53:33.368Z"
   },
   {
    "duration": 43,
    "start_time": "2022-04-27T15:53:33.382Z"
   },
   {
    "duration": 24,
    "start_time": "2022-04-27T15:53:33.427Z"
   },
   {
    "duration": 60,
    "start_time": "2022-04-27T15:53:33.453Z"
   },
   {
    "duration": 26,
    "start_time": "2022-04-27T15:53:33.524Z"
   },
   {
    "duration": 111,
    "start_time": "2022-04-27T17:26:15.414Z"
   },
   {
    "duration": 315,
    "start_time": "2022-04-27T17:26:48.764Z"
   },
   {
    "duration": 251,
    "start_time": "2022-04-27T17:27:22.717Z"
   },
   {
    "duration": 300,
    "start_time": "2022-04-27T17:28:39.972Z"
   },
   {
    "duration": 409,
    "start_time": "2022-04-29T16:09:06.919Z"
   },
   {
    "duration": 20,
    "start_time": "2022-04-29T16:09:07.330Z"
   },
   {
    "duration": 19,
    "start_time": "2022-04-29T16:09:07.352Z"
   },
   {
    "duration": 30,
    "start_time": "2022-04-29T16:09:07.375Z"
   },
   {
    "duration": 6,
    "start_time": "2022-04-29T16:09:07.407Z"
   },
   {
    "duration": 217,
    "start_time": "2022-04-29T16:09:07.415Z"
   },
   {
    "duration": 12,
    "start_time": "2022-04-29T16:09:07.634Z"
   },
   {
    "duration": 43,
    "start_time": "2022-04-29T16:09:07.658Z"
   },
   {
    "duration": 71,
    "start_time": "2022-04-29T16:09:07.702Z"
   },
   {
    "duration": 37,
    "start_time": "2022-04-29T16:09:07.777Z"
   },
   {
    "duration": 140,
    "start_time": "2022-04-29T16:09:07.816Z"
   },
   {
    "duration": 14,
    "start_time": "2022-04-29T16:09:07.958Z"
   },
   {
    "duration": 39,
    "start_time": "2022-04-29T16:09:07.977Z"
   },
   {
    "duration": 44,
    "start_time": "2022-04-29T16:09:08.020Z"
   },
   {
    "duration": 42,
    "start_time": "2022-04-29T16:09:08.066Z"
   },
   {
    "duration": 96,
    "start_time": "2022-04-29T16:09:08.110Z"
   },
   {
    "duration": 7,
    "start_time": "2022-04-29T16:09:08.208Z"
   },
   {
    "duration": 34,
    "start_time": "2022-04-29T16:09:08.216Z"
   },
   {
    "duration": 67,
    "start_time": "2022-04-29T16:09:08.252Z"
   },
   {
    "duration": 24,
    "start_time": "2022-04-29T16:09:08.320Z"
   },
   {
    "duration": 21,
    "start_time": "2022-04-29T16:09:08.346Z"
   },
   {
    "duration": 23,
    "start_time": "2022-04-29T16:09:08.369Z"
   },
   {
    "duration": 36,
    "start_time": "2022-04-29T16:09:08.394Z"
   },
   {
    "duration": 20,
    "start_time": "2022-04-29T16:09:08.432Z"
   },
   {
    "duration": 67,
    "start_time": "2022-04-29T16:09:08.453Z"
   },
   {
    "duration": 13,
    "start_time": "2022-04-29T16:09:08.522Z"
   },
   {
    "duration": 158,
    "start_time": "2022-04-29T16:09:08.537Z"
   },
   {
    "duration": 49,
    "start_time": "2022-04-30T11:42:38.716Z"
   },
   {
    "duration": 429,
    "start_time": "2022-04-30T11:42:44.507Z"
   },
   {
    "duration": 31,
    "start_time": "2022-04-30T11:42:44.938Z"
   },
   {
    "duration": 18,
    "start_time": "2022-04-30T11:42:44.971Z"
   },
   {
    "duration": 12,
    "start_time": "2022-04-30T11:42:44.991Z"
   },
   {
    "duration": 11,
    "start_time": "2022-04-30T11:42:45.006Z"
   },
   {
    "duration": 197,
    "start_time": "2022-04-30T11:42:45.019Z"
   },
   {
    "duration": 9,
    "start_time": "2022-04-30T11:42:45.217Z"
   },
   {
    "duration": 29,
    "start_time": "2022-04-30T11:42:45.232Z"
   },
   {
    "duration": 76,
    "start_time": "2022-04-30T11:42:45.263Z"
   },
   {
    "duration": 36,
    "start_time": "2022-04-30T11:42:45.340Z"
   },
   {
    "duration": 151,
    "start_time": "2022-04-30T11:42:45.378Z"
   },
   {
    "duration": 9,
    "start_time": "2022-04-30T11:42:45.531Z"
   },
   {
    "duration": 25,
    "start_time": "2022-04-30T11:42:45.542Z"
   },
   {
    "duration": 40,
    "start_time": "2022-04-30T11:42:45.570Z"
   },
   {
    "duration": 53,
    "start_time": "2022-04-30T11:42:45.611Z"
   },
   {
    "duration": 105,
    "start_time": "2022-04-30T11:42:45.666Z"
   },
   {
    "duration": 8,
    "start_time": "2022-04-30T11:42:45.773Z"
   },
   {
    "duration": 23,
    "start_time": "2022-04-30T11:42:45.783Z"
   },
   {
    "duration": 53,
    "start_time": "2022-04-30T11:42:45.808Z"
   },
   {
    "duration": 26,
    "start_time": "2022-04-30T11:42:45.864Z"
   },
   {
    "duration": 14,
    "start_time": "2022-04-30T11:42:45.892Z"
   },
   {
    "duration": 8,
    "start_time": "2022-04-30T11:42:45.908Z"
   },
   {
    "duration": 23,
    "start_time": "2022-04-30T11:42:45.917Z"
   },
   {
    "duration": 8,
    "start_time": "2022-04-30T11:42:45.942Z"
   },
   {
    "duration": 42,
    "start_time": "2022-04-30T11:42:45.951Z"
   },
   {
    "duration": 14,
    "start_time": "2022-04-30T11:42:45.995Z"
   },
   {
    "duration": 180,
    "start_time": "2022-04-30T11:42:46.010Z"
   },
   {
    "duration": 1146,
    "start_time": "2022-04-30T11:42:46.192Z"
   },
   {
    "duration": 499,
    "start_time": "2022-04-30T11:43:35.984Z"
   },
   {
    "duration": 680,
    "start_time": "2022-04-30T11:43:41.814Z"
   },
   {
    "duration": 189,
    "start_time": "2022-04-30T11:43:54.863Z"
   },
   {
    "duration": 207,
    "start_time": "2022-04-30T11:45:24.304Z"
   },
   {
    "duration": 117,
    "start_time": "2022-04-30T11:47:27.434Z"
   },
   {
    "duration": 119,
    "start_time": "2022-04-30T11:47:41.666Z"
   },
   {
    "duration": 125,
    "start_time": "2022-04-30T11:47:49.942Z"
   },
   {
    "duration": 9,
    "start_time": "2022-04-30T11:51:35.552Z"
   },
   {
    "duration": 216,
    "start_time": "2022-04-30T12:13:44.637Z"
   },
   {
    "duration": 307,
    "start_time": "2022-04-30T12:14:00.443Z"
   },
   {
    "duration": 3,
    "start_time": "2022-04-30T12:39:24.186Z"
   },
   {
    "duration": 43,
    "start_time": "2022-04-30T12:39:24.191Z"
   },
   {
    "duration": 9,
    "start_time": "2022-04-30T12:39:24.236Z"
   },
   {
    "duration": 15,
    "start_time": "2022-04-30T12:39:24.246Z"
   },
   {
    "duration": 8,
    "start_time": "2022-04-30T12:39:24.263Z"
   },
   {
    "duration": 155,
    "start_time": "2022-04-30T12:39:24.272Z"
   },
   {
    "duration": 9,
    "start_time": "2022-04-30T12:39:24.429Z"
   },
   {
    "duration": 29,
    "start_time": "2022-04-30T12:39:24.440Z"
   },
   {
    "duration": 72,
    "start_time": "2022-04-30T12:39:24.471Z"
   },
   {
    "duration": 32,
    "start_time": "2022-04-30T12:39:24.545Z"
   },
   {
    "duration": 142,
    "start_time": "2022-04-30T12:39:24.579Z"
   },
   {
    "duration": 12,
    "start_time": "2022-04-30T12:39:24.723Z"
   },
   {
    "duration": 24,
    "start_time": "2022-04-30T12:39:24.737Z"
   },
   {
    "duration": 42,
    "start_time": "2022-04-30T12:39:24.763Z"
   },
   {
    "duration": 54,
    "start_time": "2022-04-30T12:39:24.807Z"
   },
   {
    "duration": 99,
    "start_time": "2022-04-30T12:39:24.862Z"
   },
   {
    "duration": 8,
    "start_time": "2022-04-30T12:39:24.963Z"
   },
   {
    "duration": 27,
    "start_time": "2022-04-30T12:39:24.972Z"
   },
   {
    "duration": 50,
    "start_time": "2022-04-30T12:39:25.000Z"
   },
   {
    "duration": 24,
    "start_time": "2022-04-30T12:39:25.052Z"
   },
   {
    "duration": 15,
    "start_time": "2022-04-30T12:39:25.078Z"
   },
   {
    "duration": 8,
    "start_time": "2022-04-30T12:39:25.094Z"
   },
   {
    "duration": 13,
    "start_time": "2022-04-30T12:39:25.104Z"
   },
   {
    "duration": 6,
    "start_time": "2022-04-30T12:39:25.133Z"
   },
   {
    "duration": 40,
    "start_time": "2022-04-30T12:39:25.141Z"
   },
   {
    "duration": 14,
    "start_time": "2022-04-30T12:39:25.183Z"
   },
   {
    "duration": 169,
    "start_time": "2022-04-30T12:39:25.199Z"
   },
   {
    "duration": 224,
    "start_time": "2022-04-30T12:39:25.370Z"
   },
   {
    "duration": 140,
    "start_time": "2022-04-30T12:39:25.596Z"
   },
   {
    "duration": 9,
    "start_time": "2022-04-30T12:39:25.738Z"
   },
   {
    "duration": 237,
    "start_time": "2022-04-30T12:39:25.748Z"
   },
   {
    "duration": 186,
    "start_time": "2022-04-30T12:42:57.185Z"
   },
   {
    "duration": 190,
    "start_time": "2022-04-30T12:45:30.305Z"
   },
   {
    "duration": 113,
    "start_time": "2022-04-30T12:45:35.893Z"
   },
   {
    "duration": 116,
    "start_time": "2022-04-30T12:46:16.110Z"
   },
   {
    "duration": 119,
    "start_time": "2022-04-30T12:46:26.088Z"
   },
   {
    "duration": 10,
    "start_time": "2022-04-30T12:46:53.257Z"
   },
   {
    "duration": 330,
    "start_time": "2022-04-30T13:18:55.689Z"
   },
   {
    "duration": 214,
    "start_time": "2022-04-30T13:19:23.535Z"
   },
   {
    "duration": 195,
    "start_time": "2022-04-30T13:22:22.866Z"
   },
   {
    "duration": 176,
    "start_time": "2022-04-30T13:24:24.246Z"
   },
   {
    "duration": 132,
    "start_time": "2022-04-30T13:26:51.717Z"
   },
   {
    "duration": 8,
    "start_time": "2022-04-30T13:27:39.491Z"
   },
   {
    "duration": 4,
    "start_time": "2022-04-30T13:29:29.566Z"
   },
   {
    "duration": 1267,
    "start_time": "2022-05-01T12:35:34.595Z"
   },
   {
    "duration": 36,
    "start_time": "2022-05-01T12:35:35.864Z"
   },
   {
    "duration": 13,
    "start_time": "2022-05-01T12:35:35.901Z"
   },
   {
    "duration": 12,
    "start_time": "2022-05-01T12:35:35.916Z"
   },
   {
    "duration": 8,
    "start_time": "2022-05-01T12:35:35.931Z"
   },
   {
    "duration": 168,
    "start_time": "2022-05-01T12:35:35.940Z"
   },
   {
    "duration": 9,
    "start_time": "2022-05-01T12:35:36.109Z"
   },
   {
    "duration": 27,
    "start_time": "2022-05-01T12:35:36.120Z"
   },
   {
    "duration": 68,
    "start_time": "2022-05-01T12:35:36.149Z"
   },
   {
    "duration": 31,
    "start_time": "2022-05-01T12:35:36.219Z"
   },
   {
    "duration": 147,
    "start_time": "2022-05-01T12:35:36.252Z"
   },
   {
    "duration": 8,
    "start_time": "2022-05-01T12:35:36.401Z"
   },
   {
    "duration": 23,
    "start_time": "2022-05-01T12:35:36.410Z"
   },
   {
    "duration": 52,
    "start_time": "2022-05-01T12:35:36.436Z"
   },
   {
    "duration": 31,
    "start_time": "2022-05-01T12:35:36.490Z"
   },
   {
    "duration": 96,
    "start_time": "2022-05-01T12:35:36.522Z"
   },
   {
    "duration": 8,
    "start_time": "2022-05-01T12:35:36.620Z"
   },
   {
    "duration": 20,
    "start_time": "2022-05-01T12:35:36.630Z"
   },
   {
    "duration": 51,
    "start_time": "2022-05-01T12:35:36.652Z"
   },
   {
    "duration": 23,
    "start_time": "2022-05-01T12:35:36.704Z"
   },
   {
    "duration": 10,
    "start_time": "2022-05-01T12:35:36.729Z"
   },
   {
    "duration": 7,
    "start_time": "2022-05-01T12:35:36.740Z"
   },
   {
    "duration": 41,
    "start_time": "2022-05-01T12:35:36.748Z"
   },
   {
    "duration": 5,
    "start_time": "2022-05-01T12:35:36.791Z"
   },
   {
    "duration": 35,
    "start_time": "2022-05-01T12:35:36.797Z"
   },
   {
    "duration": 12,
    "start_time": "2022-05-01T12:35:36.834Z"
   },
   {
    "duration": 164,
    "start_time": "2022-05-01T12:35:36.847Z"
   },
   {
    "duration": 233,
    "start_time": "2022-05-01T12:35:37.012Z"
   },
   {
    "duration": 137,
    "start_time": "2022-05-01T12:35:37.246Z"
   },
   {
    "duration": 9,
    "start_time": "2022-05-01T12:35:37.385Z"
   },
   {
    "duration": 202,
    "start_time": "2022-05-01T12:35:37.395Z"
   },
   {
    "duration": 123,
    "start_time": "2022-05-01T12:35:37.599Z"
   },
   {
    "duration": 8,
    "start_time": "2022-05-01T12:35:37.723Z"
   },
   {
    "duration": 186,
    "start_time": "2022-05-01T12:35:37.732Z"
   },
   {
    "duration": 129,
    "start_time": "2022-05-01T12:35:37.920Z"
   },
   {
    "duration": 8,
    "start_time": "2022-05-01T12:35:38.050Z"
   },
   {
    "duration": 30,
    "start_time": "2022-05-01T12:35:38.060Z"
   },
   {
    "duration": 267,
    "start_time": "2022-05-01T13:03:08.588Z"
   },
   {
    "duration": 19,
    "start_time": "2022-05-01T13:06:15.853Z"
   },
   {
    "duration": 17,
    "start_time": "2022-05-01T13:06:37.466Z"
   },
   {
    "duration": 352,
    "start_time": "2022-05-01T13:06:46.274Z"
   },
   {
    "duration": 272,
    "start_time": "2022-05-01T13:20:24.229Z"
   },
   {
    "duration": 246,
    "start_time": "2022-05-01T13:20:44.325Z"
   },
   {
    "duration": 269,
    "start_time": "2022-05-01T13:50:40.867Z"
   },
   {
    "duration": 120,
    "start_time": "2022-05-01T13:51:45.387Z"
   },
   {
    "duration": 256,
    "start_time": "2022-05-01T13:51:57.776Z"
   },
   {
    "duration": 229,
    "start_time": "2022-05-01T14:01:28.565Z"
   },
   {
    "duration": 157,
    "start_time": "2022-05-01T14:05:51.399Z"
   },
   {
    "duration": 1287,
    "start_time": "2022-05-01T17:31:38.882Z"
   },
   {
    "duration": 29,
    "start_time": "2022-05-01T17:31:40.171Z"
   },
   {
    "duration": 12,
    "start_time": "2022-05-01T17:31:40.201Z"
   },
   {
    "duration": 10,
    "start_time": "2022-05-01T17:31:40.215Z"
   },
   {
    "duration": 5,
    "start_time": "2022-05-01T17:31:40.227Z"
   },
   {
    "duration": 141,
    "start_time": "2022-05-01T17:31:40.234Z"
   },
   {
    "duration": 8,
    "start_time": "2022-05-01T17:31:40.376Z"
   },
   {
    "duration": 32,
    "start_time": "2022-05-01T17:31:40.385Z"
   },
   {
    "duration": 52,
    "start_time": "2022-05-01T17:31:40.418Z"
   },
   {
    "duration": 46,
    "start_time": "2022-05-01T17:31:40.471Z"
   },
   {
    "duration": 115,
    "start_time": "2022-05-01T17:31:40.518Z"
   },
   {
    "duration": 8,
    "start_time": "2022-05-01T17:31:40.635Z"
   },
   {
    "duration": 21,
    "start_time": "2022-05-01T17:31:40.644Z"
   },
   {
    "duration": 42,
    "start_time": "2022-05-01T17:31:40.667Z"
   },
   {
    "duration": 30,
    "start_time": "2022-05-01T17:31:40.711Z"
   },
   {
    "duration": 86,
    "start_time": "2022-05-01T17:31:40.742Z"
   },
   {
    "duration": 8,
    "start_time": "2022-05-01T17:31:40.829Z"
   },
   {
    "duration": 19,
    "start_time": "2022-05-01T17:31:40.838Z"
   },
   {
    "duration": 41,
    "start_time": "2022-05-01T17:31:40.859Z"
   },
   {
    "duration": 20,
    "start_time": "2022-05-01T17:31:40.901Z"
   },
   {
    "duration": 15,
    "start_time": "2022-05-01T17:31:40.922Z"
   },
   {
    "duration": 7,
    "start_time": "2022-05-01T17:31:40.938Z"
   },
   {
    "duration": 12,
    "start_time": "2022-05-01T17:31:40.946Z"
   },
   {
    "duration": 6,
    "start_time": "2022-05-01T17:31:40.960Z"
   },
   {
    "duration": 39,
    "start_time": "2022-05-01T17:31:40.967Z"
   },
   {
    "duration": 12,
    "start_time": "2022-05-01T17:31:41.007Z"
   },
   {
    "duration": 147,
    "start_time": "2022-05-01T17:31:41.020Z"
   },
   {
    "duration": 186,
    "start_time": "2022-05-01T17:31:41.168Z"
   },
   {
    "duration": 111,
    "start_time": "2022-05-01T17:31:41.356Z"
   },
   {
    "duration": 6,
    "start_time": "2022-05-01T17:31:41.469Z"
   },
   {
    "duration": 156,
    "start_time": "2022-05-01T17:31:41.476Z"
   },
   {
    "duration": 102,
    "start_time": "2022-05-01T17:31:41.634Z"
   },
   {
    "duration": 7,
    "start_time": "2022-05-01T17:31:41.737Z"
   },
   {
    "duration": 157,
    "start_time": "2022-05-01T17:31:41.745Z"
   },
   {
    "duration": 117,
    "start_time": "2022-05-01T17:31:41.903Z"
   },
   {
    "duration": 7,
    "start_time": "2022-05-01T17:31:42.022Z"
   },
   {
    "duration": 7,
    "start_time": "2022-05-01T17:31:42.030Z"
   },
   {
    "duration": 156,
    "start_time": "2022-05-01T17:31:42.038Z"
   },
   {
    "duration": 109,
    "start_time": "2022-05-01T17:37:59.186Z"
   },
   {
    "duration": 14,
    "start_time": "2022-05-01T17:40:09.379Z"
   },
   {
    "duration": 8,
    "start_time": "2022-05-01T17:41:20.992Z"
   },
   {
    "duration": 11,
    "start_time": "2022-05-01T17:41:37.793Z"
   },
   {
    "duration": 182,
    "start_time": "2022-05-01T17:43:39.085Z"
   },
   {
    "duration": 12,
    "start_time": "2022-05-01T17:43:52.012Z"
   },
   {
    "duration": 13,
    "start_time": "2022-05-01T17:45:09.590Z"
   },
   {
    "duration": 14,
    "start_time": "2022-05-01T17:45:22.182Z"
   },
   {
    "duration": 21,
    "start_time": "2022-05-01T17:48:01.229Z"
   },
   {
    "duration": 197,
    "start_time": "2022-05-01T17:49:17.912Z"
   },
   {
    "duration": 22,
    "start_time": "2022-05-01T17:50:34.401Z"
   },
   {
    "duration": 245,
    "start_time": "2022-05-01T17:50:41.822Z"
   },
   {
    "duration": 284,
    "start_time": "2022-05-01T17:54:31.568Z"
   },
   {
    "duration": 1228,
    "start_time": "2022-05-02T16:35:49.105Z"
   },
   {
    "duration": 40,
    "start_time": "2022-05-02T16:35:50.335Z"
   },
   {
    "duration": 12,
    "start_time": "2022-05-02T16:35:50.376Z"
   },
   {
    "duration": 11,
    "start_time": "2022-05-02T16:35:50.389Z"
   },
   {
    "duration": 7,
    "start_time": "2022-05-02T16:35:50.402Z"
   },
   {
    "duration": 138,
    "start_time": "2022-05-02T16:35:50.410Z"
   },
   {
    "duration": 8,
    "start_time": "2022-05-02T16:35:50.549Z"
   },
   {
    "duration": 25,
    "start_time": "2022-05-02T16:35:50.558Z"
   },
   {
    "duration": 55,
    "start_time": "2022-05-02T16:35:50.584Z"
   },
   {
    "duration": 29,
    "start_time": "2022-05-02T16:35:50.640Z"
   },
   {
    "duration": 118,
    "start_time": "2022-05-02T16:35:50.671Z"
   },
   {
    "duration": 12,
    "start_time": "2022-05-02T16:35:50.791Z"
   },
   {
    "duration": 22,
    "start_time": "2022-05-02T16:35:50.804Z"
   },
   {
    "duration": 37,
    "start_time": "2022-05-02T16:35:50.829Z"
   },
   {
    "duration": 51,
    "start_time": "2022-05-02T16:35:50.867Z"
   },
   {
    "duration": 82,
    "start_time": "2022-05-02T16:35:50.919Z"
   },
   {
    "duration": 7,
    "start_time": "2022-05-02T16:35:51.002Z"
   },
   {
    "duration": 24,
    "start_time": "2022-05-02T16:35:51.010Z"
   },
   {
    "duration": 29,
    "start_time": "2022-05-02T16:35:51.035Z"
   },
   {
    "duration": 20,
    "start_time": "2022-05-02T16:35:51.065Z"
   },
   {
    "duration": 29,
    "start_time": "2022-05-02T16:35:51.086Z"
   },
   {
    "duration": 8,
    "start_time": "2022-05-02T16:35:51.116Z"
   },
   {
    "duration": 13,
    "start_time": "2022-05-02T16:35:51.125Z"
   },
   {
    "duration": 10,
    "start_time": "2022-05-02T16:35:51.139Z"
   },
   {
    "duration": 34,
    "start_time": "2022-05-02T16:35:51.150Z"
   },
   {
    "duration": 16,
    "start_time": "2022-05-02T16:35:51.186Z"
   },
   {
    "duration": 138,
    "start_time": "2022-05-02T16:35:51.204Z"
   },
   {
    "duration": 194,
    "start_time": "2022-05-02T16:35:51.344Z"
   },
   {
    "duration": 111,
    "start_time": "2022-05-02T16:35:51.540Z"
   },
   {
    "duration": 8,
    "start_time": "2022-05-02T16:35:51.653Z"
   },
   {
    "duration": 164,
    "start_time": "2022-05-02T16:35:51.663Z"
   },
   {
    "duration": 106,
    "start_time": "2022-05-02T16:35:51.829Z"
   },
   {
    "duration": 7,
    "start_time": "2022-05-02T16:35:51.936Z"
   },
   {
    "duration": 157,
    "start_time": "2022-05-02T16:35:51.945Z"
   },
   {
    "duration": 122,
    "start_time": "2022-05-02T16:35:52.103Z"
   },
   {
    "duration": 7,
    "start_time": "2022-05-02T16:35:52.227Z"
   },
   {
    "duration": 6,
    "start_time": "2022-05-02T16:35:52.235Z"
   },
   {
    "duration": 178,
    "start_time": "2022-05-02T16:35:52.242Z"
   },
   {
    "duration": 187,
    "start_time": "2022-05-02T16:44:23.448Z"
   },
   {
    "duration": 240,
    "start_time": "2022-05-02T17:29:40.812Z"
   },
   {
    "duration": 183,
    "start_time": "2022-05-02T17:30:56.713Z"
   },
   {
    "duration": 186,
    "start_time": "2022-05-02T18:01:32.671Z"
   },
   {
    "duration": 187,
    "start_time": "2022-05-02T18:03:26.430Z"
   },
   {
    "duration": 200,
    "start_time": "2022-05-02T18:07:06.598Z"
   },
   {
    "duration": 183,
    "start_time": "2022-05-02T18:08:48.559Z"
   },
   {
    "duration": 188,
    "start_time": "2022-05-02T18:10:24.398Z"
   },
   {
    "duration": 175,
    "start_time": "2022-05-02T18:10:53.038Z"
   },
   {
    "duration": 186,
    "start_time": "2022-05-02T18:11:10.908Z"
   },
   {
    "duration": 2,
    "start_time": "2022-05-02T18:15:48.016Z"
   },
   {
    "duration": 66,
    "start_time": "2022-05-02T18:15:48.020Z"
   },
   {
    "duration": 9,
    "start_time": "2022-05-02T18:15:48.087Z"
   },
   {
    "duration": 11,
    "start_time": "2022-05-02T18:15:48.097Z"
   },
   {
    "duration": 5,
    "start_time": "2022-05-02T18:15:48.110Z"
   },
   {
    "duration": 141,
    "start_time": "2022-05-02T18:15:48.116Z"
   },
   {
    "duration": 7,
    "start_time": "2022-05-02T18:15:48.258Z"
   },
   {
    "duration": 24,
    "start_time": "2022-05-02T18:15:48.267Z"
   },
   {
    "duration": 54,
    "start_time": "2022-05-02T18:15:48.294Z"
   },
   {
    "duration": 30,
    "start_time": "2022-05-02T18:15:48.349Z"
   },
   {
    "duration": 123,
    "start_time": "2022-05-02T18:15:48.380Z"
   },
   {
    "duration": 8,
    "start_time": "2022-05-02T18:15:48.504Z"
   },
   {
    "duration": 20,
    "start_time": "2022-05-02T18:15:48.514Z"
   },
   {
    "duration": 33,
    "start_time": "2022-05-02T18:15:48.535Z"
   },
   {
    "duration": 47,
    "start_time": "2022-05-02T18:15:48.569Z"
   },
   {
    "duration": 84,
    "start_time": "2022-05-02T18:15:48.618Z"
   },
   {
    "duration": 7,
    "start_time": "2022-05-02T18:15:48.703Z"
   },
   {
    "duration": 22,
    "start_time": "2022-05-02T18:15:48.711Z"
   },
   {
    "duration": 28,
    "start_time": "2022-05-02T18:15:48.734Z"
   },
   {
    "duration": 21,
    "start_time": "2022-05-02T18:15:48.764Z"
   },
   {
    "duration": 27,
    "start_time": "2022-05-02T18:15:48.786Z"
   },
   {
    "duration": 7,
    "start_time": "2022-05-02T18:15:48.815Z"
   },
   {
    "duration": 10,
    "start_time": "2022-05-02T18:15:48.823Z"
   },
   {
    "duration": 8,
    "start_time": "2022-05-02T18:15:48.836Z"
   },
   {
    "duration": 37,
    "start_time": "2022-05-02T18:15:48.845Z"
   },
   {
    "duration": 17,
    "start_time": "2022-05-02T18:15:48.884Z"
   },
   {
    "duration": 132,
    "start_time": "2022-05-02T18:15:48.902Z"
   },
   {
    "duration": 176,
    "start_time": "2022-05-02T18:15:49.035Z"
   },
   {
    "duration": 178,
    "start_time": "2022-05-02T18:15:49.212Z"
   },
   {
    "duration": 7,
    "start_time": "2022-05-02T18:15:49.400Z"
   },
   {
    "duration": 163,
    "start_time": "2022-05-02T18:15:49.409Z"
   },
   {
    "duration": 103,
    "start_time": "2022-05-02T18:15:49.574Z"
   },
   {
    "duration": 7,
    "start_time": "2022-05-02T18:15:49.678Z"
   },
   {
    "duration": 155,
    "start_time": "2022-05-02T18:15:49.687Z"
   },
   {
    "duration": 110,
    "start_time": "2022-05-02T18:15:49.843Z"
   },
   {
    "duration": 8,
    "start_time": "2022-05-02T18:15:49.954Z"
   },
   {
    "duration": 5,
    "start_time": "2022-05-02T18:15:49.963Z"
   },
   {
    "duration": 213,
    "start_time": "2022-05-02T18:15:49.970Z"
   },
   {
    "duration": 188,
    "start_time": "2022-05-02T18:15:50.184Z"
   },
   {
    "duration": 193,
    "start_time": "2022-05-02T18:15:50.373Z"
   },
   {
    "duration": 1825,
    "start_time": "2022-05-03T12:27:49.564Z"
   },
   {
    "duration": 35,
    "start_time": "2022-05-03T12:27:51.392Z"
   },
   {
    "duration": 21,
    "start_time": "2022-05-03T12:27:51.429Z"
   },
   {
    "duration": 22,
    "start_time": "2022-05-03T12:27:51.453Z"
   },
   {
    "duration": 9,
    "start_time": "2022-05-03T12:27:51.478Z"
   },
   {
    "duration": 236,
    "start_time": "2022-05-03T12:27:51.489Z"
   },
   {
    "duration": 13,
    "start_time": "2022-05-03T12:27:51.727Z"
   },
   {
    "duration": 40,
    "start_time": "2022-05-03T12:27:51.742Z"
   },
   {
    "duration": 105,
    "start_time": "2022-05-03T12:27:51.784Z"
   },
   {
    "duration": 66,
    "start_time": "2022-05-03T12:27:51.891Z"
   },
   {
    "duration": 269,
    "start_time": "2022-05-03T12:27:51.959Z"
   },
   {
    "duration": 19,
    "start_time": "2022-05-03T12:27:52.231Z"
   },
   {
    "duration": 74,
    "start_time": "2022-05-03T12:27:52.253Z"
   },
   {
    "duration": 91,
    "start_time": "2022-05-03T12:27:52.338Z"
   },
   {
    "duration": 77,
    "start_time": "2022-05-03T12:27:52.433Z"
   },
   {
    "duration": 156,
    "start_time": "2022-05-03T12:27:52.526Z"
   },
   {
    "duration": 10,
    "start_time": "2022-05-03T12:27:52.685Z"
   },
   {
    "duration": 43,
    "start_time": "2022-05-03T12:27:52.697Z"
   },
   {
    "duration": 49,
    "start_time": "2022-05-03T12:27:52.742Z"
   },
   {
    "duration": 51,
    "start_time": "2022-05-03T12:27:52.794Z"
   },
   {
    "duration": 11,
    "start_time": "2022-05-03T12:27:52.847Z"
   },
   {
    "duration": 13,
    "start_time": "2022-05-03T12:27:52.860Z"
   },
   {
    "duration": 26,
    "start_time": "2022-05-03T12:27:52.875Z"
   },
   {
    "duration": 26,
    "start_time": "2022-05-03T12:27:52.903Z"
   },
   {
    "duration": 63,
    "start_time": "2022-05-03T12:27:52.931Z"
   },
   {
    "duration": 37,
    "start_time": "2022-05-03T12:27:52.997Z"
   },
   {
    "duration": 283,
    "start_time": "2022-05-03T12:27:53.036Z"
   },
   {
    "duration": 379,
    "start_time": "2022-05-03T12:27:53.322Z"
   },
   {
    "duration": 210,
    "start_time": "2022-05-03T12:27:53.704Z"
   },
   {
    "duration": 17,
    "start_time": "2022-05-03T12:27:53.916Z"
   },
   {
    "duration": 319,
    "start_time": "2022-05-03T12:27:53.935Z"
   },
   {
    "duration": 196,
    "start_time": "2022-05-03T12:27:54.257Z"
   },
   {
    "duration": 10,
    "start_time": "2022-05-03T12:27:54.456Z"
   },
   {
    "duration": 312,
    "start_time": "2022-05-03T12:27:54.469Z"
   },
   {
    "duration": 225,
    "start_time": "2022-05-03T12:27:54.783Z"
   },
   {
    "duration": 21,
    "start_time": "2022-05-03T12:27:55.011Z"
   },
   {
    "duration": 8,
    "start_time": "2022-05-03T12:27:55.034Z"
   },
   {
    "duration": 383,
    "start_time": "2022-05-03T12:27:55.044Z"
   },
   {
    "duration": 362,
    "start_time": "2022-05-03T12:27:55.430Z"
   },
   {
    "duration": 467,
    "start_time": "2022-05-03T12:27:55.795Z"
   },
   {
    "duration": 1859,
    "start_time": "2022-05-06T16:23:07.988Z"
   },
   {
    "duration": 26,
    "start_time": "2022-05-06T16:23:09.850Z"
   },
   {
    "duration": 20,
    "start_time": "2022-05-06T16:23:09.878Z"
   },
   {
    "duration": 28,
    "start_time": "2022-05-06T16:23:09.900Z"
   },
   {
    "duration": 7,
    "start_time": "2022-05-06T16:23:09.932Z"
   },
   {
    "duration": 217,
    "start_time": "2022-05-06T16:23:09.942Z"
   },
   {
    "duration": 12,
    "start_time": "2022-05-06T16:23:10.161Z"
   },
   {
    "duration": 51,
    "start_time": "2022-05-06T16:23:10.176Z"
   },
   {
    "duration": 97,
    "start_time": "2022-05-06T16:23:10.229Z"
   },
   {
    "duration": 48,
    "start_time": "2022-05-06T16:23:10.328Z"
   },
   {
    "duration": 188,
    "start_time": "2022-05-06T16:23:10.378Z"
   },
   {
    "duration": 12,
    "start_time": "2022-05-06T16:23:10.568Z"
   },
   {
    "duration": 48,
    "start_time": "2022-05-06T16:23:10.582Z"
   },
   {
    "duration": 57,
    "start_time": "2022-05-06T16:23:10.635Z"
   },
   {
    "duration": 69,
    "start_time": "2022-05-06T16:23:10.694Z"
   },
   {
    "duration": 120,
    "start_time": "2022-05-06T16:23:10.765Z"
   },
   {
    "duration": 10,
    "start_time": "2022-05-06T16:23:10.887Z"
   },
   {
    "duration": 41,
    "start_time": "2022-05-06T16:23:10.899Z"
   },
   {
    "duration": 47,
    "start_time": "2022-05-06T16:23:10.942Z"
   },
   {
    "duration": 52,
    "start_time": "2022-05-06T16:23:10.991Z"
   },
   {
    "duration": 12,
    "start_time": "2022-05-06T16:23:11.045Z"
   },
   {
    "duration": 12,
    "start_time": "2022-05-06T16:23:11.059Z"
   },
   {
    "duration": 20,
    "start_time": "2022-05-06T16:23:11.073Z"
   },
   {
    "duration": 29,
    "start_time": "2022-05-06T16:23:11.096Z"
   },
   {
    "duration": 62,
    "start_time": "2022-05-06T16:23:11.127Z"
   },
   {
    "duration": 42,
    "start_time": "2022-05-06T16:23:11.191Z"
   },
   {
    "duration": 266,
    "start_time": "2022-05-06T16:23:11.236Z"
   },
   {
    "duration": 365,
    "start_time": "2022-05-06T16:23:11.506Z"
   },
   {
    "duration": 205,
    "start_time": "2022-05-06T16:23:11.873Z"
   },
   {
    "duration": 13,
    "start_time": "2022-05-06T16:23:12.081Z"
   },
   {
    "duration": 330,
    "start_time": "2022-05-06T16:23:12.097Z"
   },
   {
    "duration": 205,
    "start_time": "2022-05-06T16:23:12.430Z"
   },
   {
    "duration": 13,
    "start_time": "2022-05-06T16:23:12.638Z"
   },
   {
    "duration": 326,
    "start_time": "2022-05-06T16:23:12.653Z"
   },
   {
    "duration": 226,
    "start_time": "2022-05-06T16:23:12.982Z"
   },
   {
    "duration": 19,
    "start_time": "2022-05-06T16:23:13.210Z"
   },
   {
    "duration": 11,
    "start_time": "2022-05-06T16:23:13.231Z"
   },
   {
    "duration": 384,
    "start_time": "2022-05-06T16:23:13.244Z"
   },
   {
    "duration": 363,
    "start_time": "2022-05-06T16:23:13.630Z"
   },
   {
    "duration": 462,
    "start_time": "2022-05-06T16:23:13.996Z"
   },
   {
    "duration": 160,
    "start_time": "2022-05-06T16:26:43.865Z"
   },
   {
    "duration": 162,
    "start_time": "2022-05-06T16:27:08.892Z"
   },
   {
    "duration": 17,
    "start_time": "2022-05-06T16:41:45.211Z"
   },
   {
    "duration": 13,
    "start_time": "2022-05-06T16:43:45.912Z"
   },
   {
    "duration": 20,
    "start_time": "2022-05-06T16:44:28.620Z"
   },
   {
    "duration": 30,
    "start_time": "2022-05-06T16:45:28.010Z"
   },
   {
    "duration": 330,
    "start_time": "2022-05-06T16:46:23.440Z"
   },
   {
    "duration": 31,
    "start_time": "2022-05-06T16:46:28.325Z"
   },
   {
    "duration": 23,
    "start_time": "2022-05-06T16:47:03.192Z"
   },
   {
    "duration": 28,
    "start_time": "2022-05-06T17:03:18.079Z"
   },
   {
    "duration": 21,
    "start_time": "2022-05-06T17:03:45.291Z"
   },
   {
    "duration": 37,
    "start_time": "2022-05-06T17:06:04.599Z"
   },
   {
    "duration": 27,
    "start_time": "2022-05-06T17:06:12.906Z"
   },
   {
    "duration": 30,
    "start_time": "2022-05-06T17:06:58.551Z"
   },
   {
    "duration": 30,
    "start_time": "2022-05-06T17:07:34.033Z"
   },
   {
    "duration": 30,
    "start_time": "2022-05-06T17:11:01.032Z"
   },
   {
    "duration": 24,
    "start_time": "2022-05-06T17:11:31.154Z"
   },
   {
    "duration": 26,
    "start_time": "2022-05-06T17:11:33.217Z"
   },
   {
    "duration": 25,
    "start_time": "2022-05-06T17:14:59.232Z"
   },
   {
    "duration": 28,
    "start_time": "2022-05-06T17:16:15.727Z"
   },
   {
    "duration": 34,
    "start_time": "2022-05-06T17:19:56.331Z"
   },
   {
    "duration": 29,
    "start_time": "2022-05-06T17:19:59.868Z"
   },
   {
    "duration": 4,
    "start_time": "2022-05-06T17:45:34.363Z"
   },
   {
    "duration": 15,
    "start_time": "2022-05-06T17:50:45.620Z"
   },
   {
    "duration": 11,
    "start_time": "2022-05-06T17:52:55.250Z"
   },
   {
    "duration": 4,
    "start_time": "2022-05-06T17:54:04.376Z"
   },
   {
    "duration": 19,
    "start_time": "2022-05-06T18:20:03.642Z"
   },
   {
    "duration": 9,
    "start_time": "2022-05-06T18:20:18.548Z"
   },
   {
    "duration": 9,
    "start_time": "2022-05-06T18:26:05.726Z"
   },
   {
    "duration": 9,
    "start_time": "2022-05-06T18:27:40.651Z"
   },
   {
    "duration": 11,
    "start_time": "2022-05-06T18:30:20.400Z"
   },
   {
    "duration": 12,
    "start_time": "2022-05-06T18:32:54.371Z"
   },
   {
    "duration": 7,
    "start_time": "2022-05-06T18:35:45.516Z"
   },
   {
    "duration": 10,
    "start_time": "2022-05-06T18:37:45.562Z"
   },
   {
    "duration": 9,
    "start_time": "2022-05-06T18:38:56.876Z"
   },
   {
    "duration": 10,
    "start_time": "2022-05-06T18:39:30.790Z"
   },
   {
    "duration": 103,
    "start_time": "2022-05-06T18:53:43.765Z"
   },
   {
    "duration": 100,
    "start_time": "2022-05-06T18:58:53.984Z"
   },
   {
    "duration": 913,
    "start_time": "2022-05-06T19:28:34.421Z"
   },
   {
    "duration": 435,
    "start_time": "2022-05-06T19:29:13.409Z"
   },
   {
    "duration": 2865,
    "start_time": "2022-05-07T17:35:29.367Z"
   },
   {
    "duration": 37,
    "start_time": "2022-05-07T17:35:32.235Z"
   },
   {
    "duration": 20,
    "start_time": "2022-05-07T17:35:32.274Z"
   },
   {
    "duration": 17,
    "start_time": "2022-05-07T17:35:32.297Z"
   },
   {
    "duration": 9,
    "start_time": "2022-05-07T17:35:32.316Z"
   },
   {
    "duration": 206,
    "start_time": "2022-05-07T17:35:32.327Z"
   },
   {
    "duration": 13,
    "start_time": "2022-05-07T17:35:32.536Z"
   },
   {
    "duration": 54,
    "start_time": "2022-05-07T17:35:32.551Z"
   },
   {
    "duration": 88,
    "start_time": "2022-05-07T17:35:32.607Z"
   },
   {
    "duration": 47,
    "start_time": "2022-05-07T17:35:32.698Z"
   },
   {
    "duration": 185,
    "start_time": "2022-05-07T17:35:32.747Z"
   },
   {
    "duration": 14,
    "start_time": "2022-05-07T17:35:32.934Z"
   },
   {
    "duration": 46,
    "start_time": "2022-05-07T17:35:32.950Z"
   },
   {
    "duration": 54,
    "start_time": "2022-05-07T17:35:32.999Z"
   },
   {
    "duration": 67,
    "start_time": "2022-05-07T17:35:33.055Z"
   },
   {
    "duration": 117,
    "start_time": "2022-05-07T17:35:33.125Z"
   },
   {
    "duration": 11,
    "start_time": "2022-05-07T17:35:33.244Z"
   },
   {
    "duration": 43,
    "start_time": "2022-05-07T17:35:33.257Z"
   },
   {
    "duration": 46,
    "start_time": "2022-05-07T17:35:33.302Z"
   },
   {
    "duration": 51,
    "start_time": "2022-05-07T17:35:33.350Z"
   },
   {
    "duration": 18,
    "start_time": "2022-05-07T17:35:33.403Z"
   },
   {
    "duration": 11,
    "start_time": "2022-05-07T17:35:33.423Z"
   },
   {
    "duration": 18,
    "start_time": "2022-05-07T17:35:33.437Z"
   },
   {
    "duration": 9,
    "start_time": "2022-05-07T17:35:33.457Z"
   },
   {
    "duration": 78,
    "start_time": "2022-05-07T17:35:33.468Z"
   },
   {
    "duration": 21,
    "start_time": "2022-05-07T17:35:33.549Z"
   },
   {
    "duration": 240,
    "start_time": "2022-05-07T17:35:33.594Z"
   },
   {
    "duration": 334,
    "start_time": "2022-05-07T17:35:33.839Z"
   },
   {
    "duration": 206,
    "start_time": "2022-05-07T17:35:34.175Z"
   },
   {
    "duration": 18,
    "start_time": "2022-05-07T17:35:34.383Z"
   },
   {
    "duration": 315,
    "start_time": "2022-05-07T17:35:34.404Z"
   },
   {
    "duration": 196,
    "start_time": "2022-05-07T17:35:34.723Z"
   },
   {
    "duration": 10,
    "start_time": "2022-05-07T17:35:34.921Z"
   },
   {
    "duration": 294,
    "start_time": "2022-05-07T17:35:34.933Z"
   },
   {
    "duration": 213,
    "start_time": "2022-05-07T17:35:35.229Z"
   },
   {
    "duration": 11,
    "start_time": "2022-05-07T17:35:35.445Z"
   },
   {
    "duration": 12,
    "start_time": "2022-05-07T17:35:35.458Z"
   },
   {
    "duration": 363,
    "start_time": "2022-05-07T17:35:35.472Z"
   },
   {
    "duration": 24,
    "start_time": "2022-05-07T17:35:35.837Z"
   },
   {
    "duration": 51,
    "start_time": "2022-05-07T17:35:35.863Z"
   },
   {
    "duration": 356,
    "start_time": "2022-05-07T17:35:35.917Z"
   },
   {
    "duration": 35,
    "start_time": "2022-05-07T17:35:36.275Z"
   },
   {
    "duration": 24,
    "start_time": "2022-05-07T17:35:36.312Z"
   },
   {
    "duration": 439,
    "start_time": "2022-05-07T17:35:36.338Z"
   },
   {
    "duration": 34,
    "start_time": "2022-05-07T17:35:36.780Z"
   },
   {
    "duration": 25,
    "start_time": "2022-05-07T17:35:36.816Z"
   },
   {
    "duration": 52,
    "start_time": "2022-05-07T17:35:36.843Z"
   },
   {
    "duration": 19,
    "start_time": "2022-05-07T17:35:36.897Z"
   },
   {
    "duration": 9,
    "start_time": "2022-05-07T17:35:36.918Z"
   },
   {
    "duration": 9,
    "start_time": "2022-05-07T17:35:36.929Z"
   },
   {
    "duration": 8,
    "start_time": "2022-05-07T17:35:36.940Z"
   },
   {
    "duration": 43,
    "start_time": "2022-05-07T17:35:36.951Z"
   },
   {
    "duration": 9,
    "start_time": "2022-05-07T17:35:36.997Z"
   },
   {
    "duration": 11,
    "start_time": "2022-05-07T17:35:37.008Z"
   },
   {
    "duration": 8,
    "start_time": "2022-05-07T17:35:37.021Z"
   },
   {
    "duration": 14,
    "start_time": "2022-05-07T17:35:37.031Z"
   },
   {
    "duration": 46,
    "start_time": "2022-05-07T17:35:37.048Z"
   },
   {
    "duration": 362,
    "start_time": "2022-05-07T17:54:55.656Z"
   },
   {
    "duration": 329,
    "start_time": "2022-05-07T17:55:41.664Z"
   },
   {
    "duration": 348,
    "start_time": "2022-05-07T17:55:54.543Z"
   },
   {
    "duration": 1225,
    "start_time": "2022-05-08T11:39:22.255Z"
   },
   {
    "duration": 28,
    "start_time": "2022-05-08T11:39:23.482Z"
   },
   {
    "duration": 12,
    "start_time": "2022-05-08T11:39:23.511Z"
   },
   {
    "duration": 10,
    "start_time": "2022-05-08T11:39:23.525Z"
   },
   {
    "duration": 6,
    "start_time": "2022-05-08T11:39:23.536Z"
   },
   {
    "duration": 136,
    "start_time": "2022-05-08T11:39:23.543Z"
   },
   {
    "duration": 7,
    "start_time": "2022-05-08T11:39:23.681Z"
   },
   {
    "duration": 27,
    "start_time": "2022-05-08T11:39:23.690Z"
   },
   {
    "duration": 58,
    "start_time": "2022-05-08T11:39:23.718Z"
   },
   {
    "duration": 49,
    "start_time": "2022-05-08T11:39:23.779Z"
   },
   {
    "duration": 119,
    "start_time": "2022-05-08T11:39:23.829Z"
   },
   {
    "duration": 8,
    "start_time": "2022-05-08T11:39:23.950Z"
   },
   {
    "duration": 22,
    "start_time": "2022-05-08T11:39:23.959Z"
   },
   {
    "duration": 45,
    "start_time": "2022-05-08T11:39:23.983Z"
   },
   {
    "duration": 29,
    "start_time": "2022-05-08T11:39:24.030Z"
   },
   {
    "duration": 84,
    "start_time": "2022-05-08T11:39:24.061Z"
   },
   {
    "duration": 7,
    "start_time": "2022-05-08T11:39:24.147Z"
   },
   {
    "duration": 21,
    "start_time": "2022-05-08T11:39:24.155Z"
   },
   {
    "duration": 40,
    "start_time": "2022-05-08T11:39:24.178Z"
   },
   {
    "duration": 30,
    "start_time": "2022-05-08T11:39:24.220Z"
   },
   {
    "duration": 16,
    "start_time": "2022-05-08T11:39:24.252Z"
   },
   {
    "duration": 9,
    "start_time": "2022-05-08T11:39:24.269Z"
   },
   {
    "duration": 20,
    "start_time": "2022-05-08T11:39:24.280Z"
   },
   {
    "duration": 4,
    "start_time": "2022-05-08T11:39:24.302Z"
   },
   {
    "duration": 44,
    "start_time": "2022-05-08T11:39:24.308Z"
   },
   {
    "duration": 15,
    "start_time": "2022-05-08T11:39:24.353Z"
   },
   {
    "duration": 230,
    "start_time": "2022-05-08T11:39:24.370Z"
   },
   {
    "duration": 280,
    "start_time": "2022-05-08T11:39:24.604Z"
   },
   {
    "duration": 107,
    "start_time": "2022-05-08T11:39:24.885Z"
   },
   {
    "duration": 7,
    "start_time": "2022-05-08T11:39:24.999Z"
   },
   {
    "duration": 163,
    "start_time": "2022-05-08T11:39:25.008Z"
   },
   {
    "duration": 100,
    "start_time": "2022-05-08T11:39:25.172Z"
   },
   {
    "duration": 7,
    "start_time": "2022-05-08T11:39:25.274Z"
   },
   {
    "duration": 164,
    "start_time": "2022-05-08T11:39:25.282Z"
   },
   {
    "duration": 118,
    "start_time": "2022-05-08T11:39:25.448Z"
   },
   {
    "duration": 6,
    "start_time": "2022-05-08T11:39:25.568Z"
   },
   {
    "duration": 6,
    "start_time": "2022-05-08T11:39:25.576Z"
   },
   {
    "duration": 216,
    "start_time": "2022-05-08T11:39:25.584Z"
   },
   {
    "duration": 16,
    "start_time": "2022-05-08T11:39:25.801Z"
   },
   {
    "duration": 14,
    "start_time": "2022-05-08T11:39:25.819Z"
   },
   {
    "duration": 215,
    "start_time": "2022-05-08T11:39:25.835Z"
   },
   {
    "duration": 21,
    "start_time": "2022-05-08T11:39:26.051Z"
   },
   {
    "duration": 45,
    "start_time": "2022-05-08T11:39:26.074Z"
   },
   {
    "duration": 466,
    "start_time": "2022-05-08T11:39:26.121Z"
   },
   {
    "duration": 28,
    "start_time": "2022-05-08T11:39:26.589Z"
   },
   {
    "duration": 15,
    "start_time": "2022-05-08T11:39:26.619Z"
   },
   {
    "duration": 5,
    "start_time": "2022-05-08T11:39:26.636Z"
   },
   {
    "duration": 7,
    "start_time": "2022-05-08T11:39:26.642Z"
   },
   {
    "duration": 5,
    "start_time": "2022-05-08T11:39:26.651Z"
   },
   {
    "duration": 43,
    "start_time": "2022-05-08T11:39:26.657Z"
   },
   {
    "duration": 6,
    "start_time": "2022-05-08T11:39:26.702Z"
   },
   {
    "duration": 5,
    "start_time": "2022-05-08T11:39:26.709Z"
   },
   {
    "duration": 6,
    "start_time": "2022-05-08T11:39:26.716Z"
   },
   {
    "duration": 6,
    "start_time": "2022-05-08T11:39:26.723Z"
   },
   {
    "duration": 5,
    "start_time": "2022-05-08T11:39:26.731Z"
   },
   {
    "duration": 12,
    "start_time": "2022-05-08T11:39:26.738Z"
   },
   {
    "duration": 7,
    "start_time": "2022-05-08T11:39:26.752Z"
   },
   {
    "duration": 26,
    "start_time": "2022-05-08T11:42:45.370Z"
   },
   {
    "duration": 1294,
    "start_time": "2022-10-15T15:52:49.483Z"
   },
   {
    "duration": 69,
    "start_time": "2022-10-15T15:52:50.779Z"
   },
   {
    "duration": 13,
    "start_time": "2022-10-15T15:52:50.849Z"
   },
   {
    "duration": 22,
    "start_time": "2022-10-15T15:52:50.863Z"
   },
   {
    "duration": 31,
    "start_time": "2022-10-15T15:52:50.886Z"
   },
   {
    "duration": 192,
    "start_time": "2022-10-15T15:52:50.919Z"
   },
   {
    "duration": 9,
    "start_time": "2022-10-15T15:52:51.113Z"
   },
   {
    "duration": 29,
    "start_time": "2022-10-15T15:52:51.124Z"
   },
   {
    "duration": 56,
    "start_time": "2022-10-15T15:52:51.154Z"
   },
   {
    "duration": 29,
    "start_time": "2022-10-15T15:52:51.213Z"
   },
   {
    "duration": 458,
    "start_time": "2022-10-15T15:52:51.243Z"
   },
   {
    "duration": 8,
    "start_time": "2022-10-15T15:52:51.702Z"
   },
   {
    "duration": 20,
    "start_time": "2022-10-15T15:52:51.712Z"
   },
   {
    "duration": 33,
    "start_time": "2022-10-15T15:52:51.733Z"
   },
   {
    "duration": 40,
    "start_time": "2022-10-15T15:52:51.767Z"
   },
   {
    "duration": 116,
    "start_time": "2022-10-15T15:52:51.809Z"
   },
   {
    "duration": 7,
    "start_time": "2022-10-15T15:52:51.926Z"
   },
   {
    "duration": 23,
    "start_time": "2022-10-15T15:52:51.935Z"
   },
   {
    "duration": 38,
    "start_time": "2022-10-15T15:52:51.960Z"
   },
   {
    "duration": 19,
    "start_time": "2022-10-15T15:52:52.000Z"
   },
   {
    "duration": 31,
    "start_time": "2022-10-15T15:52:52.021Z"
   },
   {
    "duration": 7,
    "start_time": "2022-10-15T15:52:52.053Z"
   },
   {
    "duration": 26,
    "start_time": "2022-10-15T15:52:52.062Z"
   },
   {
    "duration": 27,
    "start_time": "2022-10-15T15:52:52.090Z"
   },
   {
    "duration": 52,
    "start_time": "2022-10-15T15:52:52.119Z"
   },
   {
    "duration": 11,
    "start_time": "2022-10-15T15:52:52.173Z"
   },
   {
    "duration": 140,
    "start_time": "2022-10-15T15:52:52.185Z"
   },
   {
    "duration": 218,
    "start_time": "2022-10-15T15:52:52.329Z"
   },
   {
    "duration": 115,
    "start_time": "2022-10-15T15:52:52.549Z"
   },
   {
    "duration": 8,
    "start_time": "2022-10-15T15:52:52.666Z"
   },
   {
    "duration": 174,
    "start_time": "2022-10-15T15:52:52.676Z"
   },
   {
    "duration": 113,
    "start_time": "2022-10-15T15:52:52.852Z"
   },
   {
    "duration": 7,
    "start_time": "2022-10-15T15:52:52.966Z"
   },
   {
    "duration": 167,
    "start_time": "2022-10-15T15:52:52.975Z"
   },
   {
    "duration": 119,
    "start_time": "2022-10-15T15:52:53.144Z"
   },
   {
    "duration": 8,
    "start_time": "2022-10-15T15:52:53.264Z"
   },
   {
    "duration": 6,
    "start_time": "2022-10-15T15:52:53.273Z"
   },
   {
    "duration": 221,
    "start_time": "2022-10-15T15:52:53.281Z"
   },
   {
    "duration": 14,
    "start_time": "2022-10-15T15:52:53.503Z"
   },
   {
    "duration": 13,
    "start_time": "2022-10-15T15:52:53.518Z"
   },
   {
    "duration": 212,
    "start_time": "2022-10-15T15:52:53.533Z"
   },
   {
    "duration": 14,
    "start_time": "2022-10-15T15:52:53.747Z"
   },
   {
    "duration": 38,
    "start_time": "2022-10-15T15:52:53.762Z"
   },
   {
    "duration": 291,
    "start_time": "2022-10-15T15:52:53.801Z"
   },
   {
    "duration": 18,
    "start_time": "2022-10-15T15:52:54.099Z"
   },
   {
    "duration": 17,
    "start_time": "2022-10-15T15:52:54.119Z"
   },
   {
    "duration": 7,
    "start_time": "2022-10-15T15:52:54.137Z"
   },
   {
    "duration": 36,
    "start_time": "2022-10-15T15:52:54.145Z"
   },
   {
    "duration": 12,
    "start_time": "2022-10-15T15:52:54.182Z"
   },
   {
    "duration": 6,
    "start_time": "2022-10-15T15:52:54.201Z"
   },
   {
    "duration": 13,
    "start_time": "2022-10-15T15:52:54.208Z"
   },
   {
    "duration": 7,
    "start_time": "2022-10-15T15:52:54.223Z"
   },
   {
    "duration": 9,
    "start_time": "2022-10-15T15:52:54.232Z"
   },
   {
    "duration": 9,
    "start_time": "2022-10-15T15:52:54.243Z"
   },
   {
    "duration": 5,
    "start_time": "2022-10-15T15:52:54.253Z"
   },
   {
    "duration": 41,
    "start_time": "2022-10-15T15:52:54.260Z"
   },
   {
    "duration": 5,
    "start_time": "2022-10-15T15:52:54.303Z"
   }
  ],
  "kernelspec": {
   "display_name": "Python 3 (ipykernel)",
   "language": "python",
   "name": "python3"
  },
  "language_info": {
   "codemirror_mode": {
    "name": "ipython",
    "version": 3
   },
   "file_extension": ".py",
   "mimetype": "text/x-python",
   "name": "python",
   "nbconvert_exporter": "python",
   "pygments_lexer": "ipython3",
   "version": "3.9.5"
  },
  "toc": {
   "base_numbering": 1,
   "nav_menu": {},
   "number_sections": true,
   "sideBar": true,
   "skip_h1_title": true,
   "title_cell": "Table of Contents",
   "title_sidebar": "Contents",
   "toc_cell": true,
   "toc_position": {
    "height": "calc(100% - 180px)",
    "left": "10px",
    "top": "150px",
    "width": "221.82px"
   },
   "toc_section_display": true,
   "toc_window_display": true
  }
 },
 "nbformat": 4,
 "nbformat_minor": 2
}

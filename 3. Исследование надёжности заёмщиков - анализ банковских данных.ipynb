{
 "cells": [
  {
   "cell_type": "markdown",
   "metadata": {
    "toc": true
   },
   "source": [
    "<h1>Table of Contents<span class=\"tocSkip\"></span></h1>\n",
    "<div class=\"toc\"><ul class=\"toc-item\"><li><span><a href=\"#Обзор-данных\" data-toc-modified-id=\"Обзор-данных-1\"><span class=\"toc-item-num\">1&nbsp;&nbsp;</span>Обзор данных</a></span></li><li><span><a href=\"#Предобработка-данных\" data-toc-modified-id=\"Предобработка-данных-2\"><span class=\"toc-item-num\">2&nbsp;&nbsp;</span>Предобработка данных</a></span><ul class=\"toc-item\"><li><span><a href=\"#Замена-типа-данных\" data-toc-modified-id=\"Замена-типа-данных-2.1\"><span class=\"toc-item-num\">2.1&nbsp;&nbsp;</span>Замена типа данных</a></span></li><li><span><a href=\"#Обработка-дубликатов\" data-toc-modified-id=\"Обработка-дубликатов-2.2\"><span class=\"toc-item-num\">2.2&nbsp;&nbsp;</span>Обработка дубликатов</a></span></li><li><span><a href=\"#Лемматизация\" data-toc-modified-id=\"Лемматизация-2.3\"><span class=\"toc-item-num\">2.3&nbsp;&nbsp;</span>Лемматизация</a></span></li><li><span><a href=\"#Категоризация-данных\" data-toc-modified-id=\"Категоризация-данных-2.4\"><span class=\"toc-item-num\">2.4&nbsp;&nbsp;</span>Категоризация данных</a></span></li></ul></li><li><span><a href=\"#Ответьте-на-вопросы\" data-toc-modified-id=\"Ответьте-на-вопросы-3\"><span class=\"toc-item-num\">3&nbsp;&nbsp;</span>Ответьте на вопросы</a></span></li><li><span><a href=\"#Общий-вывод\" data-toc-modified-id=\"Общий-вывод-4\"><span class=\"toc-item-num\">4&nbsp;&nbsp;</span>Общий вывод</a></span></li></ul></div>"
   ]
  },
  {
   "cell_type": "markdown",
   "metadata": {},
   "source": [
    "# Исследование надёжности заёмщиков - анализ банковских данных\n",
    "\n",
    "Заказчик — кредитный отдел банка. Нужно разобраться, влияет ли семейное положение и количество детей клиента на факт погашения кредита в срок. Входные данные от банка — статистика о платёжеспособности клиентов.\n",
    "\n",
    "Результаты исследования будут учтены при построении модели **кредитного скоринга** — специальной системы, которая оценивает способность потенциального заёмщика вернуть кредит банку."
   ]
  },
  {
   "cell_type": "markdown",
   "metadata": {},
   "source": [
    "## Обзор данных"
   ]
  },
  {
   "cell_type": "code",
   "execution_count": 1,
   "metadata": {},
   "outputs": [],
   "source": [
    "import pandas as pd"
   ]
  },
  {
   "cell_type": "code",
   "execution_count": 2,
   "metadata": {},
   "outputs": [],
   "source": [
    "df = pd.read_csv('/datasets/data.csv')"
   ]
  },
  {
   "cell_type": "code",
   "execution_count": 3,
   "metadata": {},
   "outputs": [
    {
     "data": {
      "text/html": [
       "<div>\n",
       "<style scoped>\n",
       "    .dataframe tbody tr th:only-of-type {\n",
       "        vertical-align: middle;\n",
       "    }\n",
       "\n",
       "    .dataframe tbody tr th {\n",
       "        vertical-align: top;\n",
       "    }\n",
       "\n",
       "    .dataframe thead th {\n",
       "        text-align: right;\n",
       "    }\n",
       "</style>\n",
       "<table border=\"1\" class=\"dataframe\">\n",
       "  <thead>\n",
       "    <tr style=\"text-align: right;\">\n",
       "      <th></th>\n",
       "      <th>children</th>\n",
       "      <th>days_employed</th>\n",
       "      <th>dob_years</th>\n",
       "      <th>education</th>\n",
       "      <th>education_id</th>\n",
       "      <th>family_status</th>\n",
       "      <th>family_status_id</th>\n",
       "      <th>gender</th>\n",
       "      <th>income_type</th>\n",
       "      <th>debt</th>\n",
       "      <th>total_income</th>\n",
       "      <th>purpose</th>\n",
       "    </tr>\n",
       "  </thead>\n",
       "  <tbody>\n",
       "    <tr>\n",
       "      <th>0</th>\n",
       "      <td>1</td>\n",
       "      <td>-8437.673028</td>\n",
       "      <td>42</td>\n",
       "      <td>высшее</td>\n",
       "      <td>0</td>\n",
       "      <td>женат / замужем</td>\n",
       "      <td>0</td>\n",
       "      <td>F</td>\n",
       "      <td>сотрудник</td>\n",
       "      <td>0</td>\n",
       "      <td>253875.639453</td>\n",
       "      <td>покупка жилья</td>\n",
       "    </tr>\n",
       "    <tr>\n",
       "      <th>1</th>\n",
       "      <td>1</td>\n",
       "      <td>-4024.803754</td>\n",
       "      <td>36</td>\n",
       "      <td>среднее</td>\n",
       "      <td>1</td>\n",
       "      <td>женат / замужем</td>\n",
       "      <td>0</td>\n",
       "      <td>F</td>\n",
       "      <td>сотрудник</td>\n",
       "      <td>0</td>\n",
       "      <td>112080.014102</td>\n",
       "      <td>приобретение автомобиля</td>\n",
       "    </tr>\n",
       "    <tr>\n",
       "      <th>2</th>\n",
       "      <td>0</td>\n",
       "      <td>-5623.422610</td>\n",
       "      <td>33</td>\n",
       "      <td>Среднее</td>\n",
       "      <td>1</td>\n",
       "      <td>женат / замужем</td>\n",
       "      <td>0</td>\n",
       "      <td>M</td>\n",
       "      <td>сотрудник</td>\n",
       "      <td>0</td>\n",
       "      <td>145885.952297</td>\n",
       "      <td>покупка жилья</td>\n",
       "    </tr>\n",
       "    <tr>\n",
       "      <th>3</th>\n",
       "      <td>3</td>\n",
       "      <td>-4124.747207</td>\n",
       "      <td>32</td>\n",
       "      <td>среднее</td>\n",
       "      <td>1</td>\n",
       "      <td>женат / замужем</td>\n",
       "      <td>0</td>\n",
       "      <td>M</td>\n",
       "      <td>сотрудник</td>\n",
       "      <td>0</td>\n",
       "      <td>267628.550329</td>\n",
       "      <td>дополнительное образование</td>\n",
       "    </tr>\n",
       "    <tr>\n",
       "      <th>4</th>\n",
       "      <td>0</td>\n",
       "      <td>340266.072047</td>\n",
       "      <td>53</td>\n",
       "      <td>среднее</td>\n",
       "      <td>1</td>\n",
       "      <td>гражданский брак</td>\n",
       "      <td>1</td>\n",
       "      <td>F</td>\n",
       "      <td>пенсионер</td>\n",
       "      <td>0</td>\n",
       "      <td>158616.077870</td>\n",
       "      <td>сыграть свадьбу</td>\n",
       "    </tr>\n",
       "  </tbody>\n",
       "</table>\n",
       "</div>"
      ],
      "text/plain": [
       "   children  days_employed  dob_years education  education_id  \\\n",
       "0         1   -8437.673028         42    высшее             0   \n",
       "1         1   -4024.803754         36   среднее             1   \n",
       "2         0   -5623.422610         33   Среднее             1   \n",
       "3         3   -4124.747207         32   среднее             1   \n",
       "4         0  340266.072047         53   среднее             1   \n",
       "\n",
       "      family_status  family_status_id gender income_type  debt   total_income  \\\n",
       "0   женат / замужем                 0      F   сотрудник     0  253875.639453   \n",
       "1   женат / замужем                 0      F   сотрудник     0  112080.014102   \n",
       "2   женат / замужем                 0      M   сотрудник     0  145885.952297   \n",
       "3   женат / замужем                 0      M   сотрудник     0  267628.550329   \n",
       "4  гражданский брак                 1      F   пенсионер     0  158616.077870   \n",
       "\n",
       "                      purpose  \n",
       "0               покупка жилья  \n",
       "1     приобретение автомобиля  \n",
       "2               покупка жилья  \n",
       "3  дополнительное образование  \n",
       "4             сыграть свадьбу  "
      ]
     },
     "execution_count": 3,
     "metadata": {},
     "output_type": "execute_result"
    }
   ],
   "source": [
    "df.head()"
   ]
  },
  {
   "cell_type": "markdown",
   "metadata": {},
   "source": [
    " Получим общую информацию о таблице:"
   ]
  },
  {
   "cell_type": "code",
   "execution_count": 4,
   "metadata": {},
   "outputs": [
    {
     "name": "stdout",
     "output_type": "stream",
     "text": [
      "<class 'pandas.core.frame.DataFrame'>\n",
      "RangeIndex: 21525 entries, 0 to 21524\n",
      "Data columns (total 12 columns):\n",
      " #   Column            Non-Null Count  Dtype  \n",
      "---  ------            --------------  -----  \n",
      " 0   children          21525 non-null  int64  \n",
      " 1   days_employed     19351 non-null  float64\n",
      " 2   dob_years         21525 non-null  int64  \n",
      " 3   education         21525 non-null  object \n",
      " 4   education_id      21525 non-null  int64  \n",
      " 5   family_status     21525 non-null  object \n",
      " 6   family_status_id  21525 non-null  int64  \n",
      " 7   gender            21525 non-null  object \n",
      " 8   income_type       21525 non-null  object \n",
      " 9   debt              21525 non-null  int64  \n",
      " 10  total_income      19351 non-null  float64\n",
      " 11  purpose           21525 non-null  object \n",
      "dtypes: float64(2), int64(5), object(5)\n",
      "memory usage: 2.0+ MB\n"
     ]
    }
   ],
   "source": [
    "df.info()# общая информация о таблице"
   ]
  },
  {
   "cell_type": "markdown",
   "metadata": {},
   "source": [
    "В таблице 12 столбцов с разными типами данных."
   ]
  },
  {
   "cell_type": "markdown",
   "metadata": {},
   "source": [
    "Согласно документации к данным: "
   ]
  },
  {
   "cell_type": "markdown",
   "metadata": {},
   "source": [
    "* `children` — количество детей в семье;\n",
    "* `days_employed` — общий трудовой стаж в днях;\n",
    "* `dob_years` — возраст клиента в годах;\n",
    "* `education` — уровень образования клиента;\n",
    "* `education_id` — идентификатор уровня образования;\n",
    "* `family_status` — семейное положение;\n",
    "* `family_status_id` — идентификатор семейного положения;\n",
    "* `gender` — пол клиента;\n",
    "* `income_type` — тип занятости;\n",
    "* `debt` — имел ли задолженность по возврату кредитов;\n",
    "* `total_income` — ежемесячный доход;\n",
    "* `purpose` — цель получения кредита.\n",
    "\n",
    "Количество значений в столбцах различается. Значит, в данных есть пропущенные значения."
   ]
  },
  {
   "cell_type": "markdown",
   "metadata": {},
   "source": [
    "**Вывод**\n",
    "\n",
    "В каждой строке таблицы - данные о клиенте: сколько ему лет, сколько детей и тд.\n",
    "\n",
    "Предварительно можно утверждать, что, данных достаточно для проверки гипотез. Но встречаются пропуски в данных, которые необходимо устранить.\n"
   ]
  },
  {
   "cell_type": "markdown",
   "metadata": {},
   "source": [
    "## Предобработка данных"
   ]
  },
  {
   "cell_type": "code",
   "execution_count": 5,
   "metadata": {},
   "outputs": [
    {
     "data": {
      "text/plain": [
       "children               0\n",
       "days_employed       2174\n",
       "dob_years              0\n",
       "education              0\n",
       "education_id           0\n",
       "family_status          0\n",
       "family_status_id       0\n",
       "gender                 0\n",
       "income_type            0\n",
       "debt                   0\n",
       "total_income        2174\n",
       "purpose                0\n",
       "dtype: int64"
      ]
     },
     "execution_count": 5,
     "metadata": {},
     "output_type": "execute_result"
    }
   ],
   "source": [
    "df.isna().sum()"
   ]
  },
  {
   "cell_type": "markdown",
   "metadata": {},
   "source": [
    "В столбцах `days_employed` и `total_income` отображен рабочий стаж в днях и доход в месяц соотвественно, обнаружены пропуски, которые необходимо обработать. Для начала заменим отрицательные значения в столбце `days_employed` на положительные, имеются аномально высокие значения. Появление аномально высоких значений рабочего стажа может быть связана с тем, что данные собранны с нескольких баз и счет идет не в днях, а в часах. При просмотре данных можно заметить, что аномально высокие значения почти все отрицательные. Установим верхнюю границу для пересчета аномальных значений в дни."
   ]
  },
  {
   "cell_type": "code",
   "execution_count": 6,
   "metadata": {},
   "outputs": [],
   "source": [
    "df['days_employed'] = df['days_employed'].apply(abs)\n",
    "df.loc[df['days_employed']>30000, 'days_employed'] = df.loc[df['days_employed']>30000, 'days_employed'] / 24\n"
   ]
  },
  {
   "cell_type": "markdown",
   "metadata": {},
   "source": [
    "Для замены пропусков в столбце `days_employed` воспользуемся медианой с разбивкой по типу занятости."
   ]
  },
  {
   "cell_type": "code",
   "execution_count": 7,
   "metadata": {},
   "outputs": [],
   "source": [
    "df_grouped = df.groupby('income_type')['days_employed'].median()\n",
    "\n",
    "def median_group(row):\n",
    "    if pd.isna(row['days_employed']):\n",
    "        return df_grouped.loc[row['income_type']]\n",
    "    return row['days_employed']\n",
    "\n",
    "df['days_employed'] = df.apply(median_group, axis=1)"
   ]
  },
  {
   "cell_type": "markdown",
   "metadata": {},
   "source": [
    "Так же заполняем пропуски в столбце `total_income` медианой с разбивкой по типу занятости и проверяем имеются ли пропуски."
   ]
  },
  {
   "cell_type": "code",
   "execution_count": 8,
   "metadata": {},
   "outputs": [],
   "source": [
    "df_grouped = df.groupby('income_type')['total_income'].median()\n",
    "\n",
    "def median_group(row):\n",
    "    if pd.isna(row['total_income']):\n",
    "        return df_grouped.loc[row['income_type']]\n",
    "    return row['total_income']\n",
    "\n",
    "df['total_income'] = df.apply(median_group, axis=1)"
   ]
  },
  {
   "cell_type": "code",
   "execution_count": 9,
   "metadata": {},
   "outputs": [
    {
     "data": {
      "text/plain": [
       "children            0\n",
       "days_employed       0\n",
       "dob_years           0\n",
       "education           0\n",
       "education_id        0\n",
       "family_status       0\n",
       "family_status_id    0\n",
       "gender              0\n",
       "income_type         0\n",
       "debt                0\n",
       "total_income        0\n",
       "purpose             0\n",
       "dtype: int64"
      ]
     },
     "execution_count": 9,
     "metadata": {},
     "output_type": "execute_result"
    }
   ],
   "source": [
    "df.isna().sum()"
   ]
  },
  {
   "cell_type": "markdown",
   "metadata": {},
   "source": [
    "Приведем столбец `education` к нижнему регистру, для того чтобы разный регистр в столбце не мешал поиску явных дубликатов."
   ]
  },
  {
   "cell_type": "code",
   "execution_count": 10,
   "metadata": {},
   "outputs": [],
   "source": [
    "df['education'] = df['education'].str.lower() "
   ]
  },
  {
   "cell_type": "markdown",
   "metadata": {},
   "source": [
    "В столбце `children` есть отрицательные и аномально высокие значения. Значение 20 заменим на ноль, так как цифра 2 на клавиатуре очень близко находится с цифрой 0 и можно легко ощибиться.  - 1 тоже заменим на ноль, так это скорее всего означало прочерк, следовательно отсутствие детей."
   ]
  },
  {
   "cell_type": "code",
   "execution_count": 11,
   "metadata": {},
   "outputs": [
    {
     "data": {
      "text/plain": [
       " 0     14149\n",
       " 1      4818\n",
       " 2      2055\n",
       " 3       330\n",
       " 20       76\n",
       "-1        47\n",
       " 4        41\n",
       " 5         9\n",
       "Name: children, dtype: int64"
      ]
     },
     "execution_count": 11,
     "metadata": {},
     "output_type": "execute_result"
    }
   ],
   "source": [
    "df['children'].value_counts()"
   ]
  },
  {
   "cell_type": "markdown",
   "metadata": {},
   "source": [
    "Заменим аномальные значения на 0. Проверим, прошла ли замена успешно."
   ]
  },
  {
   "cell_type": "code",
   "execution_count": 12,
   "metadata": {},
   "outputs": [
    {
     "data": {
      "text/plain": [
       "0    14272\n",
       "1     4818\n",
       "2     2055\n",
       "3      330\n",
       "4       41\n",
       "5        9\n",
       "Name: children, dtype: int64"
      ]
     },
     "execution_count": 12,
     "metadata": {},
     "output_type": "execute_result"
    }
   ],
   "source": [
    "df.loc[(df['children']==-1)|(df['children']==20), 'children'] = 0\n",
    "df['children'].value_counts()"
   ]
  },
  {
   "cell_type": "markdown",
   "metadata": {},
   "source": [
    "**Вывод** \n",
    "При обработке данных было несколько проблем:\n",
    "- пропуски данных\n",
    "- разный регистр в столбце\n",
    "- аномальные значения в нескольких столбцах."
   ]
  },
  {
   "cell_type": "markdown",
   "metadata": {},
   "source": [
    "### Замена типа данных"
   ]
  },
  {
   "cell_type": "markdown",
   "metadata": {},
   "source": [
    "Для того чтобы убрать ряд значений после запятой, поменяем вещественный тип данных столбцов  `days_employed` и `total_income` на целочисленный."
   ]
  },
  {
   "cell_type": "code",
   "execution_count": 13,
   "metadata": {},
   "outputs": [
    {
     "name": "stdout",
     "output_type": "stream",
     "text": [
      "<class 'pandas.core.frame.DataFrame'>\n",
      "RangeIndex: 21525 entries, 0 to 21524\n",
      "Data columns (total 12 columns):\n",
      " #   Column            Non-Null Count  Dtype \n",
      "---  ------            --------------  ----- \n",
      " 0   children          21525 non-null  int64 \n",
      " 1   days_employed     21525 non-null  int64 \n",
      " 2   dob_years         21525 non-null  int64 \n",
      " 3   education         21525 non-null  object\n",
      " 4   education_id      21525 non-null  int64 \n",
      " 5   family_status     21525 non-null  object\n",
      " 6   family_status_id  21525 non-null  int64 \n",
      " 7   gender            21525 non-null  object\n",
      " 8   income_type       21525 non-null  object\n",
      " 9   debt              21525 non-null  int64 \n",
      " 10  total_income      21525 non-null  int64 \n",
      " 11  purpose           21525 non-null  object\n",
      "dtypes: int64(7), object(5)\n",
      "memory usage: 2.0+ MB\n"
     ]
    }
   ],
   "source": [
    "df['days_employed'] = df['days_employed'].astype('int')\n",
    "df['total_income'] = df['total_income'].astype('int')\n",
    "df.info()"
   ]
  },
  {
   "cell_type": "markdown",
   "metadata": {},
   "source": [
    "**Вывод** Изменение типа данных прошло успешно."
   ]
  },
  {
   "cell_type": "markdown",
   "metadata": {},
   "source": [
    "### Обработка дубликатов"
   ]
  },
  {
   "cell_type": "markdown",
   "metadata": {},
   "source": [
    "Посчитаем явные дубликаты в таблице"
   ]
  },
  {
   "cell_type": "code",
   "execution_count": 14,
   "metadata": {},
   "outputs": [
    {
     "data": {
      "text/plain": [
       "71"
      ]
     },
     "execution_count": 14,
     "metadata": {},
     "output_type": "execute_result"
    }
   ],
   "source": [
    "df.duplicated().sum()"
   ]
  },
  {
   "cell_type": "markdown",
   "metadata": {},
   "source": [
    "Вызовем метод pandas для удаления дубликатов. Сразу удалим старые индексы и проверим есть ли еще явные дубликаты."
   ]
  },
  {
   "cell_type": "code",
   "execution_count": 15,
   "metadata": {},
   "outputs": [
    {
     "data": {
      "text/plain": [
       "0"
      ]
     },
     "execution_count": 15,
     "metadata": {},
     "output_type": "execute_result"
    }
   ],
   "source": [
    "df = df.drop_duplicates().reset_index(drop=True)\n",
    "df.duplicated().sum()"
   ]
  },
  {
   "cell_type": "markdown",
   "metadata": {},
   "source": [
    "**Вывод** Явных дубликатов больше нет. Дубликаты в данных могли появится при неправильной выгрузке данных или данные были внесены неколько раз. "
   ]
  },
  {
   "cell_type": "markdown",
   "metadata": {},
   "source": [
    "### Лемматизация"
   ]
  },
  {
   "cell_type": "markdown",
   "metadata": {},
   "source": [
    "Подключим библиотеку `pymystem3` для поиска лемм в столбце `purpose`. "
   ]
  },
  {
   "cell_type": "code",
   "execution_count": 16,
   "metadata": {},
   "outputs": [],
   "source": [
    "from pymystem3 import Mystem \n",
    "m = Mystem()\n",
    "\n",
    "lemmas = m.lemmatize(' '.join(df['purpose'].unique()))"
   ]
  },
  {
   "cell_type": "markdown",
   "metadata": {},
   "source": [
    "Посмотрим какие леммы встречаются чаще всего."
   ]
  },
  {
   "cell_type": "code",
   "execution_count": 17,
   "metadata": {},
   "outputs": [
    {
     "data": {
      "text/plain": [
       "[(' ', 96),\n",
       " ('покупка', 10),\n",
       " ('недвижимость', 10),\n",
       " ('автомобиль', 9),\n",
       " ('образование', 9),\n",
       " ('жилье', 7),\n",
       " ('с', 5),\n",
       " ('операция', 4),\n",
       " ('на', 4),\n",
       " ('свой', 4),\n",
       " ('свадьба', 3),\n",
       " ('строительство', 3),\n",
       " ('получение', 3),\n",
       " ('высокий', 3),\n",
       " ('дополнительный', 2),\n",
       " ('для', 2),\n",
       " ('коммерческий', 2),\n",
       " ('жилой', 2),\n",
       " ('подержать', 2),\n",
       " ('заниматься', 2),\n",
       " ('сделка', 2),\n",
       " ('приобретение', 1),\n",
       " ('сыграть', 1),\n",
       " ('проведение', 1),\n",
       " ('семья', 1),\n",
       " ('собственный', 1),\n",
       " ('со', 1),\n",
       " ('профильный', 1),\n",
       " ('сдача', 1),\n",
       " ('ремонт', 1),\n",
       " ('\\n', 1)]"
      ]
     },
     "execution_count": 17,
     "metadata": {},
     "output_type": "execute_result"
    }
   ],
   "source": [
    "from collections import Counter\n",
    "Counter(lemmas).most_common()"
   ]
  },
  {
   "cell_type": "markdown",
   "metadata": {},
   "source": [
    "Создадим список самых популярных вариантов."
   ]
  },
  {
   "cell_type": "code",
   "execution_count": 18,
   "metadata": {},
   "outputs": [],
   "source": [
    "common_purposes = ['недвижимость', 'жилье', 'автомобиль', 'образование', 'свадьба']"
   ]
  },
  {
   "cell_type": "markdown",
   "metadata": {},
   "source": [
    "Создадим функцию для обработки столбца `purpose`, которая присвоит категорию каждой строке."
   ]
  },
  {
   "cell_type": "code",
   "execution_count": 19,
   "metadata": {},
   "outputs": [
    {
     "data": {
      "text/html": [
       "<div>\n",
       "<style scoped>\n",
       "    .dataframe tbody tr th:only-of-type {\n",
       "        vertical-align: middle;\n",
       "    }\n",
       "\n",
       "    .dataframe tbody tr th {\n",
       "        vertical-align: top;\n",
       "    }\n",
       "\n",
       "    .dataframe thead th {\n",
       "        text-align: right;\n",
       "    }\n",
       "</style>\n",
       "<table border=\"1\" class=\"dataframe\">\n",
       "  <thead>\n",
       "    <tr style=\"text-align: right;\">\n",
       "      <th></th>\n",
       "      <th>children</th>\n",
       "      <th>days_employed</th>\n",
       "      <th>dob_years</th>\n",
       "      <th>education</th>\n",
       "      <th>education_id</th>\n",
       "      <th>family_status</th>\n",
       "      <th>family_status_id</th>\n",
       "      <th>gender</th>\n",
       "      <th>income_type</th>\n",
       "      <th>debt</th>\n",
       "      <th>total_income</th>\n",
       "      <th>purpose</th>\n",
       "      <th>purpose_category</th>\n",
       "    </tr>\n",
       "  </thead>\n",
       "  <tbody>\n",
       "    <tr>\n",
       "      <th>0</th>\n",
       "      <td>1</td>\n",
       "      <td>8437</td>\n",
       "      <td>42</td>\n",
       "      <td>высшее</td>\n",
       "      <td>0</td>\n",
       "      <td>женат / замужем</td>\n",
       "      <td>0</td>\n",
       "      <td>F</td>\n",
       "      <td>сотрудник</td>\n",
       "      <td>0</td>\n",
       "      <td>253875</td>\n",
       "      <td>покупка жилья</td>\n",
       "      <td>жилье</td>\n",
       "    </tr>\n",
       "    <tr>\n",
       "      <th>1</th>\n",
       "      <td>1</td>\n",
       "      <td>4024</td>\n",
       "      <td>36</td>\n",
       "      <td>среднее</td>\n",
       "      <td>1</td>\n",
       "      <td>женат / замужем</td>\n",
       "      <td>0</td>\n",
       "      <td>F</td>\n",
       "      <td>сотрудник</td>\n",
       "      <td>0</td>\n",
       "      <td>112080</td>\n",
       "      <td>приобретение автомобиля</td>\n",
       "      <td>автомобиль</td>\n",
       "    </tr>\n",
       "    <tr>\n",
       "      <th>2</th>\n",
       "      <td>0</td>\n",
       "      <td>5623</td>\n",
       "      <td>33</td>\n",
       "      <td>среднее</td>\n",
       "      <td>1</td>\n",
       "      <td>женат / замужем</td>\n",
       "      <td>0</td>\n",
       "      <td>M</td>\n",
       "      <td>сотрудник</td>\n",
       "      <td>0</td>\n",
       "      <td>145885</td>\n",
       "      <td>покупка жилья</td>\n",
       "      <td>жилье</td>\n",
       "    </tr>\n",
       "    <tr>\n",
       "      <th>3</th>\n",
       "      <td>3</td>\n",
       "      <td>4124</td>\n",
       "      <td>32</td>\n",
       "      <td>среднее</td>\n",
       "      <td>1</td>\n",
       "      <td>женат / замужем</td>\n",
       "      <td>0</td>\n",
       "      <td>M</td>\n",
       "      <td>сотрудник</td>\n",
       "      <td>0</td>\n",
       "      <td>267628</td>\n",
       "      <td>дополнительное образование</td>\n",
       "      <td>образование</td>\n",
       "    </tr>\n",
       "    <tr>\n",
       "      <th>4</th>\n",
       "      <td>0</td>\n",
       "      <td>14177</td>\n",
       "      <td>53</td>\n",
       "      <td>среднее</td>\n",
       "      <td>1</td>\n",
       "      <td>гражданский брак</td>\n",
       "      <td>1</td>\n",
       "      <td>F</td>\n",
       "      <td>пенсионер</td>\n",
       "      <td>0</td>\n",
       "      <td>158616</td>\n",
       "      <td>сыграть свадьбу</td>\n",
       "      <td>свадьба</td>\n",
       "    </tr>\n",
       "  </tbody>\n",
       "</table>\n",
       "</div>"
      ],
      "text/plain": [
       "   children  days_employed  dob_years education  education_id  \\\n",
       "0         1           8437         42    высшее             0   \n",
       "1         1           4024         36   среднее             1   \n",
       "2         0           5623         33   среднее             1   \n",
       "3         3           4124         32   среднее             1   \n",
       "4         0          14177         53   среднее             1   \n",
       "\n",
       "      family_status  family_status_id gender income_type  debt  total_income  \\\n",
       "0   женат / замужем                 0      F   сотрудник     0        253875   \n",
       "1   женат / замужем                 0      F   сотрудник     0        112080   \n",
       "2   женат / замужем                 0      M   сотрудник     0        145885   \n",
       "3   женат / замужем                 0      M   сотрудник     0        267628   \n",
       "4  гражданский брак                 1      F   пенсионер     0        158616   \n",
       "\n",
       "                      purpose purpose_category  \n",
       "0               покупка жилья            жилье  \n",
       "1     приобретение автомобиля       автомобиль  \n",
       "2               покупка жилья            жилье  \n",
       "3  дополнительное образование      образование  \n",
       "4             сыграть свадьбу          свадьба  "
      ]
     },
     "execution_count": 19,
     "metadata": {},
     "output_type": "execute_result"
    }
   ],
   "source": [
    "def purpose_category(value):\n",
    "    lemmas = m.lemmatize(value)\n",
    "    for item in common_purposes:\n",
    "        if item in lemmas:\n",
    "            return item\n",
    "    return 'другое'\n",
    "\n",
    "df['purpose_category'] = df['purpose'].apply(purpose_category)# добавляем новый столбец в df\n",
    "df.head()"
   ]
  },
  {
   "cell_type": "markdown",
   "metadata": {},
   "source": [
    "**Вывод** С помощью лемматизации каждой строке присвоена категория для удобства анализа данных."
   ]
  },
  {
   "cell_type": "markdown",
   "metadata": {},
   "source": [
    "### Категоризация данных"
   ]
  },
  {
   "cell_type": "markdown",
   "metadata": {},
   "source": [
    "Определим, по каким категорям можно разделить датафрейм:\n",
    "\n",
    "1. По семейному статусу:"
   ]
  },
  {
   "cell_type": "code",
   "execution_count": 20,
   "metadata": {},
   "outputs": [
    {
     "data": {
      "text/html": [
       "<div>\n",
       "<style scoped>\n",
       "    .dataframe tbody tr th:only-of-type {\n",
       "        vertical-align: middle;\n",
       "    }\n",
       "\n",
       "    .dataframe tbody tr th {\n",
       "        vertical-align: top;\n",
       "    }\n",
       "\n",
       "    .dataframe thead th {\n",
       "        text-align: right;\n",
       "    }\n",
       "</style>\n",
       "<table border=\"1\" class=\"dataframe\">\n",
       "  <thead>\n",
       "    <tr style=\"text-align: right;\">\n",
       "      <th></th>\n",
       "      <th>family_status</th>\n",
       "    </tr>\n",
       "    <tr>\n",
       "      <th>family_status_id</th>\n",
       "      <th></th>\n",
       "    </tr>\n",
       "  </thead>\n",
       "  <tbody>\n",
       "    <tr>\n",
       "      <th>0</th>\n",
       "      <td>женат / замужем</td>\n",
       "    </tr>\n",
       "    <tr>\n",
       "      <th>1</th>\n",
       "      <td>гражданский брак</td>\n",
       "    </tr>\n",
       "    <tr>\n",
       "      <th>2</th>\n",
       "      <td>вдовец / вдова</td>\n",
       "    </tr>\n",
       "    <tr>\n",
       "      <th>3</th>\n",
       "      <td>в разводе</td>\n",
       "    </tr>\n",
       "    <tr>\n",
       "      <th>4</th>\n",
       "      <td>Не женат / не замужем</td>\n",
       "    </tr>\n",
       "  </tbody>\n",
       "</table>\n",
       "</div>"
      ],
      "text/plain": [
       "                          family_status\n",
       "family_status_id                       \n",
       "0                       женат / замужем\n",
       "1                      гражданский брак\n",
       "2                        вдовец / вдова\n",
       "3                             в разводе\n",
       "4                 Не женат / не замужем"
      ]
     },
     "execution_count": 20,
     "metadata": {},
     "output_type": "execute_result"
    }
   ],
   "source": [
    "df[['family_status_id', 'family_status']].drop_duplicates().set_index('family_status_id')"
   ]
  },
  {
   "cell_type": "markdown",
   "metadata": {},
   "source": [
    "2. По уровню образования:"
   ]
  },
  {
   "cell_type": "code",
   "execution_count": 21,
   "metadata": {},
   "outputs": [
    {
     "data": {
      "text/html": [
       "<div>\n",
       "<style scoped>\n",
       "    .dataframe tbody tr th:only-of-type {\n",
       "        vertical-align: middle;\n",
       "    }\n",
       "\n",
       "    .dataframe tbody tr th {\n",
       "        vertical-align: top;\n",
       "    }\n",
       "\n",
       "    .dataframe thead th {\n",
       "        text-align: right;\n",
       "    }\n",
       "</style>\n",
       "<table border=\"1\" class=\"dataframe\">\n",
       "  <thead>\n",
       "    <tr style=\"text-align: right;\">\n",
       "      <th></th>\n",
       "      <th>education</th>\n",
       "    </tr>\n",
       "    <tr>\n",
       "      <th>education_id</th>\n",
       "      <th></th>\n",
       "    </tr>\n",
       "  </thead>\n",
       "  <tbody>\n",
       "    <tr>\n",
       "      <th>0</th>\n",
       "      <td>высшее</td>\n",
       "    </tr>\n",
       "    <tr>\n",
       "      <th>1</th>\n",
       "      <td>среднее</td>\n",
       "    </tr>\n",
       "    <tr>\n",
       "      <th>2</th>\n",
       "      <td>неоконченное высшее</td>\n",
       "    </tr>\n",
       "    <tr>\n",
       "      <th>3</th>\n",
       "      <td>начальное</td>\n",
       "    </tr>\n",
       "    <tr>\n",
       "      <th>4</th>\n",
       "      <td>ученая степень</td>\n",
       "    </tr>\n",
       "  </tbody>\n",
       "</table>\n",
       "</div>"
      ],
      "text/plain": [
       "                        education\n",
       "education_id                     \n",
       "0                          высшее\n",
       "1                         среднее\n",
       "2             неоконченное высшее\n",
       "3                       начальное\n",
       "4                  ученая степень"
      ]
     },
     "execution_count": 21,
     "metadata": {},
     "output_type": "execute_result"
    }
   ],
   "source": [
    "df[['education_id', 'education']].drop_duplicates().set_index('education_id')"
   ]
  },
  {
   "cell_type": "markdown",
   "metadata": {},
   "source": [
    "3. По уровню дохода:"
   ]
  },
  {
   "cell_type": "code",
   "execution_count": 22,
   "metadata": {},
   "outputs": [
    {
     "data": {
      "text/plain": [
       "низкий доход           4291\n",
       "доход ниже среднего    4291\n",
       "доход выше среднего    4291\n",
       "высокий доход          4291\n",
       "средний доход          4290\n",
       "Name: total_income_group, dtype: int64"
      ]
     },
     "execution_count": 22,
     "metadata": {},
     "output_type": "execute_result"
    }
   ],
   "source": [
    "df['total_income_group'] = pd.qcut(df['total_income'], [0, 0.2, 0.4, 0.6, 0.8, 1], \n",
    "                                   labels=['низкий доход', 'доход ниже среднего','средний доход', 'доход выше среднего', 'высокий доход'])\n",
    "df['total_income_group'].value_counts()"
   ]
  },
  {
   "cell_type": "markdown",
   "metadata": {},
   "source": [
    "4. По цели получения кредита:"
   ]
  },
  {
   "cell_type": "code",
   "execution_count": 23,
   "metadata": {},
   "outputs": [
    {
     "data": {
      "text/plain": [
       "недвижимость    6351\n",
       "жилье           4460\n",
       "автомобиль      4306\n",
       "образование     4013\n",
       "свадьба         2324\n",
       "Name: purpose_category, dtype: int64"
      ]
     },
     "execution_count": 23,
     "metadata": {},
     "output_type": "execute_result"
    }
   ],
   "source": [
    "df['purpose_category'].value_counts()"
   ]
  },
  {
   "cell_type": "markdown",
   "metadata": {},
   "source": [
    "## Ответьте на вопросы"
   ]
  },
  {
   "cell_type": "markdown",
   "metadata": {},
   "source": [
    "Ответим на несколько вопросов:\n",
    "    \n",
    "*1. Есть ли зависимость между наличием детей и возвратом кредита в срок?*"
   ]
  },
  {
   "cell_type": "code",
   "execution_count": 24,
   "metadata": {},
   "outputs": [
    {
     "data": {
      "text/html": [
       "<style  type=\"text/css\" >\n",
       "</style><table id=\"T_0de8c_\" ><thead>    <tr>        <th class=\"blank level0\" ></th>        <th class=\"col_heading level0 col0\" >no_debt</th>        <th class=\"col_heading level0 col1\" >debt</th>        <th class=\"col_heading level0 col2\" >%</th>    </tr>    <tr>        <th class=\"index_name level0\" >children</th>        <th class=\"blank\" ></th>        <th class=\"blank\" ></th>        <th class=\"blank\" ></th>    </tr></thead><tbody>\n",
       "                <tr>\n",
       "                        <th id=\"T_0de8c_level0_row0\" class=\"row_heading level0 row0\" >0</th>\n",
       "                        <td id=\"T_0de8c_row0_col0\" class=\"data row0 col0\" >13142</td>\n",
       "                        <td id=\"T_0de8c_row0_col1\" class=\"data row0 col1\" >1072.000000</td>\n",
       "                        <td id=\"T_0de8c_row0_col2\" class=\"data row0 col2\" >7.54%</td>\n",
       "            </tr>\n",
       "            <tr>\n",
       "                        <th id=\"T_0de8c_level0_row1\" class=\"row_heading level0 row1\" >1</th>\n",
       "                        <td id=\"T_0de8c_row1_col0\" class=\"data row1 col0\" >4364</td>\n",
       "                        <td id=\"T_0de8c_row1_col1\" class=\"data row1 col1\" >444.000000</td>\n",
       "                        <td id=\"T_0de8c_row1_col2\" class=\"data row1 col2\" >9.23%</td>\n",
       "            </tr>\n",
       "            <tr>\n",
       "                        <th id=\"T_0de8c_level0_row2\" class=\"row_heading level0 row2\" >2</th>\n",
       "                        <td id=\"T_0de8c_row2_col0\" class=\"data row2 col0\" >1858</td>\n",
       "                        <td id=\"T_0de8c_row2_col1\" class=\"data row2 col1\" >194.000000</td>\n",
       "                        <td id=\"T_0de8c_row2_col2\" class=\"data row2 col2\" >9.45%</td>\n",
       "            </tr>\n",
       "            <tr>\n",
       "                        <th id=\"T_0de8c_level0_row3\" class=\"row_heading level0 row3\" >3</th>\n",
       "                        <td id=\"T_0de8c_row3_col0\" class=\"data row3 col0\" >303</td>\n",
       "                        <td id=\"T_0de8c_row3_col1\" class=\"data row3 col1\" >27.000000</td>\n",
       "                        <td id=\"T_0de8c_row3_col2\" class=\"data row3 col2\" >8.18%</td>\n",
       "            </tr>\n",
       "            <tr>\n",
       "                        <th id=\"T_0de8c_level0_row4\" class=\"row_heading level0 row4\" >4</th>\n",
       "                        <td id=\"T_0de8c_row4_col0\" class=\"data row4 col0\" >37</td>\n",
       "                        <td id=\"T_0de8c_row4_col1\" class=\"data row4 col1\" >4.000000</td>\n",
       "                        <td id=\"T_0de8c_row4_col2\" class=\"data row4 col2\" >9.76%</td>\n",
       "            </tr>\n",
       "            <tr>\n",
       "                        <th id=\"T_0de8c_level0_row5\" class=\"row_heading level0 row5\" >5</th>\n",
       "                        <td id=\"T_0de8c_row5_col0\" class=\"data row5 col0\" >9</td>\n",
       "                        <td id=\"T_0de8c_row5_col1\" class=\"data row5 col1\" >0.000000</td>\n",
       "                        <td id=\"T_0de8c_row5_col2\" class=\"data row5 col2\" >0.00%</td>\n",
       "            </tr>\n",
       "    </tbody></table>"
      ],
      "text/plain": [
       "<pandas.io.formats.style.Styler at 0x7f913841b5b0>"
      ]
     },
     "execution_count": 24,
     "metadata": {},
     "output_type": "execute_result"
    }
   ],
   "source": [
    "children_pivot = df.pivot_table(index='children', columns='debt', values='education', aggfunc='count').fillna(0)\n",
    "children_pivot.columns = ['no_debt', 'debt']\n",
    "children_pivot['%'] = children_pivot['debt'] / (children_pivot['debt'] + children_pivot['no_debt'])\n",
    "children_pivot.style.format({'%':'{:.2%}', 'no_debt':'{:.0f}'})"
   ]
  },
  {
   "cell_type": "code",
   "execution_count": 25,
   "metadata": {},
   "outputs": [
    {
     "data": {
      "text/plain": [
       "'Процент клиентов с детьми, не вернувшие креди в срок 9.24%'"
      ]
     },
     "metadata": {},
     "output_type": "display_data"
    }
   ],
   "source": [
    "children_pivot_wk =  df.loc[(df['children']>=1)&(df['debt']==1)]['children'].count()/df.loc[(df['children']>=1)]['children'].count()\n",
    "#сложим и поделим все занчения с детьми\n",
    "display(f'Процент клиентов с детьми, не вернувшие креди в срок {children_pivot_wk:.2%}')"
   ]
  },
  {
   "cell_type": "markdown",
   "metadata": {},
   "source": [
    "**Вывод** \n",
    "По данным в таблице видно, что процент задержек по выплате кредита у клиентов без детей - 7.54%. Самый большой процент задержек у клиентов с 4-мя детьми - 9.76%. Так же если сравнивать клиентов с детьми и без детей (9,24 и 7,54% соответственно), видно, что у клиентов без детей процент задержек меньше."
   ]
  },
  {
   "cell_type": "markdown",
   "metadata": {},
   "source": [
    "*2. Есть ли зависимость между семейным положением и возвратом кредита в срок?*"
   ]
  },
  {
   "cell_type": "code",
   "execution_count": 26,
   "metadata": {},
   "outputs": [
    {
     "data": {
      "text/html": [
       "<style  type=\"text/css\" >\n",
       "</style><table id=\"T_60fe3_\" ><thead>    <tr>        <th class=\"blank level0\" ></th>        <th class=\"col_heading level0 col0\" >no_debt</th>        <th class=\"col_heading level0 col1\" >debt</th>        <th class=\"col_heading level0 col2\" >%</th>    </tr>    <tr>        <th class=\"index_name level0\" >family_status</th>        <th class=\"blank\" ></th>        <th class=\"blank\" ></th>        <th class=\"blank\" ></th>    </tr></thead><tbody>\n",
       "                <tr>\n",
       "                        <th id=\"T_60fe3_level0_row0\" class=\"row_heading level0 row0\" >Не женат / не замужем</th>\n",
       "                        <td id=\"T_60fe3_row0_col0\" class=\"data row0 col0\" >2536</td>\n",
       "                        <td id=\"T_60fe3_row0_col1\" class=\"data row0 col1\" >274</td>\n",
       "                        <td id=\"T_60fe3_row0_col2\" class=\"data row0 col2\" >9.75%</td>\n",
       "            </tr>\n",
       "            <tr>\n",
       "                        <th id=\"T_60fe3_level0_row1\" class=\"row_heading level0 row1\" >в разводе</th>\n",
       "                        <td id=\"T_60fe3_row1_col0\" class=\"data row1 col0\" >1110</td>\n",
       "                        <td id=\"T_60fe3_row1_col1\" class=\"data row1 col1\" >85</td>\n",
       "                        <td id=\"T_60fe3_row1_col2\" class=\"data row1 col2\" >7.11%</td>\n",
       "            </tr>\n",
       "            <tr>\n",
       "                        <th id=\"T_60fe3_level0_row2\" class=\"row_heading level0 row2\" >вдовец / вдова</th>\n",
       "                        <td id=\"T_60fe3_row2_col0\" class=\"data row2 col0\" >896</td>\n",
       "                        <td id=\"T_60fe3_row2_col1\" class=\"data row2 col1\" >63</td>\n",
       "                        <td id=\"T_60fe3_row2_col2\" class=\"data row2 col2\" >6.57%</td>\n",
       "            </tr>\n",
       "            <tr>\n",
       "                        <th id=\"T_60fe3_level0_row3\" class=\"row_heading level0 row3\" >гражданский брак</th>\n",
       "                        <td id=\"T_60fe3_row3_col0\" class=\"data row3 col0\" >3763</td>\n",
       "                        <td id=\"T_60fe3_row3_col1\" class=\"data row3 col1\" >388</td>\n",
       "                        <td id=\"T_60fe3_row3_col2\" class=\"data row3 col2\" >9.35%</td>\n",
       "            </tr>\n",
       "            <tr>\n",
       "                        <th id=\"T_60fe3_level0_row4\" class=\"row_heading level0 row4\" >женат / замужем</th>\n",
       "                        <td id=\"T_60fe3_row4_col0\" class=\"data row4 col0\" >11408</td>\n",
       "                        <td id=\"T_60fe3_row4_col1\" class=\"data row4 col1\" >931</td>\n",
       "                        <td id=\"T_60fe3_row4_col2\" class=\"data row4 col2\" >7.55%</td>\n",
       "            </tr>\n",
       "    </tbody></table>"
      ],
      "text/plain": [
       "<pandas.io.formats.style.Styler at 0x7f91381aeeb0>"
      ]
     },
     "execution_count": 26,
     "metadata": {},
     "output_type": "execute_result"
    }
   ],
   "source": [
    "family_status_pivot = df.pivot_table(index=['family_status'], columns='debt', values='education', aggfunc='count').fillna(0)\n",
    "family_status_pivot.columns = ['no_debt', 'debt']\n",
    "family_status_pivot['%'] = family_status_pivot['debt'] / (family_status_pivot['debt'] + family_status_pivot['no_debt'])\n",
    "family_status_pivot.style.format({'%':'{:.2%}', 'no_debt':'{:.0f}'})"
   ]
  },
  {
   "cell_type": "markdown",
   "metadata": {},
   "source": [
    "**Вывод**  В категориях `Не женат/ не замужем` и `гражданский брак` процент невозврата кредита в срок выше остальных, а в категории `вдовец/вдова` процент задержек самый низкий.\n"
   ]
  },
  {
   "cell_type": "markdown",
   "metadata": {},
   "source": [
    "*3. Есть ли зависимость между уровнем дохода и возвратом кредита в срок?*"
   ]
  },
  {
   "cell_type": "code",
   "execution_count": 27,
   "metadata": {},
   "outputs": [
    {
     "data": {
      "text/html": [
       "<style  type=\"text/css\" >\n",
       "</style><table id=\"T_8767d_\" ><thead>    <tr>        <th class=\"blank level0\" ></th>        <th class=\"col_heading level0 col0\" >no_debt</th>        <th class=\"col_heading level0 col1\" >debt</th>        <th class=\"col_heading level0 col2\" >%</th>    </tr>    <tr>        <th class=\"index_name level0\" >total_income_group</th>        <th class=\"blank\" ></th>        <th class=\"blank\" ></th>        <th class=\"blank\" ></th>    </tr></thead><tbody>\n",
       "                <tr>\n",
       "                        <th id=\"T_8767d_level0_row0\" class=\"row_heading level0 row0\" >низкий доход</th>\n",
       "                        <td id=\"T_8767d_row0_col0\" class=\"data row0 col0\" >3947</td>\n",
       "                        <td id=\"T_8767d_row0_col1\" class=\"data row0 col1\" >344</td>\n",
       "                        <td id=\"T_8767d_row0_col2\" class=\"data row0 col2\" >8.02%</td>\n",
       "            </tr>\n",
       "            <tr>\n",
       "                        <th id=\"T_8767d_level0_row1\" class=\"row_heading level0 row1\" >доход ниже среднего</th>\n",
       "                        <td id=\"T_8767d_row1_col0\" class=\"data row1 col0\" >3930</td>\n",
       "                        <td id=\"T_8767d_row1_col1\" class=\"data row1 col1\" >361</td>\n",
       "                        <td id=\"T_8767d_row1_col2\" class=\"data row1 col2\" >8.41%</td>\n",
       "            </tr>\n",
       "            <tr>\n",
       "                        <th id=\"T_8767d_level0_row2\" class=\"row_heading level0 row2\" >средний доход</th>\n",
       "                        <td id=\"T_8767d_row2_col0\" class=\"data row2 col0\" >3915</td>\n",
       "                        <td id=\"T_8767d_row2_col1\" class=\"data row2 col1\" >375</td>\n",
       "                        <td id=\"T_8767d_row2_col2\" class=\"data row2 col2\" >8.74%</td>\n",
       "            </tr>\n",
       "            <tr>\n",
       "                        <th id=\"T_8767d_level0_row3\" class=\"row_heading level0 row3\" >доход выше среднего</th>\n",
       "                        <td id=\"T_8767d_row3_col0\" class=\"data row3 col0\" >3930</td>\n",
       "                        <td id=\"T_8767d_row3_col1\" class=\"data row3 col1\" >361</td>\n",
       "                        <td id=\"T_8767d_row3_col2\" class=\"data row3 col2\" >8.41%</td>\n",
       "            </tr>\n",
       "            <tr>\n",
       "                        <th id=\"T_8767d_level0_row4\" class=\"row_heading level0 row4\" >высокий доход</th>\n",
       "                        <td id=\"T_8767d_row4_col0\" class=\"data row4 col0\" >3991</td>\n",
       "                        <td id=\"T_8767d_row4_col1\" class=\"data row4 col1\" >300</td>\n",
       "                        <td id=\"T_8767d_row4_col2\" class=\"data row4 col2\" >6.99%</td>\n",
       "            </tr>\n",
       "    </tbody></table>"
      ],
      "text/plain": [
       "<pandas.io.formats.style.Styler at 0x7f913842b430>"
      ]
     },
     "execution_count": 27,
     "metadata": {},
     "output_type": "execute_result"
    }
   ],
   "source": [
    "total_income_group_pivot = df.pivot_table(index='total_income_group', columns='debt', values='education', aggfunc='count').fillna(0)\n",
    "total_income_group_pivot.columns = ['no_debt', 'debt']\n",
    "total_income_group_pivot['%'] = total_income_group_pivot['debt'] / (total_income_group_pivot['debt'] + total_income_group_pivot['no_debt'])\n",
    "total_income_group_pivot.style.format({'%':'{:.2%}', 'no_debt':'{:.0f}'})"
   ]
  },
  {
   "cell_type": "markdown",
   "metadata": {},
   "source": [
    "**Вывод** Можно заметить, что процент задержек у клиентов с `высоким доходом` меньше, тогда как у клиентов со `средним доходом` процент задержек самый высокий."
   ]
  },
  {
   "cell_type": "markdown",
   "metadata": {},
   "source": [
    "*4. Как разные цели кредита влияют на его возврат в срок?*"
   ]
  },
  {
   "cell_type": "code",
   "execution_count": 28,
   "metadata": {},
   "outputs": [
    {
     "data": {
      "text/html": [
       "<style  type=\"text/css\" >\n",
       "</style><table id=\"T_0ca49_\" ><thead>    <tr>        <th class=\"blank level0\" ></th>        <th class=\"col_heading level0 col0\" >no_debt</th>        <th class=\"col_heading level0 col1\" >debt</th>        <th class=\"col_heading level0 col2\" >%</th>    </tr>    <tr>        <th class=\"index_name level0\" >purpose_category</th>        <th class=\"blank\" ></th>        <th class=\"blank\" ></th>        <th class=\"blank\" ></th>    </tr></thead><tbody>\n",
       "                <tr>\n",
       "                        <th id=\"T_0ca49_level0_row0\" class=\"row_heading level0 row0\" >автомобиль</th>\n",
       "                        <td id=\"T_0ca49_row0_col0\" class=\"data row0 col0\" >3903</td>\n",
       "                        <td id=\"T_0ca49_row0_col1\" class=\"data row0 col1\" >403</td>\n",
       "                        <td id=\"T_0ca49_row0_col2\" class=\"data row0 col2\" >9.36%</td>\n",
       "            </tr>\n",
       "            <tr>\n",
       "                        <th id=\"T_0ca49_level0_row1\" class=\"row_heading level0 row1\" >жилье</th>\n",
       "                        <td id=\"T_0ca49_row1_col0\" class=\"data row1 col0\" >4152</td>\n",
       "                        <td id=\"T_0ca49_row1_col1\" class=\"data row1 col1\" >308</td>\n",
       "                        <td id=\"T_0ca49_row1_col2\" class=\"data row1 col2\" >6.91%</td>\n",
       "            </tr>\n",
       "            <tr>\n",
       "                        <th id=\"T_0ca49_level0_row2\" class=\"row_heading level0 row2\" >недвижимость</th>\n",
       "                        <td id=\"T_0ca49_row2_col0\" class=\"data row2 col0\" >5877</td>\n",
       "                        <td id=\"T_0ca49_row2_col1\" class=\"data row2 col1\" >474</td>\n",
       "                        <td id=\"T_0ca49_row2_col2\" class=\"data row2 col2\" >7.46%</td>\n",
       "            </tr>\n",
       "            <tr>\n",
       "                        <th id=\"T_0ca49_level0_row3\" class=\"row_heading level0 row3\" >образование</th>\n",
       "                        <td id=\"T_0ca49_row3_col0\" class=\"data row3 col0\" >3643</td>\n",
       "                        <td id=\"T_0ca49_row3_col1\" class=\"data row3 col1\" >370</td>\n",
       "                        <td id=\"T_0ca49_row3_col2\" class=\"data row3 col2\" >9.22%</td>\n",
       "            </tr>\n",
       "            <tr>\n",
       "                        <th id=\"T_0ca49_level0_row4\" class=\"row_heading level0 row4\" >свадьба</th>\n",
       "                        <td id=\"T_0ca49_row4_col0\" class=\"data row4 col0\" >2138</td>\n",
       "                        <td id=\"T_0ca49_row4_col1\" class=\"data row4 col1\" >186</td>\n",
       "                        <td id=\"T_0ca49_row4_col2\" class=\"data row4 col2\" >8.00%</td>\n",
       "            </tr>\n",
       "    </tbody></table>"
      ],
      "text/plain": [
       "<pandas.io.formats.style.Styler at 0x7f91a2fc8940>"
      ]
     },
     "execution_count": 28,
     "metadata": {},
     "output_type": "execute_result"
    }
   ],
   "source": [
    "purpose_category_pivot = df.pivot_table(index='purpose_category', columns='debt', values='education', aggfunc='count').fillna(0)\n",
    "purpose_category_pivot.columns = ['no_debt', 'debt']\n",
    "purpose_category_pivot['%'] = purpose_category_pivot['debt'] / (purpose_category_pivot['debt'] + purpose_category_pivot['no_debt'])\n",
    "purpose_category_pivot.style.format({'%':'{:.2%}', 'no_debt':'{:.0f}'})"
   ]
  },
  {
   "cell_type": "markdown",
   "metadata": {},
   "source": [
    "**Вывод** Самый низкий процент задержек у клиентов из категории `жилье`, самый высокий из категории `автомобиль`."
   ]
  },
  {
   "cell_type": "markdown",
   "metadata": {},
   "source": [
    "## Общий вывод"
   ]
  },
  {
   "cell_type": "markdown",
   "metadata": {},
   "source": [
    "В ходе анализа данных проверили несколько гипотез:\n",
    "    \n",
    "    1. Есть ли зависимость между наличием детей и возвратом кредита в срок?\n",
    "    Судя по полученным цифрам, процент задержек у клиетнов имеющих детей выше(9,24%), чем у клиентов без детей(7,54%).\n",
    "    \n",
    "    2. Есть ли зависимость между семейным положением и возвратом кредита в срок?\n",
    "    Не женатые(9,75%) и живущие в гражданском браке люди(9,35%) имеют самый высокий процент задержек, тогда как в категории вдовец/вдова(6,57%) процент задержек самый низкий.\n",
    "    \n",
    "    3. Есть ли зависимость между уровнем дохода и возвратом кредита в срок?\n",
    "    Клиенты со `средним доходом` имеют самый высокий процент задержек(8,67%), а `высоким  доходом` самый низкий процет(6,99%).\n",
    "    \n",
    "    4. Как разные цели кредита влияют на его возврат в срок?\n",
    "    Самый низкий процент задержек у клиентов, которые брали кредит на жилье(6,91%). Самый высокий процент задержек у клиентов, которые брали кредит на автобомиль(9,36%)."
   ]
  }
 ],
 "metadata": {
  "ExecuteTimeLog": [
   {
    "duration": 984,
    "start_time": "2021-12-26T11:30:33.591Z"
   },
   {
    "duration": 3,
    "start_time": "2021-12-26T11:39:20.169Z"
   },
   {
    "duration": 71,
    "start_time": "2021-12-26T11:43:32.566Z"
   },
   {
    "duration": 30,
    "start_time": "2021-12-26T11:45:39.572Z"
   },
   {
    "duration": 16,
    "start_time": "2021-12-26T11:47:40.135Z"
   },
   {
    "duration": 14,
    "start_time": "2021-12-26T11:47:51.564Z"
   },
   {
    "duration": 18,
    "start_time": "2021-12-26T11:48:02.569Z"
   },
   {
    "duration": 286,
    "start_time": "2022-01-05T17:34:41.381Z"
   },
   {
    "duration": 587,
    "start_time": "2022-01-05T17:35:02.040Z"
   },
   {
    "duration": 51,
    "start_time": "2022-01-05T17:35:02.629Z"
   },
   {
    "duration": 18,
    "start_time": "2022-01-05T17:35:02.682Z"
   },
   {
    "duration": 15,
    "start_time": "2022-01-05T17:35:02.701Z"
   },
   {
    "duration": 9,
    "start_time": "2022-01-05T17:35:02.718Z"
   },
   {
    "duration": 9,
    "start_time": "2022-01-05T17:38:27.942Z"
   },
   {
    "duration": 84,
    "start_time": "2022-01-05T18:06:43.571Z"
   },
   {
    "duration": 16,
    "start_time": "2022-01-05T18:06:48.318Z"
   },
   {
    "duration": 15,
    "start_time": "2022-01-05T18:29:17.647Z"
   },
   {
    "duration": 12,
    "start_time": "2022-01-05T18:30:25.974Z"
   },
   {
    "duration": 8,
    "start_time": "2022-01-05T18:39:40.297Z"
   },
   {
    "duration": 8,
    "start_time": "2022-01-05T18:42:42.436Z"
   },
   {
    "duration": 14,
    "start_time": "2022-01-05T18:43:01.587Z"
   },
   {
    "duration": 80,
    "start_time": "2022-01-05T18:46:08.508Z"
   },
   {
    "duration": 15,
    "start_time": "2022-01-05T18:49:38.953Z"
   },
   {
    "duration": 777,
    "start_time": "2022-01-06T11:05:16.775Z"
   },
   {
    "duration": 65,
    "start_time": "2022-01-06T11:05:17.555Z"
   },
   {
    "duration": 42,
    "start_time": "2022-01-06T11:05:17.622Z"
   },
   {
    "duration": 15,
    "start_time": "2022-01-06T11:05:17.667Z"
   },
   {
    "duration": 13,
    "start_time": "2022-01-06T11:05:17.684Z"
   },
   {
    "duration": 18,
    "start_time": "2022-01-06T11:05:17.699Z"
   },
   {
    "duration": 45,
    "start_time": "2022-01-06T11:05:17.720Z"
   },
   {
    "duration": 17,
    "start_time": "2022-01-06T11:05:17.768Z"
   },
   {
    "duration": 728,
    "start_time": "2022-01-06T11:05:17.787Z"
   },
   {
    "duration": 18,
    "start_time": "2022-01-06T11:05:42.749Z"
   },
   {
    "duration": 18,
    "start_time": "2022-01-06T11:07:29.796Z"
   },
   {
    "duration": 28,
    "start_time": "2022-01-06T11:22:01.008Z"
   },
   {
    "duration": 25,
    "start_time": "2022-01-06T11:25:51.701Z"
   },
   {
    "duration": 48,
    "start_time": "2022-01-06T11:26:04.753Z"
   },
   {
    "duration": 28,
    "start_time": "2022-01-06T11:34:31.275Z"
   },
   {
    "duration": 18,
    "start_time": "2022-01-06T11:49:30.369Z"
   },
   {
    "duration": 4,
    "start_time": "2022-01-06T11:50:00.046Z"
   },
   {
    "duration": 71,
    "start_time": "2022-01-06T11:50:00.052Z"
   },
   {
    "duration": 27,
    "start_time": "2022-01-06T11:50:00.125Z"
   },
   {
    "duration": 13,
    "start_time": "2022-01-06T11:50:00.160Z"
   },
   {
    "duration": 14,
    "start_time": "2022-01-06T11:50:00.175Z"
   },
   {
    "duration": 17,
    "start_time": "2022-01-06T11:50:00.191Z"
   },
   {
    "duration": 7,
    "start_time": "2022-01-06T11:50:00.212Z"
   },
   {
    "duration": 47,
    "start_time": "2022-01-06T11:50:00.221Z"
   },
   {
    "duration": 18,
    "start_time": "2022-01-06T11:50:00.270Z"
   },
   {
    "duration": 21,
    "start_time": "2022-01-06T11:50:00.290Z"
   },
   {
    "duration": 57,
    "start_time": "2022-01-06T11:50:00.313Z"
   },
   {
    "duration": 50,
    "start_time": "2022-01-06T11:50:00.373Z"
   },
   {
    "duration": 46,
    "start_time": "2022-01-06T11:50:00.426Z"
   },
   {
    "duration": 16,
    "start_time": "2022-01-06T11:50:34.289Z"
   },
   {
    "duration": 3,
    "start_time": "2022-01-06T11:50:37.280Z"
   },
   {
    "duration": 65,
    "start_time": "2022-01-06T11:50:37.286Z"
   },
   {
    "duration": 29,
    "start_time": "2022-01-06T11:50:37.353Z"
   },
   {
    "duration": 15,
    "start_time": "2022-01-06T11:50:37.384Z"
   },
   {
    "duration": 13,
    "start_time": "2022-01-06T11:50:37.402Z"
   },
   {
    "duration": 43,
    "start_time": "2022-01-06T11:50:37.417Z"
   },
   {
    "duration": 8,
    "start_time": "2022-01-06T11:50:37.464Z"
   },
   {
    "duration": 17,
    "start_time": "2022-01-06T11:50:37.474Z"
   },
   {
    "duration": 15,
    "start_time": "2022-01-06T11:50:37.494Z"
   },
   {
    "duration": 51,
    "start_time": "2022-01-06T11:50:37.511Z"
   },
   {
    "duration": 27,
    "start_time": "2022-01-06T11:50:37.564Z"
   },
   {
    "duration": 70,
    "start_time": "2022-01-06T11:50:37.594Z"
   },
   {
    "duration": 28,
    "start_time": "2022-01-06T11:50:37.667Z"
   },
   {
    "duration": 16,
    "start_time": "2022-01-06T11:52:13.393Z"
   },
   {
    "duration": 8,
    "start_time": "2022-01-06T11:54:07.265Z"
   },
   {
    "duration": 7,
    "start_time": "2022-01-06T12:03:54.141Z"
   },
   {
    "duration": 9,
    "start_time": "2022-01-06T12:13:46.472Z"
   },
   {
    "duration": 14,
    "start_time": "2022-01-06T12:14:20.160Z"
   },
   {
    "duration": 4,
    "start_time": "2022-01-06T12:14:46.325Z"
   },
   {
    "duration": 63,
    "start_time": "2022-01-06T12:14:46.332Z"
   },
   {
    "duration": 27,
    "start_time": "2022-01-06T12:14:46.398Z"
   },
   {
    "duration": 37,
    "start_time": "2022-01-06T12:14:46.429Z"
   },
   {
    "duration": 17,
    "start_time": "2022-01-06T12:14:46.469Z"
   },
   {
    "duration": 14,
    "start_time": "2022-01-06T12:14:46.488Z"
   },
   {
    "duration": 7,
    "start_time": "2022-01-06T12:14:46.505Z"
   },
   {
    "duration": 58,
    "start_time": "2022-01-06T12:14:46.514Z"
   },
   {
    "duration": 15,
    "start_time": "2022-01-06T12:14:46.574Z"
   },
   {
    "duration": 14,
    "start_time": "2022-01-06T12:14:46.591Z"
   },
   {
    "duration": 14,
    "start_time": "2022-01-06T12:14:46.607Z"
   },
   {
    "duration": 47,
    "start_time": "2022-01-06T12:14:46.624Z"
   },
   {
    "duration": 31,
    "start_time": "2022-01-06T12:14:46.673Z"
   },
   {
    "duration": 67,
    "start_time": "2022-01-06T12:14:46.706Z"
   },
   {
    "duration": 27,
    "start_time": "2022-01-06T12:14:46.775Z"
   },
   {
    "duration": 3,
    "start_time": "2022-01-06T13:04:24.174Z"
   },
   {
    "duration": 68,
    "start_time": "2022-01-06T13:04:24.180Z"
   },
   {
    "duration": 28,
    "start_time": "2022-01-06T13:04:24.251Z"
   },
   {
    "duration": 15,
    "start_time": "2022-01-06T13:04:24.281Z"
   },
   {
    "duration": 12,
    "start_time": "2022-01-06T13:04:24.299Z"
   },
   {
    "duration": 46,
    "start_time": "2022-01-06T13:04:24.313Z"
   },
   {
    "duration": 8,
    "start_time": "2022-01-06T13:04:24.362Z"
   },
   {
    "duration": 16,
    "start_time": "2022-01-06T13:04:24.372Z"
   },
   {
    "duration": 15,
    "start_time": "2022-01-06T13:04:24.392Z"
   },
   {
    "duration": 49,
    "start_time": "2022-01-06T13:04:24.410Z"
   },
   {
    "duration": 14,
    "start_time": "2022-01-06T13:04:24.462Z"
   },
   {
    "duration": 15,
    "start_time": "2022-01-06T13:04:24.479Z"
   },
   {
    "duration": 24,
    "start_time": "2022-01-06T13:04:24.497Z"
   },
   {
    "duration": 44,
    "start_time": "2022-01-06T13:04:24.560Z"
   },
   {
    "duration": 26,
    "start_time": "2022-01-06T13:04:24.607Z"
   },
   {
    "duration": 26,
    "start_time": "2022-01-06T13:04:24.659Z"
   },
   {
    "duration": 4,
    "start_time": "2022-01-06T13:48:27.300Z"
   },
   {
    "duration": 70,
    "start_time": "2022-01-06T13:48:27.306Z"
   },
   {
    "duration": 26,
    "start_time": "2022-01-06T13:48:27.379Z"
   },
   {
    "duration": 17,
    "start_time": "2022-01-06T13:48:27.407Z"
   },
   {
    "duration": 36,
    "start_time": "2022-01-06T13:48:27.426Z"
   },
   {
    "duration": 15,
    "start_time": "2022-01-06T13:48:27.464Z"
   },
   {
    "duration": 8,
    "start_time": "2022-01-06T13:48:27.482Z"
   },
   {
    "duration": 15,
    "start_time": "2022-01-06T13:48:27.493Z"
   },
   {
    "duration": 15,
    "start_time": "2022-01-06T13:48:27.511Z"
   },
   {
    "duration": 8,
    "start_time": "2022-01-06T13:48:27.560Z"
   },
   {
    "duration": 14,
    "start_time": "2022-01-06T13:48:27.570Z"
   },
   {
    "duration": 15,
    "start_time": "2022-01-06T13:48:27.586Z"
   },
   {
    "duration": 60,
    "start_time": "2022-01-06T13:48:27.603Z"
   },
   {
    "duration": 44,
    "start_time": "2022-01-06T13:48:27.666Z"
   },
   {
    "duration": 939,
    "start_time": "2022-01-06T13:48:27.712Z"
   },
   {
    "duration": 29,
    "start_time": "2022-01-06T13:48:28.654Z"
   },
   {
    "duration": 942,
    "start_time": "2022-01-06T13:48:59.429Z"
   },
   {
    "duration": 8,
    "start_time": "2022-01-06T13:51:16.240Z"
   },
   {
    "duration": 3,
    "start_time": "2022-01-06T13:58:50.115Z"
   },
   {
    "duration": 4389,
    "start_time": "2022-01-06T14:07:05.948Z"
   },
   {
    "duration": 3,
    "start_time": "2022-01-06T14:07:19.843Z"
   },
   {
    "duration": 69,
    "start_time": "2022-01-06T14:07:19.848Z"
   },
   {
    "duration": 38,
    "start_time": "2022-01-06T14:07:19.920Z"
   },
   {
    "duration": 17,
    "start_time": "2022-01-06T14:07:19.961Z"
   },
   {
    "duration": 12,
    "start_time": "2022-01-06T14:07:19.980Z"
   },
   {
    "duration": 14,
    "start_time": "2022-01-06T14:07:19.995Z"
   },
   {
    "duration": 47,
    "start_time": "2022-01-06T14:07:20.012Z"
   },
   {
    "duration": 18,
    "start_time": "2022-01-06T14:07:20.063Z"
   },
   {
    "duration": 16,
    "start_time": "2022-01-06T14:07:20.084Z"
   },
   {
    "duration": 10,
    "start_time": "2022-01-06T14:07:20.103Z"
   },
   {
    "duration": 56,
    "start_time": "2022-01-06T14:07:20.116Z"
   },
   {
    "duration": 17,
    "start_time": "2022-01-06T14:07:20.175Z"
   },
   {
    "duration": 65,
    "start_time": "2022-01-06T14:07:20.195Z"
   },
   {
    "duration": 46,
    "start_time": "2022-01-06T14:07:20.263Z"
   },
   {
    "duration": 952,
    "start_time": "2022-01-06T14:07:20.312Z"
   },
   {
    "duration": 7,
    "start_time": "2022-01-06T14:07:21.267Z"
   },
   {
    "duration": 6,
    "start_time": "2022-01-06T14:07:21.277Z"
   },
   {
    "duration": 3756,
    "start_time": "2022-01-06T14:07:21.286Z"
   },
   {
    "duration": 40,
    "start_time": "2022-01-06T14:07:25.046Z"
   },
   {
    "duration": 715,
    "start_time": "2022-01-06T14:08:17.347Z"
   },
   {
    "duration": 3865,
    "start_time": "2022-01-06T14:08:27.157Z"
   },
   {
    "duration": 4,
    "start_time": "2022-01-06T14:08:34.741Z"
   },
   {
    "duration": 70,
    "start_time": "2022-01-06T14:08:34.748Z"
   },
   {
    "duration": 38,
    "start_time": "2022-01-06T14:08:34.821Z"
   },
   {
    "duration": 14,
    "start_time": "2022-01-06T14:08:34.862Z"
   },
   {
    "duration": 11,
    "start_time": "2022-01-06T14:08:34.879Z"
   },
   {
    "duration": 16,
    "start_time": "2022-01-06T14:08:34.893Z"
   },
   {
    "duration": 50,
    "start_time": "2022-01-06T14:08:34.914Z"
   },
   {
    "duration": 16,
    "start_time": "2022-01-06T14:08:34.966Z"
   },
   {
    "duration": 16,
    "start_time": "2022-01-06T14:08:34.984Z"
   },
   {
    "duration": 18,
    "start_time": "2022-01-06T14:08:35.002Z"
   },
   {
    "duration": 45,
    "start_time": "2022-01-06T14:08:35.023Z"
   },
   {
    "duration": 14,
    "start_time": "2022-01-06T14:08:35.070Z"
   },
   {
    "duration": 26,
    "start_time": "2022-01-06T14:08:35.087Z"
   },
   {
    "duration": 79,
    "start_time": "2022-01-06T14:08:35.115Z"
   },
   {
    "duration": 950,
    "start_time": "2022-01-06T14:08:35.197Z"
   },
   {
    "duration": 12,
    "start_time": "2022-01-06T14:08:36.150Z"
   },
   {
    "duration": 5,
    "start_time": "2022-01-06T14:08:36.164Z"
   },
   {
    "duration": 4056,
    "start_time": "2022-01-06T14:08:36.171Z"
   },
   {
    "duration": 33,
    "start_time": "2022-01-06T14:08:40.231Z"
   },
   {
    "duration": 4,
    "start_time": "2022-01-06T15:32:52.951Z"
   },
   {
    "duration": 70,
    "start_time": "2022-01-06T15:32:52.958Z"
   },
   {
    "duration": 31,
    "start_time": "2022-01-06T15:32:53.031Z"
   },
   {
    "duration": 14,
    "start_time": "2022-01-06T15:32:53.064Z"
   },
   {
    "duration": 12,
    "start_time": "2022-01-06T15:32:53.081Z"
   },
   {
    "duration": 17,
    "start_time": "2022-01-06T15:32:53.095Z"
   },
   {
    "duration": 45,
    "start_time": "2022-01-06T15:32:53.118Z"
   },
   {
    "duration": 15,
    "start_time": "2022-01-06T15:32:53.167Z"
   },
   {
    "duration": 16,
    "start_time": "2022-01-06T15:32:53.185Z"
   },
   {
    "duration": 9,
    "start_time": "2022-01-06T15:32:53.203Z"
   },
   {
    "duration": 46,
    "start_time": "2022-01-06T15:32:53.215Z"
   },
   {
    "duration": 17,
    "start_time": "2022-01-06T15:32:53.264Z"
   },
   {
    "duration": 28,
    "start_time": "2022-01-06T15:32:53.283Z"
   },
   {
    "duration": 85,
    "start_time": "2022-01-06T15:32:53.314Z"
   },
   {
    "duration": 960,
    "start_time": "2022-01-06T15:32:53.401Z"
   },
   {
    "duration": 9,
    "start_time": "2022-01-06T15:32:54.364Z"
   },
   {
    "duration": 5,
    "start_time": "2022-01-06T15:32:54.376Z"
   },
   {
    "duration": 3835,
    "start_time": "2022-01-06T15:32:54.384Z"
   },
   {
    "duration": 8,
    "start_time": "2022-01-06T15:32:58.223Z"
   },
   {
    "duration": 55,
    "start_time": "2022-01-06T15:32:58.233Z"
   },
   {
    "duration": 3973,
    "start_time": "2022-01-06T15:44:39.662Z"
   },
   {
    "duration": 170,
    "start_time": "2022-01-06T15:49:07.697Z"
   },
   {
    "duration": 23,
    "start_time": "2022-01-06T15:49:17.178Z"
   },
   {
    "duration": 16,
    "start_time": "2022-01-06T15:57:33.268Z"
   },
   {
    "duration": 17,
    "start_time": "2022-01-06T16:07:52.630Z"
   },
   {
    "duration": 21,
    "start_time": "2022-01-06T16:14:56.358Z"
   },
   {
    "duration": 4,
    "start_time": "2022-01-06T16:15:15.372Z"
   },
   {
    "duration": 73,
    "start_time": "2022-01-06T16:15:15.378Z"
   },
   {
    "duration": 32,
    "start_time": "2022-01-06T16:15:15.454Z"
   },
   {
    "duration": 43,
    "start_time": "2022-01-06T16:15:15.489Z"
   },
   {
    "duration": 24,
    "start_time": "2022-01-06T16:15:15.536Z"
   },
   {
    "duration": 16,
    "start_time": "2022-01-06T16:15:15.563Z"
   },
   {
    "duration": 8,
    "start_time": "2022-01-06T16:15:15.581Z"
   },
   {
    "duration": 18,
    "start_time": "2022-01-06T16:15:15.591Z"
   },
   {
    "duration": 53,
    "start_time": "2022-01-06T16:15:15.615Z"
   },
   {
    "duration": 15,
    "start_time": "2022-01-06T16:15:15.671Z"
   },
   {
    "duration": 14,
    "start_time": "2022-01-06T16:15:15.689Z"
   },
   {
    "duration": 18,
    "start_time": "2022-01-06T16:15:15.705Z"
   },
   {
    "duration": 24,
    "start_time": "2022-01-06T16:15:15.759Z"
   },
   {
    "duration": 42,
    "start_time": "2022-01-06T16:15:15.786Z"
   },
   {
    "duration": 1068,
    "start_time": "2022-01-06T16:15:15.830Z"
   },
   {
    "duration": 9,
    "start_time": "2022-01-06T16:15:16.901Z"
   },
   {
    "duration": 4,
    "start_time": "2022-01-06T16:15:16.913Z"
   },
   {
    "duration": 4065,
    "start_time": "2022-01-06T16:15:16.920Z"
   },
   {
    "duration": 20,
    "start_time": "2022-01-06T16:15:20.987Z"
   },
   {
    "duration": 14,
    "start_time": "2022-01-06T16:15:21.010Z"
   },
   {
    "duration": 43,
    "start_time": "2022-01-06T16:15:21.027Z"
   },
   {
    "duration": 31,
    "start_time": "2022-01-06T16:15:21.072Z"
   },
   {
    "duration": 380,
    "start_time": "2022-01-06T17:02:18.119Z"
   },
   {
    "duration": 10784,
    "start_time": "2022-01-06T17:02:54.019Z"
   },
   {
    "duration": 910,
    "start_time": "2022-01-06T17:04:49.319Z"
   },
   {
    "duration": 32,
    "start_time": "2022-01-06T17:09:51.108Z"
   },
   {
    "duration": 5010,
    "start_time": "2022-01-06T17:24:00.460Z"
   },
   {
    "duration": 161,
    "start_time": "2022-01-06T17:24:30.850Z"
   },
   {
    "duration": 454,
    "start_time": "2022-01-06T17:24:37.722Z"
   },
   {
    "duration": 34,
    "start_time": "2022-01-06T17:24:49.582Z"
   },
   {
    "duration": 30,
    "start_time": "2022-01-06T17:25:56.614Z"
   },
   {
    "duration": 108,
    "start_time": "2022-01-06T17:26:24.810Z"
   },
   {
    "duration": 44,
    "start_time": "2022-01-06T17:27:18.185Z"
   },
   {
    "duration": 390,
    "start_time": "2022-01-06T17:32:22.998Z"
   },
   {
    "duration": 4,
    "start_time": "2022-01-06T17:32:47.778Z"
   },
   {
    "duration": 6,
    "start_time": "2022-01-06T17:38:15.628Z"
   },
   {
    "duration": 10,
    "start_time": "2022-01-06T17:39:11.367Z"
   },
   {
    "duration": 7,
    "start_time": "2022-01-06T17:39:21.196Z"
   },
   {
    "duration": 8,
    "start_time": "2022-01-06T17:40:31.701Z"
   },
   {
    "duration": 7,
    "start_time": "2022-01-06T17:41:39.125Z"
   },
   {
    "duration": 2067,
    "start_time": "2022-01-06T17:48:00.072Z"
   },
   {
    "duration": 42,
    "start_time": "2022-01-06T17:48:43.648Z"
   },
   {
    "duration": 29,
    "start_time": "2022-01-06T17:48:59.887Z"
   },
   {
    "duration": 1009,
    "start_time": "2022-01-06T17:56:13.516Z"
   },
   {
    "duration": 33,
    "start_time": "2022-01-06T17:58:23.474Z"
   },
   {
    "duration": 32,
    "start_time": "2022-01-06T18:04:16.074Z"
   },
   {
    "duration": 30,
    "start_time": "2022-01-06T18:12:05.380Z"
   },
   {
    "duration": 4,
    "start_time": "2022-01-06T18:14:35.521Z"
   },
   {
    "duration": 74,
    "start_time": "2022-01-06T18:14:35.528Z"
   },
   {
    "duration": 27,
    "start_time": "2022-01-06T18:14:35.605Z"
   },
   {
    "duration": 42,
    "start_time": "2022-01-06T18:14:35.635Z"
   },
   {
    "duration": 15,
    "start_time": "2022-01-06T18:14:35.680Z"
   },
   {
    "duration": 16,
    "start_time": "2022-01-06T18:14:35.698Z"
   },
   {
    "duration": 7,
    "start_time": "2022-01-06T18:14:35.718Z"
   },
   {
    "duration": 63,
    "start_time": "2022-01-06T18:14:35.728Z"
   },
   {
    "duration": 16,
    "start_time": "2022-01-06T18:14:35.794Z"
   },
   {
    "duration": 10,
    "start_time": "2022-01-06T18:14:35.813Z"
   },
   {
    "duration": 38,
    "start_time": "2022-01-06T18:14:35.826Z"
   },
   {
    "duration": 20,
    "start_time": "2022-01-06T18:14:35.867Z"
   },
   {
    "duration": 23,
    "start_time": "2022-01-06T18:14:35.890Z"
   },
   {
    "duration": 70,
    "start_time": "2022-01-06T18:14:35.916Z"
   },
   {
    "duration": 1133,
    "start_time": "2022-01-06T18:14:35.988Z"
   },
   {
    "duration": 10,
    "start_time": "2022-01-06T18:14:37.125Z"
   },
   {
    "duration": 26,
    "start_time": "2022-01-06T18:14:37.137Z"
   },
   {
    "duration": 4660,
    "start_time": "2022-01-06T18:14:37.165Z"
   },
   {
    "duration": 20,
    "start_time": "2022-01-06T18:14:41.828Z"
   },
   {
    "duration": 19,
    "start_time": "2022-01-06T18:14:41.866Z"
   },
   {
    "duration": 20,
    "start_time": "2022-01-06T18:14:41.888Z"
   },
   {
    "duration": 11666,
    "start_time": "2022-01-06T18:14:41.910Z"
   },
   {
    "duration": -821,
    "start_time": "2022-01-06T18:14:54.401Z"
   },
   {
    "duration": -835,
    "start_time": "2022-01-06T18:14:54.417Z"
   },
   {
    "duration": -841,
    "start_time": "2022-01-06T18:14:54.425Z"
   },
   {
    "duration": -841,
    "start_time": "2022-01-06T18:14:54.428Z"
   },
   {
    "duration": 32,
    "start_time": "2022-01-06T18:15:21.808Z"
   },
   {
    "duration": 7,
    "start_time": "2022-01-06T18:15:28.881Z"
   },
   {
    "duration": 35,
    "start_time": "2022-01-06T18:15:34.073Z"
   },
   {
    "duration": 32,
    "start_time": "2022-01-06T18:15:42.954Z"
   },
   {
    "duration": 30,
    "start_time": "2022-01-06T18:15:51.457Z"
   },
   {
    "duration": 15,
    "start_time": "2022-01-06T18:17:34.663Z"
   },
   {
    "duration": 10,
    "start_time": "2022-01-06T18:20:55.445Z"
   },
   {
    "duration": 446,
    "start_time": "2022-01-12T08:14:56.517Z"
   },
   {
    "duration": 818,
    "start_time": "2022-01-12T08:15:02.333Z"
   },
   {
    "duration": 69,
    "start_time": "2022-01-12T08:15:03.154Z"
   },
   {
    "duration": 52,
    "start_time": "2022-01-12T08:15:03.226Z"
   },
   {
    "duration": 26,
    "start_time": "2022-01-12T08:15:03.281Z"
   },
   {
    "duration": 17,
    "start_time": "2022-01-12T08:15:03.310Z"
   },
   {
    "duration": 46,
    "start_time": "2022-01-12T08:15:03.330Z"
   },
   {
    "duration": 17,
    "start_time": "2022-01-12T08:15:03.379Z"
   },
   {
    "duration": 17,
    "start_time": "2022-01-12T08:15:03.400Z"
   },
   {
    "duration": 18,
    "start_time": "2022-01-12T08:15:03.419Z"
   },
   {
    "duration": 28,
    "start_time": "2022-01-12T08:15:03.440Z"
   },
   {
    "duration": 23,
    "start_time": "2022-01-12T08:15:03.471Z"
   },
   {
    "duration": 24,
    "start_time": "2022-01-12T08:15:03.496Z"
   },
   {
    "duration": 52,
    "start_time": "2022-01-12T08:15:03.522Z"
   },
   {
    "duration": 46,
    "start_time": "2022-01-12T08:15:03.576Z"
   },
   {
    "duration": 1013,
    "start_time": "2022-01-12T08:15:03.624Z"
   },
   {
    "duration": 19,
    "start_time": "2022-01-12T08:15:04.639Z"
   },
   {
    "duration": 5,
    "start_time": "2022-01-12T08:15:04.660Z"
   },
   {
    "duration": 4164,
    "start_time": "2022-01-12T08:15:04.668Z"
   },
   {
    "duration": 41,
    "start_time": "2022-01-12T08:15:08.835Z"
   },
   {
    "duration": 16,
    "start_time": "2022-01-12T08:15:08.878Z"
   },
   {
    "duration": 16,
    "start_time": "2022-01-12T08:15:08.897Z"
   },
   {
    "duration": 9,
    "start_time": "2022-01-12T08:15:08.915Z"
   },
   {
    "duration": 1132,
    "start_time": "2022-01-12T08:15:08.960Z"
   },
   {
    "duration": 8,
    "start_time": "2022-01-12T08:15:10.095Z"
   },
   {
    "duration": 73,
    "start_time": "2022-01-12T08:15:10.107Z"
   },
   {
    "duration": 40,
    "start_time": "2022-01-12T08:15:10.183Z"
   },
   {
    "duration": 59,
    "start_time": "2022-01-12T08:15:10.226Z"
   },
   {
    "duration": 30,
    "start_time": "2022-01-12T08:16:13.709Z"
   },
   {
    "duration": 6,
    "start_time": "2022-01-12T08:25:04.707Z"
   },
   {
    "duration": 6,
    "start_time": "2022-01-12T08:25:58.332Z"
   },
   {
    "duration": 6,
    "start_time": "2022-01-12T08:26:03.743Z"
   },
   {
    "duration": 7,
    "start_time": "2022-01-12T08:26:19.821Z"
   },
   {
    "duration": 7,
    "start_time": "2022-01-12T08:29:05.857Z"
   },
   {
    "duration": 425,
    "start_time": "2022-01-12T08:29:51.660Z"
   },
   {
    "duration": 29,
    "start_time": "2022-01-12T08:30:12.406Z"
   },
   {
    "duration": 6,
    "start_time": "2022-01-12T08:36:06.942Z"
   },
   {
    "duration": 6,
    "start_time": "2022-01-12T08:36:19.305Z"
   },
   {
    "duration": 125,
    "start_time": "2022-01-12T09:16:49.032Z"
   },
   {
    "duration": 213,
    "start_time": "2022-01-12T12:42:36.529Z"
   },
   {
    "duration": 822,
    "start_time": "2022-01-13T19:17:31.561Z"
   },
   {
    "duration": 63,
    "start_time": "2022-01-13T19:17:32.385Z"
   },
   {
    "duration": 40,
    "start_time": "2022-01-13T19:17:32.451Z"
   },
   {
    "duration": 15,
    "start_time": "2022-01-13T19:17:32.494Z"
   },
   {
    "duration": 12,
    "start_time": "2022-01-13T19:17:32.511Z"
   },
   {
    "duration": 50,
    "start_time": "2022-01-13T19:17:32.525Z"
   },
   {
    "duration": 9,
    "start_time": "2022-01-13T19:17:32.578Z"
   },
   {
    "duration": 22,
    "start_time": "2022-01-13T19:17:32.590Z"
   },
   {
    "duration": 53,
    "start_time": "2022-01-13T19:17:32.618Z"
   },
   {
    "duration": 8,
    "start_time": "2022-01-13T19:17:32.681Z"
   },
   {
    "duration": 12,
    "start_time": "2022-01-13T19:17:32.692Z"
   },
   {
    "duration": 21,
    "start_time": "2022-01-13T19:17:32.707Z"
   },
   {
    "duration": 31,
    "start_time": "2022-01-13T19:17:32.764Z"
   },
   {
    "duration": 67,
    "start_time": "2022-01-13T19:17:32.798Z"
   },
   {
    "duration": 1004,
    "start_time": "2022-01-13T19:17:32.868Z"
   },
   {
    "duration": 7,
    "start_time": "2022-01-13T19:17:33.875Z"
   },
   {
    "duration": 6,
    "start_time": "2022-01-13T19:17:33.885Z"
   },
   {
    "duration": 3876,
    "start_time": "2022-01-13T19:17:33.894Z"
   },
   {
    "duration": 22,
    "start_time": "2022-01-13T19:17:37.772Z"
   },
   {
    "duration": 16,
    "start_time": "2022-01-13T19:17:37.797Z"
   },
   {
    "duration": 57,
    "start_time": "2022-01-13T19:17:37.815Z"
   },
   {
    "duration": 11,
    "start_time": "2022-01-13T19:17:37.874Z"
   },
   {
    "duration": 1311,
    "start_time": "2022-01-13T19:17:37.887Z"
   },
   {
    "duration": 6,
    "start_time": "2022-01-13T19:17:39.201Z"
   },
   {
    "duration": 59,
    "start_time": "2022-01-13T19:17:39.209Z"
   },
   {
    "duration": 37,
    "start_time": "2022-01-13T19:17:39.271Z"
   },
   {
    "duration": 63,
    "start_time": "2022-01-13T19:17:39.313Z"
   },
   {
    "duration": 22,
    "start_time": "2022-01-13T19:20:18.173Z"
   },
   {
    "duration": 49,
    "start_time": "2022-01-13T19:20:26.325Z"
   },
   {
    "duration": 29,
    "start_time": "2022-01-13T19:20:31.958Z"
   },
   {
    "duration": 23,
    "start_time": "2022-01-13T19:20:36.993Z"
   },
   {
    "duration": 23,
    "start_time": "2022-01-13T19:21:06.331Z"
   },
   {
    "duration": 17,
    "start_time": "2022-01-13T19:25:54.243Z"
   },
   {
    "duration": 19,
    "start_time": "2022-01-13T19:26:05.024Z"
   },
   {
    "duration": 26,
    "start_time": "2022-01-13T19:26:20.419Z"
   },
   {
    "duration": 3,
    "start_time": "2022-01-16T18:16:24.553Z"
   },
   {
    "duration": 212,
    "start_time": "2022-01-16T18:16:43.389Z"
   },
   {
    "duration": 569,
    "start_time": "2022-01-16T18:16:53.591Z"
   },
   {
    "duration": 50,
    "start_time": "2022-01-16T18:16:54.161Z"
   },
   {
    "duration": 23,
    "start_time": "2022-01-16T18:16:54.213Z"
   },
   {
    "duration": 12,
    "start_time": "2022-01-16T18:16:54.237Z"
   },
   {
    "duration": 9,
    "start_time": "2022-01-16T18:16:54.251Z"
   },
   {
    "duration": 36,
    "start_time": "2022-01-16T18:16:54.261Z"
   },
   {
    "duration": 6,
    "start_time": "2022-01-16T18:16:54.298Z"
   },
   {
    "duration": 12,
    "start_time": "2022-01-16T18:16:54.306Z"
   },
   {
    "duration": 11,
    "start_time": "2022-01-16T18:16:54.319Z"
   },
   {
    "duration": 8,
    "start_time": "2022-01-16T18:16:54.331Z"
   },
   {
    "duration": 9,
    "start_time": "2022-01-16T18:16:54.341Z"
   },
   {
    "duration": 49,
    "start_time": "2022-01-16T18:16:54.352Z"
   },
   {
    "duration": 17,
    "start_time": "2022-01-16T18:16:54.403Z"
   },
   {
    "duration": 27,
    "start_time": "2022-01-16T18:16:54.421Z"
   },
   {
    "duration": 661,
    "start_time": "2022-01-16T18:16:54.450Z"
   },
   {
    "duration": 6,
    "start_time": "2022-01-16T18:16:55.113Z"
   },
   {
    "duration": 5,
    "start_time": "2022-01-16T18:16:55.120Z"
   },
   {
    "duration": 23,
    "start_time": "2022-01-16T18:16:55.127Z"
   },
   {
    "duration": 2896,
    "start_time": "2022-01-16T18:16:55.152Z"
   },
   {
    "duration": 13,
    "start_time": "2022-01-16T18:16:58.050Z"
   },
   {
    "duration": 31,
    "start_time": "2022-01-16T18:16:58.065Z"
   },
   {
    "duration": 12,
    "start_time": "2022-01-16T18:16:58.098Z"
   },
   {
    "duration": 6,
    "start_time": "2022-01-16T18:16:58.113Z"
   },
   {
    "duration": 432,
    "start_time": "2022-01-16T18:16:58.121Z"
   },
   {
    "duration": 5,
    "start_time": "2022-01-16T18:16:58.555Z"
   },
   {
    "duration": 15,
    "start_time": "2022-01-16T18:16:58.561Z"
   },
   {
    "duration": 21,
    "start_time": "2022-01-16T18:16:58.578Z"
   },
   {
    "duration": 13,
    "start_time": "2022-01-16T18:16:58.600Z"
   },
   {
    "duration": 24,
    "start_time": "2022-01-16T18:16:58.614Z"
   },
   {
    "duration": 22,
    "start_time": "2022-01-16T18:16:58.640Z"
   },
   {
    "duration": 46,
    "start_time": "2022-01-16T18:16:58.663Z"
   },
   {
    "duration": 678,
    "start_time": "2022-01-16T18:20:23.348Z"
   },
   {
    "duration": 11,
    "start_time": "2022-01-16T18:20:49.831Z"
   },
   {
    "duration": 3,
    "start_time": "2022-01-16T18:22:17.468Z"
   },
   {
    "duration": 54,
    "start_time": "2022-01-16T18:22:17.473Z"
   },
   {
    "duration": 19,
    "start_time": "2022-01-16T18:22:17.529Z"
   },
   {
    "duration": 15,
    "start_time": "2022-01-16T18:22:17.550Z"
   },
   {
    "duration": 32,
    "start_time": "2022-01-16T18:22:17.567Z"
   },
   {
    "duration": 10,
    "start_time": "2022-01-16T18:22:17.601Z"
   },
   {
    "duration": 5,
    "start_time": "2022-01-16T18:22:17.614Z"
   },
   {
    "duration": 12,
    "start_time": "2022-01-16T18:22:17.621Z"
   },
   {
    "duration": 10,
    "start_time": "2022-01-16T18:22:17.635Z"
   },
   {
    "duration": 7,
    "start_time": "2022-01-16T18:22:17.647Z"
   },
   {
    "duration": 43,
    "start_time": "2022-01-16T18:22:17.656Z"
   },
   {
    "duration": 12,
    "start_time": "2022-01-16T18:22:17.701Z"
   },
   {
    "duration": 16,
    "start_time": "2022-01-16T18:22:17.715Z"
   },
   {
    "duration": 31,
    "start_time": "2022-01-16T18:22:17.732Z"
   },
   {
    "duration": 707,
    "start_time": "2022-01-16T18:22:17.765Z"
   },
   {
    "duration": 5,
    "start_time": "2022-01-16T18:22:18.474Z"
   },
   {
    "duration": 10,
    "start_time": "2022-01-16T18:22:18.481Z"
   },
   {
    "duration": 18,
    "start_time": "2022-01-16T18:22:18.493Z"
   },
   {
    "duration": 2927,
    "start_time": "2022-01-16T18:22:18.514Z"
   },
   {
    "duration": 15,
    "start_time": "2022-01-16T18:22:21.443Z"
   },
   {
    "duration": 37,
    "start_time": "2022-01-16T18:22:21.460Z"
   },
   {
    "duration": 12,
    "start_time": "2022-01-16T18:22:21.499Z"
   },
   {
    "duration": 7,
    "start_time": "2022-01-16T18:22:21.513Z"
   },
   {
    "duration": 45,
    "start_time": "2022-01-16T18:22:21.522Z"
   },
   {
    "duration": 4,
    "start_time": "2022-01-16T18:22:21.568Z"
   },
   {
    "duration": 22,
    "start_time": "2022-01-16T18:22:21.575Z"
   },
   {
    "duration": 14,
    "start_time": "2022-01-16T18:22:21.599Z"
   },
   {
    "duration": 14,
    "start_time": "2022-01-16T18:22:21.615Z"
   },
   {
    "duration": 28,
    "start_time": "2022-01-16T18:22:21.631Z"
   },
   {
    "duration": 58,
    "start_time": "2022-01-16T18:22:21.661Z"
   },
   {
    "duration": 21,
    "start_time": "2022-01-16T18:22:21.721Z"
   },
   {
    "duration": 747,
    "start_time": "2022-01-31T16:26:32.952Z"
   },
   {
    "duration": 68,
    "start_time": "2022-01-31T16:26:33.702Z"
   },
   {
    "duration": 37,
    "start_time": "2022-01-31T16:26:33.773Z"
   },
   {
    "duration": 40,
    "start_time": "2022-01-31T16:26:33.813Z"
   },
   {
    "duration": 14,
    "start_time": "2022-01-31T16:26:33.856Z"
   },
   {
    "duration": 16,
    "start_time": "2022-01-31T16:26:33.873Z"
   },
   {
    "duration": 8,
    "start_time": "2022-01-31T16:26:33.892Z"
   },
   {
    "duration": 59,
    "start_time": "2022-01-31T16:26:33.902Z"
   },
   {
    "duration": 17,
    "start_time": "2022-01-31T16:26:33.966Z"
   },
   {
    "duration": 14,
    "start_time": "2022-01-31T16:26:33.986Z"
   },
   {
    "duration": 46,
    "start_time": "2022-01-31T16:26:34.004Z"
   },
   {
    "duration": 19,
    "start_time": "2022-01-31T16:26:34.052Z"
   },
   {
    "duration": 24,
    "start_time": "2022-01-31T16:26:34.073Z"
   },
   {
    "duration": 78,
    "start_time": "2022-01-31T16:26:34.100Z"
   },
   {
    "duration": 910,
    "start_time": "2022-01-31T16:26:34.180Z"
   },
   {
    "duration": 7,
    "start_time": "2022-01-31T16:26:35.093Z"
   },
   {
    "duration": 10,
    "start_time": "2022-01-31T16:26:35.103Z"
   },
   {
    "duration": 42,
    "start_time": "2022-01-31T16:26:35.115Z"
   },
   {
    "duration": 4415,
    "start_time": "2022-01-31T16:26:35.160Z"
   },
   {
    "duration": 19,
    "start_time": "2022-01-31T16:26:39.578Z"
   },
   {
    "duration": 15,
    "start_time": "2022-01-31T16:26:39.599Z"
   },
   {
    "duration": 47,
    "start_time": "2022-01-31T16:26:39.616Z"
   },
   {
    "duration": 10,
    "start_time": "2022-01-31T16:26:39.665Z"
   },
   {
    "duration": 867,
    "start_time": "2022-01-31T16:26:39.677Z"
   },
   {
    "duration": 6,
    "start_time": "2022-01-31T16:26:40.547Z"
   },
   {
    "duration": 27,
    "start_time": "2022-01-31T16:26:40.556Z"
   },
   {
    "duration": 19,
    "start_time": "2022-01-31T16:26:40.588Z"
   },
   {
    "duration": 47,
    "start_time": "2022-01-31T16:26:40.610Z"
   },
   {
    "duration": 35,
    "start_time": "2022-01-31T16:26:40.660Z"
   },
   {
    "duration": 59,
    "start_time": "2022-01-31T16:26:40.699Z"
   },
   {
    "duration": 31,
    "start_time": "2022-01-31T16:26:40.761Z"
   },
   {
    "duration": 6,
    "start_time": "2022-01-31T16:28:12.319Z"
   },
   {
    "duration": 6,
    "start_time": "2022-01-31T16:28:45.831Z"
   },
   {
    "duration": 5,
    "start_time": "2022-01-31T16:28:51.715Z"
   },
   {
    "duration": 428,
    "start_time": "2022-01-31T16:38:48.558Z"
   },
   {
    "duration": 414,
    "start_time": "2022-01-31T16:40:59.262Z"
   },
   {
    "duration": 285,
    "start_time": "2022-01-31T16:44:34.412Z"
   },
   {
    "duration": 700,
    "start_time": "2022-01-31T16:51:24.723Z"
   },
   {
    "duration": 25,
    "start_time": "2022-01-31T16:54:19.933Z"
   },
   {
    "duration": 14,
    "start_time": "2022-01-31T17:02:46.168Z"
   },
   {
    "duration": 14,
    "start_time": "2022-01-31T17:03:16.490Z"
   },
   {
    "duration": 560,
    "start_time": "2022-02-22T10:47:13.195Z"
   },
   {
    "duration": 54,
    "start_time": "2022-02-22T10:47:13.759Z"
   },
   {
    "duration": 23,
    "start_time": "2022-02-22T10:47:13.815Z"
   },
   {
    "duration": 16,
    "start_time": "2022-02-22T10:47:13.840Z"
   },
   {
    "duration": 12,
    "start_time": "2022-02-22T10:47:13.858Z"
   },
   {
    "duration": 12,
    "start_time": "2022-02-22T10:47:13.872Z"
   },
   {
    "duration": 3,
    "start_time": "2022-02-22T10:47:13.885Z"
   },
   {
    "duration": 255,
    "start_time": "2022-02-22T10:47:13.891Z"
   },
   {
    "duration": -783,
    "start_time": "2022-02-22T10:47:14.931Z"
   },
   {
    "duration": -806,
    "start_time": "2022-02-22T10:47:14.955Z"
   },
   {
    "duration": -892,
    "start_time": "2022-02-22T10:47:15.042Z"
   },
   {
    "duration": -924,
    "start_time": "2022-02-22T10:47:15.075Z"
   },
   {
    "duration": -944,
    "start_time": "2022-02-22T10:47:15.096Z"
   },
   {
    "duration": -967,
    "start_time": "2022-02-22T10:47:15.120Z"
   },
   {
    "duration": -997,
    "start_time": "2022-02-22T10:47:15.152Z"
   },
   {
    "duration": -1015,
    "start_time": "2022-02-22T10:47:15.170Z"
   },
   {
    "duration": -1029,
    "start_time": "2022-02-22T10:47:15.185Z"
   },
   {
    "duration": -1040,
    "start_time": "2022-02-22T10:47:15.197Z"
   },
   {
    "duration": -1062,
    "start_time": "2022-02-22T10:47:15.220Z"
   },
   {
    "duration": -1083,
    "start_time": "2022-02-22T10:47:15.242Z"
   },
   {
    "duration": -1121,
    "start_time": "2022-02-22T10:47:15.281Z"
   },
   {
    "duration": -1137,
    "start_time": "2022-02-22T10:47:15.298Z"
   },
   {
    "duration": -1152,
    "start_time": "2022-02-22T10:47:15.315Z"
   },
   {
    "duration": -1173,
    "start_time": "2022-02-22T10:47:15.337Z"
   },
   {
    "duration": -1183,
    "start_time": "2022-02-22T10:47:15.348Z"
   },
   {
    "duration": -1197,
    "start_time": "2022-02-22T10:47:15.363Z"
   },
   {
    "duration": -1223,
    "start_time": "2022-02-22T10:47:15.391Z"
   },
   {
    "duration": -1238,
    "start_time": "2022-02-22T10:47:15.407Z"
   },
   {
    "duration": -1244,
    "start_time": "2022-02-22T10:47:15.414Z"
   },
   {
    "duration": -1251,
    "start_time": "2022-02-22T10:47:15.422Z"
   },
   {
    "duration": -1256,
    "start_time": "2022-02-22T10:47:15.428Z"
   },
   {
    "duration": -1262,
    "start_time": "2022-02-22T10:47:15.435Z"
   },
   {
    "duration": -1267,
    "start_time": "2022-02-22T10:47:15.441Z"
   },
   {
    "duration": 375,
    "start_time": "2022-02-22T10:47:48.656Z"
   },
   {
    "duration": 11,
    "start_time": "2022-02-22T10:47:56.475Z"
   },
   {
    "duration": 391,
    "start_time": "2022-02-22T10:49:50.980Z"
   },
   {
    "duration": 10,
    "start_time": "2022-02-22T10:49:55.855Z"
   },
   {
    "duration": 3,
    "start_time": "2022-02-22T10:50:42.135Z"
   },
   {
    "duration": 55,
    "start_time": "2022-02-22T10:50:42.141Z"
   },
   {
    "duration": 18,
    "start_time": "2022-02-22T10:50:42.197Z"
   },
   {
    "duration": 19,
    "start_time": "2022-02-22T10:50:42.217Z"
   },
   {
    "duration": 10,
    "start_time": "2022-02-22T10:50:42.259Z"
   },
   {
    "duration": 23,
    "start_time": "2022-02-22T10:50:42.271Z"
   },
   {
    "duration": 3,
    "start_time": "2022-02-22T10:50:42.295Z"
   },
   {
    "duration": 401,
    "start_time": "2022-02-22T10:50:42.299Z"
   },
   {
    "duration": 396,
    "start_time": "2022-02-22T10:50:42.703Z"
   },
   {
    "duration": 9,
    "start_time": "2022-02-22T10:50:43.101Z"
   },
   {
    "duration": 11,
    "start_time": "2022-02-22T10:50:43.112Z"
   },
   {
    "duration": 9,
    "start_time": "2022-02-22T10:50:43.124Z"
   },
   {
    "duration": 31,
    "start_time": "2022-02-22T10:50:43.135Z"
   },
   {
    "duration": 14,
    "start_time": "2022-02-22T10:50:43.167Z"
   },
   {
    "duration": 17,
    "start_time": "2022-02-22T10:50:43.183Z"
   },
   {
    "duration": 31,
    "start_time": "2022-02-22T10:50:43.202Z"
   },
   {
    "duration": 669,
    "start_time": "2022-02-22T10:50:43.235Z"
   },
   {
    "duration": 5,
    "start_time": "2022-02-22T10:50:43.906Z"
   },
   {
    "duration": 6,
    "start_time": "2022-02-22T10:50:43.913Z"
   },
   {
    "duration": 20,
    "start_time": "2022-02-22T10:50:43.920Z"
   },
   {
    "duration": 2903,
    "start_time": "2022-02-22T10:50:43.942Z"
   },
   {
    "duration": 22,
    "start_time": "2022-02-22T10:50:46.847Z"
   },
   {
    "duration": 11,
    "start_time": "2022-02-22T10:50:46.870Z"
   },
   {
    "duration": 11,
    "start_time": "2022-02-22T10:50:46.884Z"
   },
   {
    "duration": 7,
    "start_time": "2022-02-22T10:50:46.897Z"
   },
   {
    "duration": 413,
    "start_time": "2022-02-22T10:50:46.905Z"
   },
   {
    "duration": 6,
    "start_time": "2022-02-22T10:50:47.320Z"
   },
   {
    "duration": 20,
    "start_time": "2022-02-22T10:50:47.328Z"
   },
   {
    "duration": 14,
    "start_time": "2022-02-22T10:50:47.358Z"
   },
   {
    "duration": 14,
    "start_time": "2022-02-22T10:50:47.373Z"
   },
   {
    "duration": 14,
    "start_time": "2022-02-22T10:50:47.388Z"
   },
   {
    "duration": 23,
    "start_time": "2022-02-22T10:50:47.404Z"
   },
   {
    "duration": 54,
    "start_time": "2022-02-22T10:50:47.428Z"
   },
   {
    "duration": 21,
    "start_time": "2022-02-22T10:50:47.483Z"
   },
   {
    "duration": 1646,
    "start_time": "2022-02-22T10:55:56.136Z"
   },
   {
    "duration": 356,
    "start_time": "2022-08-11T16:44:09.445Z"
   },
   {
    "duration": 298,
    "start_time": "2022-08-11T16:44:09.802Z"
   },
   {
    "duration": 17,
    "start_time": "2022-08-11T16:44:10.101Z"
   },
   {
    "duration": 15,
    "start_time": "2022-08-11T16:44:10.120Z"
   },
   {
    "duration": 8,
    "start_time": "2022-08-11T16:44:10.137Z"
   },
   {
    "duration": 20,
    "start_time": "2022-08-11T16:44:10.146Z"
   },
   {
    "duration": 233,
    "start_time": "2022-08-11T16:44:10.168Z"
   },
   {
    "duration": 229,
    "start_time": "2022-08-11T16:44:10.403Z"
   },
   {
    "duration": 10,
    "start_time": "2022-08-11T16:44:10.634Z"
   },
   {
    "duration": 9,
    "start_time": "2022-08-11T16:44:10.647Z"
   },
   {
    "duration": 8,
    "start_time": "2022-08-11T16:44:10.657Z"
   },
   {
    "duration": 15,
    "start_time": "2022-08-11T16:44:10.666Z"
   },
   {
    "duration": 35,
    "start_time": "2022-08-11T16:44:10.683Z"
   },
   {
    "duration": 17,
    "start_time": "2022-08-11T16:44:10.720Z"
   },
   {
    "duration": 30,
    "start_time": "2022-08-11T16:44:10.739Z"
   },
   {
    "duration": 639,
    "start_time": "2022-08-11T16:44:10.771Z"
   },
   {
    "duration": 5,
    "start_time": "2022-08-11T16:44:11.412Z"
   },
   {
    "duration": 9,
    "start_time": "2022-08-11T16:44:11.419Z"
   },
   {
    "duration": 2325,
    "start_time": "2022-08-11T16:44:11.430Z"
   },
   {
    "duration": 13,
    "start_time": "2022-08-11T16:44:13.757Z"
   },
   {
    "duration": 10,
    "start_time": "2022-08-11T16:44:13.772Z"
   },
   {
    "duration": 31,
    "start_time": "2022-08-11T16:44:13.783Z"
   },
   {
    "duration": 6,
    "start_time": "2022-08-11T16:44:13.815Z"
   },
   {
    "duration": 480,
    "start_time": "2022-08-11T16:44:13.823Z"
   },
   {
    "duration": 12,
    "start_time": "2022-08-11T16:44:14.305Z"
   },
   {
    "duration": 23,
    "start_time": "2022-08-11T16:44:14.318Z"
   },
   {
    "duration": 17,
    "start_time": "2022-08-11T16:44:14.343Z"
   },
   {
    "duration": 16,
    "start_time": "2022-08-11T16:44:14.363Z"
   }
  ],
  "kernelspec": {
   "display_name": "Python 3 (ipykernel)",
   "language": "python",
   "name": "python3"
  },
  "language_info": {
   "codemirror_mode": {
    "name": "ipython",
    "version": 3
   },
   "file_extension": ".py",
   "mimetype": "text/x-python",
   "name": "python",
   "nbconvert_exporter": "python",
   "pygments_lexer": "ipython3",
   "version": "3.9.5"
  },
  "toc": {
   "base_numbering": 1,
   "nav_menu": {},
   "number_sections": true,
   "sideBar": true,
   "skip_h1_title": true,
   "title_cell": "Table of Contents",
   "title_sidebar": "Contents",
   "toc_cell": true,
   "toc_position": {
    "height": "calc(100% - 180px)",
    "left": "10px",
    "top": "150px",
    "width": "230px"
   },
   "toc_section_display": true,
   "toc_window_display": true
  }
 },
 "nbformat": 4,
 "nbformat_minor": 2
}
